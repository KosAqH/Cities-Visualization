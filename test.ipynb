{
 "cells": [
  {
   "cell_type": "code",
   "execution_count": 1,
   "metadata": {},
   "outputs": [],
   "source": [
    "import plotly.express as px"
   ]
  },
  {
   "cell_type": "code",
   "execution_count": 48,
   "metadata": {},
   "outputs": [],
   "source": [
    "import re"
   ]
  },
  {
   "cell_type": "code",
   "execution_count": 4,
   "metadata": {},
   "outputs": [
    {
     "data": {
      "application/vnd.plotly.v1+json": {
       "config": {
        "plotlyServerURL": "https://plot.ly"
       },
       "data": [
        {
         "lat": [
          41.979595,
          33.64044444,
          32.89595056,
          33.43416667,
          39.85840806,
          29.98047222,
          37.61900194,
          33.94253611,
          28.42888889,
          35.21401111,
          40.78838778,
          27.97547222,
          40.69249722,
          36.08036111,
          39.87195278,
          44.88054694,
          47.44898194,
          40.77724306,
          41.7859825,
          38.94453194,
          32.73355611,
          38.74768694,
          42.21205889,
          40.63975111,
          25.79325,
          42.3643475,
          38.69542167,
          39.17540167,
          33.67565861,
          29.99338889,
          37.36186194,
          38.85208333,
          45.58872222,
          26.53616667,
          26.68316194,
          35.87763889,
          29.64541861,
          29.53369444,
          26.07258333,
          39.29760528,
          37.72129083,
          40.49146583,
          35.04241667,
          42.94722222,
          41.41089417,
          30.49405556,
          32.11608333,
          39.71732917,
          39.49857611,
          35.39308833,
          41.72399917,
          36.19837222,
          39.04614278,
          39.99798528,
          38.17438889,
          34.056,
          34.72939611,
          32.84711389,
          41.30251861,
          36.89461111,
          39.90237583,
          43.11886611,
          36.28186944,
          36.12447667,
          35.04022222,
          32.31116667,
          31.80666667,
          37.50516667,
          41.93887417,
          31.94252778,
          30.53316083,
          35.81248722,
          38.80580556,
          30.47330556,
          43.11118694,
          33.56294306,
          42.93451639,
          33.82921556,
          27.39533333,
          27.77036083,
          34.6404475,
          33.93884,
          30.20527972,
          34.42621194,
          47.61985556,
          30.69141667,
          37.64995889,
          42.94052472,
          41.53493306,
          40.19349528,
          43.64616667,
          32.30064417,
          37.13189556,
          41.06695778,
          36.5869825,
          42.88081972,
          30.448674,
          32.65658333,
          39.22316,
          30.39652778,
          30.40728028,
          44.04532139,
          33.81772222,
          34.27061111,
          38.03697222,
          43.13985778,
          44.12326,
          32.12758333,
          33.66363889,
          41.88458833,
          34.89566722,
          36.09774694,
          40.7952425,
          41.44852639,
          35.43619444,
          40.91631194,
          40.47798556,
          26.22850611,
          30.48325,
          32.4466275,
          46.91934889,
          40.48118028,
          42.37422778,
          40.66424333,
          27.54373861,
          30.19453278,
          32.41132,
          37.24432611,
          42.96550333,
          36.47521417,
          31.06489778,
          32.89864639,
          44.48507333,
          44.25406722,
          32.51633333,
          41.70895361,
          43.56444444,
          33.67975,
          48.25937778,
          40.03925,
          37.32546833,
          39.64256778,
          43.60732417,
          45.77690139,
          39.1224125,
          34.20061917,
          38.03799139,
          38.53396333,
          43.51455556,
          36.77619444,
          39.84395194,
          26.17583333,
          40.50898361,
          47.949255,
          43.58135111,
          42.48180389,
          34.89924833,
          42.91130556,
          31.32133917,
          34.82916444,
          38.50886722,
          46.77411111,
          42.90835556,
          44.74144472,
          32.51086556,
          46.26468028,
          39.14096722,
          31.32737167,
          43.41713889,
          35.61677778,
          42.15614361,
          41.50409361,
          38.13863889,
          30.7825,
          44.77761917,
          35.65884306,
          40.97811528,
          31.25902778,
          40.85097222,
          40.97846583,
          44.52019417,
          37.06083333,
          35.23705806,
          41.33814944,
          33.45033444,
          44.34889806,
          35.07297222,
          33.369955,
          35.33659028,
          32.35413889,
          46.60681806,
          47.48200194,
          32.33313333,
          46.353639,
          37.95375861,
          35.03526833,
          46.37449806,
          37.70097028,
          42.74811944,
          44.47300361,
          48.31140472,
          28.10275,
          29.17991667,
          40.65236278,
          46.84209028,
          41.1557225,
          41.5942175,
          37.85830556,
          38.37315083,
          48.79275,
          37.62404861,
          44.25740806,
          36.385913,
          27.91076333,
          33.98879611,
          34.99147222,
          44.86525722,
          42.40295944,
          43.90882639,
          34.681499,
          45.8076625
         ],
         "lon": [
          -87.90446417,
          -84.42694444,
          -97.0372,
          -112.0080556,
          -104.6670019,
          -95.33972222,
          -122.3748433,
          -118.4080744,
          -81.31602778,
          -80.94312583,
          -111.9777731,
          -82.53325,
          -74.16866056,
          -115.1523333,
          -75.24114083,
          -93.2169225,
          -122.3093131,
          -73.87260917,
          -87.75242444,
          -77.45580972,
          -117.1896567,
          -90.35998972,
          -83.34883583,
          -73.77892556,
          -80.29055556,
          -71.00517917,
          -121.5907669,
          -76.66819833,
          -117.8682225,
          -90.25802778,
          -121.9290089,
          -77.03772222,
          -122.5975,
          -81.75516667,
          -80.09559417,
          -78.78747222,
          -95.27888889,
          -98.46977778,
          -80.15275,
          -94.71390556,
          -122.2207167,
          -80.23287083,
          -89.97666667,
          -87.89658333,
          -81.84939667,
          -81.68786111,
          -110.9410278,
          -86.29438417,
          -119.7680647,
          -97.60073389,
          -71.42822111,
          -95.88824167,
          -84.6621725,
          -82.89188278,
          -85.736,
          -117.6011944,
          -92.22424556,
          -96.85177222,
          -95.89417306,
          -76.20122222,
          -84.219375,
          -77.67238389,
          -94.30681111,
          -86.67818222,
          -106.6091944,
          -90.07588889,
          -106.3778056,
          -77.31966667,
          -72.68322833,
          -102.2019139,
          -91.14963444,
          -83.99285583,
          -104.70025,
          -87.18744444,
          -76.10631056,
          -86.75354972,
          -71.43705583,
          -116.5062531,
          -82.55411111,
          -97.50121528,
          -86.77310944,
          -81.11953944,
          -91.987655,
          -119.8403733,
          -117.5338425,
          -88.24283333,
          -97.43304583,
          -78.73216667,
          -93.66068222,
          -76.76340361,
          -70.30875,
          -86.39397611,
          -76.4929875,
          -73.70757444,
          -121.8429478,
          -85.52276778,
          -84.550781,
          -114.6059722,
          -106.868845,
          -84.35033333,
          -89.07009278,
          -103.0573708,
          -118.1516111,
          -77.90255556,
          -84.60538889,
          -89.33751361,
          -123.2186856,
          -81.20213889,
          -101.8227778,
          -91.71087222,
          -82.21885833,
          -79.9372975,
          -73.10021194,
          -90.50753917,
          -82.54180556,
          -81.44246556,
          -88.91595278,
          -97.65439389,
          -86.5254,
          -93.82559833,
          -96.81498889,
          -107.2176597,
          -122.8734978,
          -89.69330556,
          -99.46154361,
          -97.66987194,
          -99.68189722,
          -93.38685806,
          -83.74345639,
          -82.40742056,
          -97.82779778,
          -80.04050583,
          -88.12959,
          -121.1499633,
          -84.93886111,
          -86.31847417,
          -116.2227778,
          -78.92833333,
          -101.2803339,
          -88.27805556,
          -79.97542833,
          -106.9176953,
          -110.7377389,
          -111.1530072,
          -108.5267347,
          -118.3584969,
          -87.53062667,
          -106.9331817,
          -112.0701667,
          -119.7181389,
          -89.67761861,
          -98.23861111,
          -122.2934019,
          -97.17611111,
          -96.74170028,
          -114.4877356,
          -120.4575825,
          -112.5958611,
          -85.44962889,
          -77.61213778,
          -107.8938333,
          -100.7467222,
          -106.4644661,
          -85.582235,
          -92.03768778,
          -119.1190292,
          -96.67083278,
          -92.54855611,
          -124.2460278,
          -106.0881389,
          -121.7332081,
          -74.10483833,
          -78.45286111,
          -83.27672222,
          -89.66677944,
          -117.8295122,
          -124.1086189,
          -81.46630556,
          -96.75925,
          -85.19514639,
          -109.0237961,
          -88.77375,
          -120.6423931,
          -75.7242675,
          -88.59136861,
          -105.5393614,
          -77.04294444,
          -81.96449611,
          -94.36744111,
          -95.40238611,
          -111.9827503,
          -111.3706853,
          -88.75120556,
          -87.395361,
          -107.90848,
          -85.20378778,
          -117.0153944,
          -113.098575,
          -73.80297861,
          -73.1503125,
          -114.2550694,
          -80.64580556,
          -81.05805556,
          -75.44040167,
          -92.19364861,
          -104.8118381,
          -109.0651928,
          -80.39947222,
          -81.59318972,
          -122.5375278,
          -118.8377722,
          -88.51947556,
          -92.548828,
          -82.68743944,
          -98.49189333,
          -78.88,
          -91.48507194,
          -90.70916722,
          -92.49798722,
          -90.348816,
          -108.5428611
         ],
         "marker": {
          "color": [
           25129,
           21925,
           20662,
           17290,
           13781,
           13223,
           12016,
           11797,
           10536,
           10490,
           9898,
           9182,
           8678,
           8523,
           7965,
           7690,
           7541,
           7392,
           6979,
           6779,
           6233,
           6204,
           6044,
           5945,
           5907,
           5627,
           4943,
           4749,
           4616,
           4432,
           4367,
           4332,
           4071,
           4057,
           3972,
           3896,
           3824,
           3654,
           3616,
           3403,
           3386,
           3180,
           3058,
           3030,
           3015,
           3005,
           2786,
           2136,
           2104,
           2104,
           2044,
           2003,
           1986,
           1752,
           1716,
           1622,
           1620,
           1502,
           1474,
           1439,
           1337,
           1327,
           1310,
           1299,
           1258,
           1224,
           1206,
           1199,
           1162,
           1103,
           1095,
           1052,
           1040,
           1035,
           1006,
           956,
           953,
           949,
           932,
           926,
           880,
           840,
           818,
           800,
           785,
           768,
           747,
           711,
           708,
           702,
           686,
           686,
           675,
           664,
           658,
           656,
           653,
           627,
           611,
           608,
           582,
           572,
           562,
           553,
           540,
           538,
           529,
           524,
           518,
           516,
           479,
           472,
           460,
           451,
           448,
           445,
           426,
           414,
           410,
           410,
           409,
           408,
           404,
           404,
           396,
           393,
           382,
           381,
           379,
           347,
           346,
           338,
           333,
           328,
           324,
           324,
           319,
           314,
           310,
           306,
           301,
           296,
           295,
           288,
           285,
           280,
           270,
           270,
           264,
           264,
           258,
           248,
           248,
           246,
           245,
           225,
           216,
           216,
           214,
           212,
           210,
           208,
           208,
           201,
           199,
           168,
           168,
           168,
           168,
           168,
           168,
           159,
           158,
           158,
           156,
           146,
           144,
           140,
           127,
           114,
           112,
           112,
           112,
           112,
           112,
           112,
           112,
           112,
           112,
           110,
           108,
           108,
           104,
           104,
           104,
           104,
           102,
           96,
           93,
           91,
           90,
           74,
           72,
           60,
           58,
           56,
           56,
           56,
           56,
           56,
           56,
           56,
           56,
           52,
           50,
           50,
           48,
           48,
           37,
           32,
           23
          ]
         },
         "mode": "markers",
         "text": [
          "Chicago O'Hare InternationalChicago, ILArrivals: 25129",
          "William B Hartsfield-Atlanta IntlAtlanta, GAArrivals: 21925",
          "Dallas-Fort Worth InternationalDallas-Fort Worth, TXArrivals: 20662",
          "Phoenix Sky Harbor InternationalPhoenix, AZArrivals: 17290",
          "Denver IntlDenver, COArrivals: 13781",
          "George Bush IntercontinentalHouston, TXArrivals: 13223",
          "San Francisco InternationalSan Francisco, CAArrivals: 12016",
          "Los Angeles InternationalLos Angeles, CAArrivals: 11797",
          "Orlando InternationalOrlando, FLArrivals: 10536",
          "Charlotte/Douglas InternationalCharlotte, NCArrivals: 10490",
          "Salt Lake City IntlSalt Lake City, UTArrivals: 9898",
          "Tampa International Tampa, FLArrivals: 9182",
          "Newark IntlNewark, NJArrivals: 8678",
          "McCarran InternationalLas Vegas, NVArrivals: 8523",
          "Philadelphia IntlPhiladelphia, PAArrivals: 7965",
          "Minneapolis-St Paul IntlMinneapolis, MNArrivals: 7690",
          "Seattle-Tacoma IntlSeattle, WAArrivals: 7541",
          "LaGuardiaNew York, NYArrivals: 7392",
          "Chicago MidwayChicago, ILArrivals: 6979",
          "Washington Dulles InternationalChantilly, VAArrivals: 6779",
          "San Diego International-Lindbergh San Diego, CAArrivals: 6233",
          "Lambert-St Louis InternationalSt Louis, MOArrivals: 6204",
          "Detroit Metropolitan-Wayne CountyDetroit, MIArrivals: 6044",
          "John F Kennedy IntlNew York, NYArrivals: 5945",
          "Miami InternationalMiami, FLArrivals: 5907",
          "Gen Edw L Logan IntlBoston, MAArrivals: 5627",
          "Sacramento InternationalSacramento, CAArrivals: 4943",
          "Baltimore-Washington InternationalBaltimore, MDArrivals: 4749",
          "John Wayne /Orange CoSanta Ana, CAArrivals: 4616",
          "New Orleans International New Orleans, LAArrivals: 4432",
          "San Jose InternationalSan Jose, CAArrivals: 4367",
          "Ronald Reagan Washington NationalArlington, VAArrivals: 4332",
          "Portland IntlPortland, ORArrivals: 4071",
          "Southwest Florida InternationalFt. Myers, FLArrivals: 4057",
          "Palm Beach InternationalWest Palm Beach, FLArrivals: 3972",
          "Raleigh-Durham InternationalRaleigh, NCArrivals: 3896",
          "William P HobbyHouston, TXArrivals: 3824",
          "San Antonio InternationalSan Antonio, TXArrivals: 3654",
          "Fort Lauderdale-Hollywood Int'lFt. Lauderdale, FLArrivals: 3616",
          "Kansas City InternationalKansas City, MOArrivals: 3403",
          "Metropolitan Oakland InternationalOakland, CAArrivals: 3386",
          "Pittsburgh InternationalPittsburgh, PAArrivals: 3180",
          "Memphis InternationalMemphis, TNArrivals: 3058",
          "General Mitchell InternationalMilwaukee, WIArrivals: 3030",
          "Cleveland-Hopkins IntlCleveland, OHArrivals: 3015",
          "Jacksonville InternationalJacksonville, FLArrivals: 3005",
          "Tucson InternationalTucson, AZArrivals: 2786",
          "Indianapolis InternationalIndianapolis, INArrivals: 2136",
          "Reno/Tahoe InternationalReno, NVArrivals: 2104",
          "Will Rogers WorldOklahoma City, OKArrivals: 2104",
          "Theodore F Green StateProvidence, RIArrivals: 2044",
          "Tulsa InternationalTulsa, OKArrivals: 2003",
          "Cincinnati Northern Kentucky IntlCovington, KYArrivals: 1986",
          "Port Columbus IntlColumbus, OHArrivals: 1752",
          "Louisville International-Standiford Louisville, KYArrivals: 1716",
          "Ontario InternationalOntario, CAArrivals: 1622",
          "Adams Little Rock, ARArrivals: 1620",
          "Dallas Love Dallas, TXArrivals: 1502",
          "Eppley AirfieldOmaha, NEArrivals: 1474",
          "Norfolk InternationalNorfolk, VAArrivals: 1439",
          "James M Cox Dayton IntlDayton, OHArrivals: 1337",
          "Greater Rochester Int'lRochester, NYArrivals: 1327",
          "Northwest Arkansas RegionalFayetteville/Springdale/Rogers, ARArrivals: 1310",
          "Nashville InternationalNashville, TNArrivals: 1299",
          "Albuquerque InternationalAlbuquerque, NMArrivals: 1258",
          "Jackson InternationalJackson, MSArrivals: 1224",
          "El Paso InternationalEl Paso, TXArrivals: 1206",
          "Richmond InternationalRichmond, VAArrivals: 1199",
          "Bradley InternationalWindsor Locks, CTArrivals: 1162",
          "Midland InternationalMidland, TXArrivals: 1103",
          "Baton Rouge Metropolitan, Ryan Baton Rouge, LAArrivals: 1095",
          "McGhee-TysonKnoxville, TNArrivals: 1052",
          "City of Colorado Springs MuniColorado Springs, COArrivals: 1040",
          "Pensacola RegionalPensacola, FLArrivals: 1035",
          "Syracuse-Hancock IntlSyracuse, NYArrivals: 1006",
          "Birmingham InternationalBirmingham, ALArrivals: 956",
          "ManchesterManchester, NHArrivals: 953",
          "Palm Springs InternationalPalm Springs, CAArrivals: 949",
          "Sarasota Bradenton InternationalSarasota, FLArrivals: 932",
          "Corpus Christi InternationalCorpus Christi, TXArrivals: 926",
          "Huntsville International Huntsville, ALArrivals: 880",
          "Columbia MetropolitanColumbia, SCArrivals: 840",
          "Lafayette RegionalLafayette, LAArrivals: 818",
          "Santa Barbara MunicipalSanta Barbara, CAArrivals: 800",
          "Spokane IntlSpokane, WAArrivals: 785",
          "Mobile RegionalMobile, ALArrivals: 768",
          "Wichita Mid-ContinentWichita, KSArrivals: 747",
          "Buffalo Niagara IntlBuffalo, NYArrivals: 711",
          "Des Moines InternationalDes Moines, IAArrivals: 708",
          "Harrisburg IntlHarrisburg, PAArrivals: 702",
          "Portland International JetportPortland, MEArrivals: 686",
          "Montgomery Regional AptMontgomery, ALArrivals: 686",
          "Newport News/Williamsburg InternationalNewport News, VAArrivals: 675",
          "Westchester CtyWhite Plains, NYArrivals: 664",
          "Monterey PeninsulaMonterey, CAArrivals: 658",
          "Kent County InternationalGrand Rapids, MIArrivals: 656",
          "Florida BeachBeaches, FLArrivals: 653",
          "Yuma MCAS-Yuma InternationalYuma, AZArrivals: 627",
          "Aspen-Pitkin Co/Sardy Aspen, COArrivals: 611",
          "Tallahassee RegionalTallahassee, FLArrivals: 608",
          "Gulfport-Biloxi RegionalGulfport-Biloxi, MSArrivals: 582",
          "Rapid City RegionalRapid City, SDArrivals: 572",
          "Long Beach (Daugherty )Long Beach, CAArrivals: 562",
          "Wilmington InternationalWilmington, NCArrivals: 553",
          "Blue Grass Lexington, KYArrivals: 540",
          "Dane County RegionalMadison, WIArrivals: 538",
          "Mahlon Sweet Eugene, ORArrivals: 529",
          "Savannah InternationalSavannah, GAArrivals: 524",
          "Lubbock InternationalLubbock, TXArrivals: 518",
          "Eastern Iowa Cedar Rapids, IAArrivals: 516",
          "Greenville-SpartanburgGreer, SCArrivals: 479",
          "Piedmont Triad InternationalGreensboro, NCArrivals: 472",
          "Long Island - MacArthurIslip, NYArrivals: 460",
          "Quad CityMoline, ILArrivals: 451",
          "Asheville RegionalAsheville, NCArrivals: 448",
          "Akron-Canton RegionalAkron, OHArrivals: 445",
          "Central Illinois RegionalBloomington, ILArrivals: 426",
          "Valley InternationalHarlingen, TXArrivals: 414",
          "Eglin Air Force BaseValparaiso, FLArrivals: 410",
          "Shreveport RegionalShreveport, LAArrivals: 410",
          "Hector InternationalFargo, NDArrivals: 409",
          "Yampa ValleyHayden, COArrivals: 408",
          "Rogue Valley InternationalMedford, ORArrivals: 404",
          "Greater Peoria RegionalPeoria, ILArrivals: 404",
          "Laredo InternationalLaredo, TXArrivals: 396",
          "Austin-Bergstrom InternationalAustin, TXArrivals: 393",
          "Abilene RegionalAbilene, TXArrivals: 382",
          "Springfield-Branson RegionalSpringfield, MOArrivals: 381",
          "BishopFlint, MIArrivals: 379",
          "Tri-Cities RegionalBristol, TNArrivals: 347",
          "Robert Gray AAFKilleen, TXArrivals: 346",
          "Charleston AFB/InternationalCharleston, SCArrivals: 338",
          "Austin Straubel InternationalGreen Bay, WIArrivals: 333",
          "Roberts Redmond, ORArrivals: 328",
          "Columbus MetropolitanColumbus, GAArrivals: 324",
          "South Bend RegionalSouth Bend, INArrivals: 324",
          "Boise Air TerminalBoise, IDArrivals: 319",
          "Myrtle Beach InternationalMyrtle Beach, SCArrivals: 314",
          "Minot InternationalMinot, NDArrivals: 310",
          "University of Illinois-WillardChampaign/Urbana, ILArrivals: 306",
          "Roanoke Regional/ Woodrum Roanoke, VAArrivals: 301",
          "Eagle County RegionalEagle, COArrivals: 296",
          "Jackson HoleJackson, WYArrivals: 295",
          "Gallatin Bozeman, MTArrivals: 288",
          "Walker Grand Junction, COArrivals: 285",
          "Burbank-Glendale-PasadenaBurbank, CAArrivals: 280",
          "Evansville RegionalEvansville, INArrivals: 270",
          "Gunnison CountyGunnison, COArrivals: 270",
          "Idaho Falls RegionalIdaho Falls, IDArrivals: 264",
          "Fresno Yosemite InternationalFresno, CAArrivals: 264",
          "CapitalSpringfield, ILArrivals: 258",
          "McAllen Miller InternationalMcAllen, TXArrivals: 248",
          "Redding MunicipalRedding, CAArrivals: 248",
          "Grand Forks InternationalGrand Forks, NDArrivals: 246",
          "Joe Foss Sioux Falls, SDArrivals: 245",
          "Joslin Field - Magic ValleyTwin Falls, IDArrivals: 225",
          "Santa Maria Pub/Capt G Allan Hancock Santa Maria, CAArrivals: 216",
          "Pocatello RegionalPocatello, IDArrivals: 216",
          "Dothan Dothan, ALArrivals: 214",
          "Albert J EllisJacksonville, NCArrivals: 212",
          "Montrose RegionalMontrose, COArrivals: 210",
          "Bismarck MunicipalBismarck, NDArrivals: 208",
          "Natrona County IntlCasper, WYArrivals: 208",
          "Cherry CapitalTraverse City, MIArrivals: 201",
          "Monroe RegionalMonroe, LAArrivals: 199",
          "Tri-CitiesPasco, WAArrivals: 168",
          "Manhattan RegionalManhattan, KSArrivals: 168",
          "Alexandria InternationalAlexandria, LAArrivals: 168",
          "North Bend MuniNorth Bend, ORArrivals: 168",
          "Santa Fe MunicipalSanta Fe, NMArrivals: 168",
          "Klamath Falls InternationalKlamath Falls, ORArrivals: 168",
          "StewartNewburgh, NYArrivals: 159",
          "Charlottesville-AlbermarleCharlottesville, VAArrivals: 158",
          "Valdosta RegionalValdosta, GAArrivals: 158",
          "Central WisconsinMosinee, WIArrivals: 156",
          "InyokernInyokern, CAArrivals: 146",
          "ArcataArcata/Eureka, CAArrivals: 144",
          "Glynco JetportBrunswick, GAArrivals: 140",
          "Lincoln MunicipalLincoln, NEArrivals: 127",
          "Fort Wayne InternationalFort Wayne, INArrivals: 114",
          "Yellowstone RegionalCody, WYArrivals: 112",
          "Barkley RegionalPaducah, KYArrivals: 112",
          "San Luis Obispo Co-McChesney San Luis Obispo, CAArrivals: 112",
          "Wilkes-Barre/Scranton IntlWilkes-Barre/Scranton, PAArrivals: 112",
          "Golden Triangle RegionalColumbus-Starkville-West Point, MSArrivals: 112",
          "Gillette-Campbell CountyGillette, WYArrivals: 112",
          "Craven County RegionalNew Bern, NCArrivals: 112",
          "Bush Augusta, GAArrivals: 112",
          "Fort Smith RegionalFort Smith, ARArrivals: 112",
          "Tyler Pounds Tyler, TXArrivals: 110",
          "Helena RegionalHelena, MTArrivals: 108",
          "Great Falls IntlGreat Falls, MTArrivals: 108",
          "Key Meridian, MSArrivals: 104",
          null,
          "Telluride RegionalTelluride, COArrivals: 104",
          "Lovell Chattanooga, TNArrivals: 104",
          "Lewiston-Nez Perce CountyLewiston, IDArrivals: 102",
          "Cedar City MuniCedar City, UTArrivals: 96",
          "Albany CtyAlbany, NYArrivals: 93",
          "Burlington InternationalBurlington, VTArrivals: 91",
          "Glacier Park IntlKalispell, MTArrivals: 90",
          "Melbourne International Melbourne, FLArrivals: 74",
          "Daytona Beach InternationalDaytona Beach, FLArrivals: 72",
          "Lehigh Valley InternationalAllentown, PAArrivals: 60",
          "Duluth InternationalDuluth, MNArrivals: 58",
          "CheyenneCheyenne, WYArrivals: 56",
          "Rock Springs-Sweetwater CountyRock Springs, WYArrivals: 56",
          "Greenbrier ValleyLewisburg, WVArrivals: 56",
          "YeagerCharleston, WVArrivals: 56",
          "Bellingham IntlBellingham, WAArrivals: 56",
          "Mammoth YosemiteMammoth Lakes, CAArrivals: 56",
          "Outagamie County RegionalAppleton, WIArrivals: 56",
          "Branson AirportHollister, MOArrivals: 56",
          "St. Petersburg-Clearwater InternationalSt. Petersburg, FLArrivals: 52",
          "Sheppard AFB/Wichita Falls MunicipalWichita Falls, TXArrivals: 50",
          "Fayetteville MunicipalFayetteville, NCArrivals: 50",
          "Chippewa Valley RegionalEau Claire, WIArrivals: 48",
          "Dubuque MunicipalDubuque, IAArrivals: 48",
          "Rochester InternationalRochester, MNArrivals: 37",
          "Tunica Municipal AirportTunica, MSArrivals: 32",
          "Billings Logan IntlBillings, MTArrivals: 23"
         ],
         "type": "scattergeo"
        }
       ],
       "layout": {
        "geo": {
         "scope": "europe"
        },
        "template": {
         "data": {
          "bar": [
           {
            "error_x": {
             "color": "#2a3f5f"
            },
            "error_y": {
             "color": "#2a3f5f"
            },
            "marker": {
             "line": {
              "color": "#E5ECF6",
              "width": 0.5
             },
             "pattern": {
              "fillmode": "overlay",
              "size": 10,
              "solidity": 0.2
             }
            },
            "type": "bar"
           }
          ],
          "barpolar": [
           {
            "marker": {
             "line": {
              "color": "#E5ECF6",
              "width": 0.5
             },
             "pattern": {
              "fillmode": "overlay",
              "size": 10,
              "solidity": 0.2
             }
            },
            "type": "barpolar"
           }
          ],
          "carpet": [
           {
            "aaxis": {
             "endlinecolor": "#2a3f5f",
             "gridcolor": "white",
             "linecolor": "white",
             "minorgridcolor": "white",
             "startlinecolor": "#2a3f5f"
            },
            "baxis": {
             "endlinecolor": "#2a3f5f",
             "gridcolor": "white",
             "linecolor": "white",
             "minorgridcolor": "white",
             "startlinecolor": "#2a3f5f"
            },
            "type": "carpet"
           }
          ],
          "choropleth": [
           {
            "colorbar": {
             "outlinewidth": 0,
             "ticks": ""
            },
            "type": "choropleth"
           }
          ],
          "contour": [
           {
            "colorbar": {
             "outlinewidth": 0,
             "ticks": ""
            },
            "colorscale": [
             [
              0,
              "#0d0887"
             ],
             [
              0.1111111111111111,
              "#46039f"
             ],
             [
              0.2222222222222222,
              "#7201a8"
             ],
             [
              0.3333333333333333,
              "#9c179e"
             ],
             [
              0.4444444444444444,
              "#bd3786"
             ],
             [
              0.5555555555555556,
              "#d8576b"
             ],
             [
              0.6666666666666666,
              "#ed7953"
             ],
             [
              0.7777777777777778,
              "#fb9f3a"
             ],
             [
              0.8888888888888888,
              "#fdca26"
             ],
             [
              1,
              "#f0f921"
             ]
            ],
            "type": "contour"
           }
          ],
          "contourcarpet": [
           {
            "colorbar": {
             "outlinewidth": 0,
             "ticks": ""
            },
            "type": "contourcarpet"
           }
          ],
          "heatmap": [
           {
            "colorbar": {
             "outlinewidth": 0,
             "ticks": ""
            },
            "colorscale": [
             [
              0,
              "#0d0887"
             ],
             [
              0.1111111111111111,
              "#46039f"
             ],
             [
              0.2222222222222222,
              "#7201a8"
             ],
             [
              0.3333333333333333,
              "#9c179e"
             ],
             [
              0.4444444444444444,
              "#bd3786"
             ],
             [
              0.5555555555555556,
              "#d8576b"
             ],
             [
              0.6666666666666666,
              "#ed7953"
             ],
             [
              0.7777777777777778,
              "#fb9f3a"
             ],
             [
              0.8888888888888888,
              "#fdca26"
             ],
             [
              1,
              "#f0f921"
             ]
            ],
            "type": "heatmap"
           }
          ],
          "heatmapgl": [
           {
            "colorbar": {
             "outlinewidth": 0,
             "ticks": ""
            },
            "colorscale": [
             [
              0,
              "#0d0887"
             ],
             [
              0.1111111111111111,
              "#46039f"
             ],
             [
              0.2222222222222222,
              "#7201a8"
             ],
             [
              0.3333333333333333,
              "#9c179e"
             ],
             [
              0.4444444444444444,
              "#bd3786"
             ],
             [
              0.5555555555555556,
              "#d8576b"
             ],
             [
              0.6666666666666666,
              "#ed7953"
             ],
             [
              0.7777777777777778,
              "#fb9f3a"
             ],
             [
              0.8888888888888888,
              "#fdca26"
             ],
             [
              1,
              "#f0f921"
             ]
            ],
            "type": "heatmapgl"
           }
          ],
          "histogram": [
           {
            "marker": {
             "pattern": {
              "fillmode": "overlay",
              "size": 10,
              "solidity": 0.2
             }
            },
            "type": "histogram"
           }
          ],
          "histogram2d": [
           {
            "colorbar": {
             "outlinewidth": 0,
             "ticks": ""
            },
            "colorscale": [
             [
              0,
              "#0d0887"
             ],
             [
              0.1111111111111111,
              "#46039f"
             ],
             [
              0.2222222222222222,
              "#7201a8"
             ],
             [
              0.3333333333333333,
              "#9c179e"
             ],
             [
              0.4444444444444444,
              "#bd3786"
             ],
             [
              0.5555555555555556,
              "#d8576b"
             ],
             [
              0.6666666666666666,
              "#ed7953"
             ],
             [
              0.7777777777777778,
              "#fb9f3a"
             ],
             [
              0.8888888888888888,
              "#fdca26"
             ],
             [
              1,
              "#f0f921"
             ]
            ],
            "type": "histogram2d"
           }
          ],
          "histogram2dcontour": [
           {
            "colorbar": {
             "outlinewidth": 0,
             "ticks": ""
            },
            "colorscale": [
             [
              0,
              "#0d0887"
             ],
             [
              0.1111111111111111,
              "#46039f"
             ],
             [
              0.2222222222222222,
              "#7201a8"
             ],
             [
              0.3333333333333333,
              "#9c179e"
             ],
             [
              0.4444444444444444,
              "#bd3786"
             ],
             [
              0.5555555555555556,
              "#d8576b"
             ],
             [
              0.6666666666666666,
              "#ed7953"
             ],
             [
              0.7777777777777778,
              "#fb9f3a"
             ],
             [
              0.8888888888888888,
              "#fdca26"
             ],
             [
              1,
              "#f0f921"
             ]
            ],
            "type": "histogram2dcontour"
           }
          ],
          "mesh3d": [
           {
            "colorbar": {
             "outlinewidth": 0,
             "ticks": ""
            },
            "type": "mesh3d"
           }
          ],
          "parcoords": [
           {
            "line": {
             "colorbar": {
              "outlinewidth": 0,
              "ticks": ""
             }
            },
            "type": "parcoords"
           }
          ],
          "pie": [
           {
            "automargin": true,
            "type": "pie"
           }
          ],
          "scatter": [
           {
            "fillpattern": {
             "fillmode": "overlay",
             "size": 10,
             "solidity": 0.2
            },
            "type": "scatter"
           }
          ],
          "scatter3d": [
           {
            "line": {
             "colorbar": {
              "outlinewidth": 0,
              "ticks": ""
             }
            },
            "marker": {
             "colorbar": {
              "outlinewidth": 0,
              "ticks": ""
             }
            },
            "type": "scatter3d"
           }
          ],
          "scattercarpet": [
           {
            "marker": {
             "colorbar": {
              "outlinewidth": 0,
              "ticks": ""
             }
            },
            "type": "scattercarpet"
           }
          ],
          "scattergeo": [
           {
            "marker": {
             "colorbar": {
              "outlinewidth": 0,
              "ticks": ""
             }
            },
            "type": "scattergeo"
           }
          ],
          "scattergl": [
           {
            "marker": {
             "colorbar": {
              "outlinewidth": 0,
              "ticks": ""
             }
            },
            "type": "scattergl"
           }
          ],
          "scattermapbox": [
           {
            "marker": {
             "colorbar": {
              "outlinewidth": 0,
              "ticks": ""
             }
            },
            "type": "scattermapbox"
           }
          ],
          "scatterpolar": [
           {
            "marker": {
             "colorbar": {
              "outlinewidth": 0,
              "ticks": ""
             }
            },
            "type": "scatterpolar"
           }
          ],
          "scatterpolargl": [
           {
            "marker": {
             "colorbar": {
              "outlinewidth": 0,
              "ticks": ""
             }
            },
            "type": "scatterpolargl"
           }
          ],
          "scatterternary": [
           {
            "marker": {
             "colorbar": {
              "outlinewidth": 0,
              "ticks": ""
             }
            },
            "type": "scatterternary"
           }
          ],
          "surface": [
           {
            "colorbar": {
             "outlinewidth": 0,
             "ticks": ""
            },
            "colorscale": [
             [
              0,
              "#0d0887"
             ],
             [
              0.1111111111111111,
              "#46039f"
             ],
             [
              0.2222222222222222,
              "#7201a8"
             ],
             [
              0.3333333333333333,
              "#9c179e"
             ],
             [
              0.4444444444444444,
              "#bd3786"
             ],
             [
              0.5555555555555556,
              "#d8576b"
             ],
             [
              0.6666666666666666,
              "#ed7953"
             ],
             [
              0.7777777777777778,
              "#fb9f3a"
             ],
             [
              0.8888888888888888,
              "#fdca26"
             ],
             [
              1,
              "#f0f921"
             ]
            ],
            "type": "surface"
           }
          ],
          "table": [
           {
            "cells": {
             "fill": {
              "color": "#EBF0F8"
             },
             "line": {
              "color": "white"
             }
            },
            "header": {
             "fill": {
              "color": "#C8D4E3"
             },
             "line": {
              "color": "white"
             }
            },
            "type": "table"
           }
          ]
         },
         "layout": {
          "annotationdefaults": {
           "arrowcolor": "#2a3f5f",
           "arrowhead": 0,
           "arrowwidth": 1
          },
          "autotypenumbers": "strict",
          "coloraxis": {
           "colorbar": {
            "outlinewidth": 0,
            "ticks": ""
           }
          },
          "colorscale": {
           "diverging": [
            [
             0,
             "#8e0152"
            ],
            [
             0.1,
             "#c51b7d"
            ],
            [
             0.2,
             "#de77ae"
            ],
            [
             0.3,
             "#f1b6da"
            ],
            [
             0.4,
             "#fde0ef"
            ],
            [
             0.5,
             "#f7f7f7"
            ],
            [
             0.6,
             "#e6f5d0"
            ],
            [
             0.7,
             "#b8e186"
            ],
            [
             0.8,
             "#7fbc41"
            ],
            [
             0.9,
             "#4d9221"
            ],
            [
             1,
             "#276419"
            ]
           ],
           "sequential": [
            [
             0,
             "#0d0887"
            ],
            [
             0.1111111111111111,
             "#46039f"
            ],
            [
             0.2222222222222222,
             "#7201a8"
            ],
            [
             0.3333333333333333,
             "#9c179e"
            ],
            [
             0.4444444444444444,
             "#bd3786"
            ],
            [
             0.5555555555555556,
             "#d8576b"
            ],
            [
             0.6666666666666666,
             "#ed7953"
            ],
            [
             0.7777777777777778,
             "#fb9f3a"
            ],
            [
             0.8888888888888888,
             "#fdca26"
            ],
            [
             1,
             "#f0f921"
            ]
           ],
           "sequentialminus": [
            [
             0,
             "#0d0887"
            ],
            [
             0.1111111111111111,
             "#46039f"
            ],
            [
             0.2222222222222222,
             "#7201a8"
            ],
            [
             0.3333333333333333,
             "#9c179e"
            ],
            [
             0.4444444444444444,
             "#bd3786"
            ],
            [
             0.5555555555555556,
             "#d8576b"
            ],
            [
             0.6666666666666666,
             "#ed7953"
            ],
            [
             0.7777777777777778,
             "#fb9f3a"
            ],
            [
             0.8888888888888888,
             "#fdca26"
            ],
            [
             1,
             "#f0f921"
            ]
           ]
          },
          "colorway": [
           "#636efa",
           "#EF553B",
           "#00cc96",
           "#ab63fa",
           "#FFA15A",
           "#19d3f3",
           "#FF6692",
           "#B6E880",
           "#FF97FF",
           "#FECB52"
          ],
          "font": {
           "color": "#2a3f5f"
          },
          "geo": {
           "bgcolor": "white",
           "lakecolor": "white",
           "landcolor": "#E5ECF6",
           "showlakes": true,
           "showland": true,
           "subunitcolor": "white"
          },
          "hoverlabel": {
           "align": "left"
          },
          "hovermode": "closest",
          "mapbox": {
           "style": "light"
          },
          "paper_bgcolor": "white",
          "plot_bgcolor": "#E5ECF6",
          "polar": {
           "angularaxis": {
            "gridcolor": "white",
            "linecolor": "white",
            "ticks": ""
           },
           "bgcolor": "#E5ECF6",
           "radialaxis": {
            "gridcolor": "white",
            "linecolor": "white",
            "ticks": ""
           }
          },
          "scene": {
           "xaxis": {
            "backgroundcolor": "#E5ECF6",
            "gridcolor": "white",
            "gridwidth": 2,
            "linecolor": "white",
            "showbackground": true,
            "ticks": "",
            "zerolinecolor": "white"
           },
           "yaxis": {
            "backgroundcolor": "#E5ECF6",
            "gridcolor": "white",
            "gridwidth": 2,
            "linecolor": "white",
            "showbackground": true,
            "ticks": "",
            "zerolinecolor": "white"
           },
           "zaxis": {
            "backgroundcolor": "#E5ECF6",
            "gridcolor": "white",
            "gridwidth": 2,
            "linecolor": "white",
            "showbackground": true,
            "ticks": "",
            "zerolinecolor": "white"
           }
          },
          "shapedefaults": {
           "line": {
            "color": "#2a3f5f"
           }
          },
          "ternary": {
           "aaxis": {
            "gridcolor": "white",
            "linecolor": "white",
            "ticks": ""
           },
           "baxis": {
            "gridcolor": "white",
            "linecolor": "white",
            "ticks": ""
           },
           "bgcolor": "#E5ECF6",
           "caxis": {
            "gridcolor": "white",
            "linecolor": "white",
            "ticks": ""
           }
          },
          "title": {
           "x": 0.05
          },
          "xaxis": {
           "automargin": true,
           "gridcolor": "white",
           "linecolor": "white",
           "ticks": "",
           "title": {
            "standoff": 15
           },
           "zerolinecolor": "white",
           "zerolinewidth": 2
          },
          "yaxis": {
           "automargin": true,
           "gridcolor": "white",
           "linecolor": "white",
           "ticks": "",
           "title": {
            "standoff": 15
           },
           "zerolinecolor": "white",
           "zerolinewidth": 2
          }
         }
        },
        "title": {
         "text": "Most trafficked US airports<br>(Hover for airport names)"
        }
       }
      }
     },
     "metadata": {},
     "output_type": "display_data"
    }
   ],
   "source": [
    "import plotly.graph_objects as go\n",
    "\n",
    "import pandas as pd\n",
    "\n",
    "df = pd.read_csv('https://raw.githubusercontent.com/plotly/datasets/master/2011_february_us_airport_traffic.csv')\n",
    "df['text'] = df['airport'] + '' + df['city'] + ', ' + df['state'] + '' + 'Arrivals: ' + df['cnt'].astype(str)\n",
    "\n",
    "fig = go.Figure(data=go.Scattergeo(\n",
    "        lon = df['long'],\n",
    "        lat = df['lat'],\n",
    "        text = df['text'],\n",
    "        mode = 'markers',\n",
    "        marker_color = df['cnt'],\n",
    "        ))\n",
    "\n",
    "fig.update_layout(\n",
    "        title = 'Most trafficked US airports<br>(Hover for airport names)',\n",
    "        geo_scope='europe',\n",
    "    )\n",
    "fig.show()"
   ]
  },
  {
   "cell_type": "markdown",
   "metadata": {},
   "source": [
    "# Load data"
   ]
  },
  {
   "cell_type": "code",
   "execution_count": 3,
   "metadata": {},
   "outputs": [],
   "source": [
    "import pandas as pd\n",
    "df = pd.read_excel(\"data\\\\PRNG_MIEJSCOWOSCI_XLSX.xlsx\")"
   ]
  },
  {
   "cell_type": "code",
   "execution_count": 4,
   "metadata": {},
   "outputs": [
    {
     "data": {
      "text/plain": [
       "Index(['identyfikator IIP', 'identyfikator PRNG', 'nazwa główna',\n",
       "       'element rozróżniający', 'element rodzajowy', 'dopełniacz',\n",
       "       'przymiotnik', 'status nazwy', 'kategoria obiektu', 'rodzaj obiektu',\n",
       "       'nazwa miejscowości nadrzędnej',\n",
       "       'identyfikator miejscowości nadrzędnej', 'informacje dodatkowe',\n",
       "       'system zewnętrzny', 'identyfikator zewnętrzny',\n",
       "       'tytuł dokumentu źródłowego', 'data dokumentu źródłowego',\n",
       "       'wydawca dokumentu źródłowego', 'rodzaj reprezentacji',\n",
       "       'współrzędne geograficzne', 'współrzędne prostokątne XY',\n",
       "       'nazwa historyczna', 'nazwa oboczna', 'nazwa dodatkowa',\n",
       "       'język nazwy dodatkowej', 'latynizacja nazwy dodatkowej', 'endonim',\n",
       "       'język endonimu', 'latynizacja endonimu', 'egzonim', 'język egzonimu',\n",
       "       'latynizacja egzonimu', 'województwo', 'powiat', 'gmina',\n",
       "       'identyfikator gminy', 'początek wersji obiektu', 'wersja obiektu',\n",
       "       'ważna od'],\n",
       "      dtype='object')"
      ]
     },
     "execution_count": 4,
     "metadata": {},
     "output_type": "execute_result"
    }
   ],
   "source": [
    "df.columns"
   ]
  },
  {
   "cell_type": "code",
   "execution_count": 5,
   "metadata": {},
   "outputs": [],
   "source": [
    "df.to_csv(\"prng_csv.csv\")"
   ]
  },
  {
   "cell_type": "markdown",
   "metadata": {},
   "source": [
    "# Data analyse"
   ]
  },
  {
   "cell_type": "code",
   "execution_count": 6,
   "metadata": {},
   "outputs": [
    {
     "data": {
      "text/plain": [
       "kategoria obiektu\n",
       "miejscowość    124564\n",
       "Name: count, dtype: int64"
      ]
     },
     "execution_count": 6,
     "metadata": {},
     "output_type": "execute_result"
    }
   ],
   "source": [
    "df[\"kategoria obiektu\"].value_counts()"
   ]
  },
  {
   "cell_type": "code",
   "execution_count": 7,
   "metadata": {},
   "outputs": [
    {
     "data": {
      "text/plain": [
       "rodzaj obiektu\n",
       "wieś                      43157\n",
       "część wsi                 42695\n",
       "część miasta              10909\n",
       "przysiółek wsi            10403\n",
       "osada                      5069\n",
       "kolonia wsi                3988\n",
       "osada leśna                2253\n",
       "kolonia                    2149\n",
       "leśniczówka                1224\n",
       "miasto                      979\n",
       "osada wsi                   759\n",
       "część kolonii               273\n",
       "osada leśna wsi             239\n",
       "przysiółek                  130\n",
       "część osady                  84\n",
       "przysiółek osady             73\n",
       "przysiółek kolonii           69\n",
       "schronisko turystyczne       47\n",
       "kolonia kolonii              28\n",
       "kolonia osady                15\n",
       "osada osady                   7\n",
       "osiedle                       5\n",
       "osiedle wsi                   5\n",
       "osada kolonii                 4\n",
       "Name: count, dtype: int64"
      ]
     },
     "execution_count": 7,
     "metadata": {},
     "output_type": "execute_result"
    }
   ],
   "source": [
    "df[\"rodzaj obiektu\"].value_counts()"
   ]
  },
  {
   "cell_type": "code",
   "execution_count": 8,
   "metadata": {},
   "outputs": [
    {
     "data": {
      "text/plain": [
       "0         50°43'04\" 16°39'19\"\n",
       "1         51°53'14\" 17°49'23\"\n",
       "2         52°49'34\" 15°39'12\"\n",
       "3         52°50'46\" 16°01'59\"\n",
       "4         50°29'50\" 17°58'15\"\n",
       "                 ...         \n",
       "124559    50°42'28\" 23°16'12\"\n",
       "124560    50°42'18\" 23°15'56\"\n",
       "124561    50°43'01\" 23°17'28\"\n",
       "124562    50°43'09\" 23°16'13\"\n",
       "124563    50°43'20\" 23°16'23\"\n",
       "Name: współrzędne geograficzne, Length: 124564, dtype: object"
      ]
     },
     "execution_count": 8,
     "metadata": {},
     "output_type": "execute_result"
    }
   ],
   "source": [
    "df[\"współrzędne geograficzne\"]"
   ]
  },
  {
   "cell_type": "code",
   "execution_count": 10,
   "metadata": {},
   "outputs": [
    {
     "data": {
      "text/plain": [
       "0              2\n",
       "1              4\n",
       "2              6\n",
       "3              7\n",
       "4              8\n",
       "           ...  \n",
       "124559    269639\n",
       "124560    269640\n",
       "124561    269641\n",
       "124562    269642\n",
       "124563    269643\n",
       "Name: identyfikator PRNG, Length: 124564, dtype: int64"
      ]
     },
     "execution_count": 10,
     "metadata": {},
     "output_type": "execute_result"
    }
   ],
   "source": [
    "df[\"identyfikator PRNG\"]"
   ]
  },
  {
   "cell_type": "code",
   "execution_count": 11,
   "metadata": {},
   "outputs": [
    {
     "data": {
      "text/plain": [
       "0                          Osiedle Struga\n",
       "1                                Abisynia\n",
       "2                                Abisynia\n",
       "3                                Abisynia\n",
       "4                                Abisynia\n",
       "                       ...               \n",
       "124559                 Osiedle św. Piątka\n",
       "124560               Osiedle Kompozytorów\n",
       "124561                 Osiedle Małe Ciche\n",
       "124562    Osiedle Bohaterów Monte Cassino\n",
       "124563                     Osiedle Zakole\n",
       "Name: nazwa główna, Length: 124564, dtype: object"
      ]
     },
     "execution_count": 11,
     "metadata": {},
     "output_type": "execute_result"
    }
   ],
   "source": [
    "df[\"nazwa główna\"]"
   ]
  },
  {
   "cell_type": "code",
   "execution_count": 12,
   "metadata": {},
   "outputs": [
    {
     "data": {
      "text/plain": [
       "nazwa główna\n",
       "Stara Wieś    570\n",
       "Podlesie      429\n",
       "Piaski        362\n",
       "Nowa Wieś     361\n",
       "Kolonia       306\n",
       "Góra          289\n",
       "Dąbrowa       252\n",
       "Dół           252\n",
       "Górki         243\n",
       "Zalesie       234\n",
       "Name: count, dtype: int64"
      ]
     },
     "execution_count": 12,
     "metadata": {},
     "output_type": "execute_result"
    }
   ],
   "source": [
    "df[\"nazwa główna\"].value_counts().head(10)"
   ]
  },
  {
   "cell_type": "code",
   "execution_count": 15,
   "metadata": {},
   "outputs": [
    {
     "data": {
      "text/plain": [
       "status nazwy\n",
       "urzędowa             101374\n",
       "niestandaryzowana     23190\n",
       "Name: count, dtype: int64"
      ]
     },
     "execution_count": 15,
     "metadata": {},
     "output_type": "execute_result"
    }
   ],
   "source": [
    "df[\"status nazwy\"].value_counts()"
   ]
  },
  {
   "cell_type": "code",
   "execution_count": 18,
   "metadata": {},
   "outputs": [
    {
     "data": {
      "text/plain": [
       "rodzaj obiektu\n",
       "wieś                      43157\n",
       "osada                      5069\n",
       "osada leśna                2253\n",
       "kolonia                    2149\n",
       "miasto                      979\n",
       "przysiółek                  130\n",
       "schronisko turystyczne       47\n",
       "osiedle                       5\n",
       "Name: count, dtype: int64"
      ]
     },
     "execution_count": 18,
     "metadata": {},
     "output_type": "execute_result"
    }
   ],
   "source": [
    "df[df[\"nazwa miejscowości nadrzędnej\"].isnull()][\"rodzaj obiektu\"].value_counts()"
   ]
  },
  {
   "cell_type": "code",
   "execution_count": 33,
   "metadata": {},
   "outputs": [
    {
     "data": {
      "text/plain": [
       "nazwa główna\n",
       "ówka    6198\n",
       "wice    2801\n",
       "onia    1917\n",
       "skie    1657\n",
       "kowo    1387\n",
       "Wieś    1349\n",
       "niec    1331\n",
       "nica    1283\n",
       "wiec    1119\n",
       "nowo    1011\n",
       "zewo     891\n",
       "esie     879\n",
       "Góra     869\n",
       "niki     842\n",
       "ówek     765\n",
       "wska     696\n",
       "iska     694\n",
       "anka     676\n",
       "anów     666\n",
       "zyce     602\n",
       "Name: count, dtype: int64"
      ]
     },
     "execution_count": 33,
     "metadata": {},
     "output_type": "execute_result"
    }
   ],
   "source": [
    "df[\"nazwa główna\"].str[-4:].value_counts().head(20)"
   ]
  },
  {
   "cell_type": "code",
   "execution_count": 31,
   "metadata": {},
   "outputs": [
    {
     "data": {
      "text/plain": [
       "nazwa główna\n",
       "wka    6453\n",
       "owo    5008\n",
       "ice    4306\n",
       "nia    3261\n",
       "iec    2697\n",
       "kie    2582\n",
       "ska    2360\n",
       "owa    1984\n",
       "ewo    1842\n",
       "ica    1829\n",
       "nka    1461\n",
       "ków    1452\n",
       "nów    1440\n",
       "nie    1410\n",
       "ieś    1400\n",
       "ski    1311\n",
       "iny    1280\n",
       "sie    1194\n",
       "ina    1154\n",
       "nki    1146\n",
       "Name: count, dtype: int64"
      ]
     },
     "execution_count": 31,
     "metadata": {},
     "output_type": "execute_result"
    }
   ],
   "source": [
    "df[\"nazwa główna\"].str[-3:].value_counts().head(20)"
   ]
  },
  {
   "cell_type": "code",
   "execution_count": 32,
   "metadata": {},
   "outputs": [
    {
     "data": {
      "text/plain": [
       "nazwa główna\n",
       "ka    13520\n",
       "ki    10780\n",
       "ie     7679\n",
       "ów     7524\n",
       "wo     7063\n",
       "ce     5714\n",
       "na     4326\n",
       "ia     3670\n",
       "ek     3646\n",
       "ny     3350\n",
       "ec     3055\n",
       "ze     2534\n",
       "wa     2529\n",
       "in     2489\n",
       "ca     2115\n",
       "no     2014\n",
       "le     1977\n",
       "ko     1907\n",
       "ry     1675\n",
       "ne     1609\n",
       "Name: count, dtype: int64"
      ]
     },
     "execution_count": 32,
     "metadata": {},
     "output_type": "execute_result"
    }
   ],
   "source": [
    "df[\"nazwa główna\"].str[-2:].value_counts().head(20)"
   ]
  },
  {
   "cell_type": "markdown",
   "metadata": {},
   "source": [
    "# Transform data"
   ]
  },
  {
   "cell_type": "code",
   "execution_count": 20,
   "metadata": {},
   "outputs": [],
   "source": [
    "df2 = df.copy()"
   ]
  },
  {
   "cell_type": "code",
   "execution_count": 19,
   "metadata": {},
   "outputs": [
    {
     "data": {
      "text/plain": [
       "Index(['identyfikator IIP', 'identyfikator PRNG', 'nazwa główna',\n",
       "       'element rozróżniający', 'element rodzajowy', 'dopełniacz',\n",
       "       'przymiotnik', 'status nazwy', 'kategoria obiektu', 'rodzaj obiektu',\n",
       "       'nazwa miejscowości nadrzędnej',\n",
       "       'identyfikator miejscowości nadrzędnej', 'informacje dodatkowe',\n",
       "       'system zewnętrzny', 'identyfikator zewnętrzny',\n",
       "       'tytuł dokumentu źródłowego', 'data dokumentu źródłowego',\n",
       "       'wydawca dokumentu źródłowego', 'rodzaj reprezentacji',\n",
       "       'współrzędne geograficzne', 'współrzędne prostokątne XY',\n",
       "       'nazwa historyczna', 'nazwa oboczna', 'nazwa dodatkowa',\n",
       "       'język nazwy dodatkowej', 'latynizacja nazwy dodatkowej', 'endonim',\n",
       "       'język endonimu', 'latynizacja endonimu', 'egzonim', 'język egzonimu',\n",
       "       'latynizacja egzonimu', 'województwo', 'powiat', 'gmina',\n",
       "       'identyfikator gminy', 'początek wersji obiektu', 'wersja obiektu',\n",
       "       'ważna od'],\n",
       "      dtype='object')"
      ]
     },
     "execution_count": 19,
     "metadata": {},
     "output_type": "execute_result"
    }
   ],
   "source": [
    "df.columns"
   ]
  },
  {
   "cell_type": "code",
   "execution_count": 37,
   "metadata": {},
   "outputs": [],
   "source": [
    "df = df[[\"identyfikator PRNG\", \"nazwa główna\", \"status nazwy\", \"nazwa miejscowości nadrzędnej\", \"współrzędne geograficzne\", \"województwo\", \"powiat\", \"gmina\"]].copy()"
   ]
  },
  {
   "cell_type": "code",
   "execution_count": 38,
   "metadata": {},
   "outputs": [],
   "source": [
    "df.rename(columns = {'identyfikator PRNG':'id',\n",
    "                     'nazwa główna': 'name',\n",
    "                     'status nazwy': 'status',\n",
    "                     \"nazwa miejscowości nadrzędnej\": \"higher_rank_object_name\",\n",
    "                     \"współrzędne geograficzne\": \"geo_coords\",\n",
    "                     \"województwo\": \"voivodeship\",\n",
    "                     \"powiat\": \"district\",\n",
    "                     \"gmina\": \"commune\"\n",
    "                     }, \n",
    "          inplace = True)"
   ]
  },
  {
   "cell_type": "code",
   "execution_count": 71,
   "metadata": {},
   "outputs": [],
   "source": [
    "df[[\"lat\", \"lon\"]] = df[\"geo_coords\"].str.split(' ', expand=True)"
   ]
  },
  {
   "cell_type": "code",
   "execution_count": 73,
   "metadata": {},
   "outputs": [
    {
     "data": {
      "text/plain": [
       "0         16°39'19\"\n",
       "1         17°49'23\"\n",
       "2         15°39'12\"\n",
       "3         16°01'59\"\n",
       "4         17°58'15\"\n",
       "            ...    \n",
       "124559    23°16'12\"\n",
       "124560    23°15'56\"\n",
       "124561    23°17'28\"\n",
       "124562    23°16'13\"\n",
       "124563    23°16'23\"\n",
       "Name: lon, Length: 124564, dtype: object"
      ]
     },
     "execution_count": 73,
     "metadata": {},
     "output_type": "execute_result"
    }
   ],
   "source": [
    "df[\"lon\"]"
   ]
  },
  {
   "cell_type": "code",
   "execution_count": 81,
   "metadata": {},
   "outputs": [
    {
     "data": {
      "text/html": [
       "<div>\n",
       "<style scoped>\n",
       "    .dataframe tbody tr th:only-of-type {\n",
       "        vertical-align: middle;\n",
       "    }\n",
       "\n",
       "    .dataframe tbody tr th {\n",
       "        vertical-align: top;\n",
       "    }\n",
       "\n",
       "    .dataframe thead th {\n",
       "        text-align: right;\n",
       "    }\n",
       "</style>\n",
       "<table border=\"1\" class=\"dataframe\">\n",
       "  <thead>\n",
       "    <tr style=\"text-align: right;\">\n",
       "      <th></th>\n",
       "      <th>0</th>\n",
       "      <th>1</th>\n",
       "      <th>2</th>\n",
       "    </tr>\n",
       "  </thead>\n",
       "  <tbody>\n",
       "    <tr>\n",
       "      <th>0</th>\n",
       "      <td>50</td>\n",
       "      <td>43</td>\n",
       "      <td>04</td>\n",
       "    </tr>\n",
       "    <tr>\n",
       "      <th>1</th>\n",
       "      <td>51</td>\n",
       "      <td>53</td>\n",
       "      <td>14</td>\n",
       "    </tr>\n",
       "    <tr>\n",
       "      <th>2</th>\n",
       "      <td>52</td>\n",
       "      <td>49</td>\n",
       "      <td>34</td>\n",
       "    </tr>\n",
       "    <tr>\n",
       "      <th>3</th>\n",
       "      <td>52</td>\n",
       "      <td>50</td>\n",
       "      <td>46</td>\n",
       "    </tr>\n",
       "    <tr>\n",
       "      <th>4</th>\n",
       "      <td>50</td>\n",
       "      <td>29</td>\n",
       "      <td>50</td>\n",
       "    </tr>\n",
       "    <tr>\n",
       "      <th>...</th>\n",
       "      <td>...</td>\n",
       "      <td>...</td>\n",
       "      <td>...</td>\n",
       "    </tr>\n",
       "    <tr>\n",
       "      <th>124559</th>\n",
       "      <td>50</td>\n",
       "      <td>42</td>\n",
       "      <td>28</td>\n",
       "    </tr>\n",
       "    <tr>\n",
       "      <th>124560</th>\n",
       "      <td>50</td>\n",
       "      <td>42</td>\n",
       "      <td>18</td>\n",
       "    </tr>\n",
       "    <tr>\n",
       "      <th>124561</th>\n",
       "      <td>50</td>\n",
       "      <td>43</td>\n",
       "      <td>01</td>\n",
       "    </tr>\n",
       "    <tr>\n",
       "      <th>124562</th>\n",
       "      <td>50</td>\n",
       "      <td>43</td>\n",
       "      <td>09</td>\n",
       "    </tr>\n",
       "    <tr>\n",
       "      <th>124563</th>\n",
       "      <td>50</td>\n",
       "      <td>43</td>\n",
       "      <td>20</td>\n",
       "    </tr>\n",
       "  </tbody>\n",
       "</table>\n",
       "<p>124564 rows × 3 columns</p>\n",
       "</div>"
      ],
      "text/plain": [
       "         0   1   2\n",
       "0       50  43  04\n",
       "1       51  53  14\n",
       "2       52  49  34\n",
       "3       52  50  46\n",
       "4       50  29  50\n",
       "...     ..  ..  ..\n",
       "124559  50  42  28\n",
       "124560  50  42  18\n",
       "124561  50  43  01\n",
       "124562  50  43  09\n",
       "124563  50  43  20\n",
       "\n",
       "[124564 rows x 3 columns]"
      ]
     },
     "execution_count": 81,
     "metadata": {},
     "output_type": "execute_result"
    }
   ],
   "source": [
    "pd.DataFrame(df[\"lat\"].apply(split_coords).to_list())"
   ]
  },
  {
   "cell_type": "code",
   "execution_count": 82,
   "metadata": {},
   "outputs": [],
   "source": [
    "def split_coords(x):\n",
    "    return re.findall(r\"(\\d+)\", x)\n",
    "\n",
    "df111 = pd.DataFrame()\n",
    "\n",
    "df111[[\"d_lat\", \"m_lat\", \"s_lat\"]] = df[\"lat\"].apply(split_coords).to_list()"
   ]
  },
  {
   "cell_type": "code",
   "execution_count": 83,
   "metadata": {},
   "outputs": [],
   "source": [
    "df111[[\"d_lon\", \"m_lon\", \"s_lon\"]] = df[\"lon\"].apply(split_coords).to_list()"
   ]
  },
  {
   "cell_type": "code",
   "execution_count": 111,
   "metadata": {},
   "outputs": [],
   "source": [
    "df111 = df111.apply(pd.to_numeric)"
   ]
  },
  {
   "cell_type": "code",
   "execution_count": 177,
   "metadata": {},
   "outputs": [],
   "source": [
    "def convert_dms_to_dd(row):\n",
    "    return row[0] + row[1]/60 + row[2]/3600"
   ]
  },
  {
   "cell_type": "code",
   "execution_count": 178,
   "metadata": {},
   "outputs": [
    {
     "data": {
      "text/plain": [
       "0         50.717778\n",
       "1         51.887222\n",
       "2         52.826111\n",
       "3         52.846111\n",
       "4         50.497222\n",
       "            ...    \n",
       "124559    50.707778\n",
       "124560    50.705000\n",
       "124561    50.716944\n",
       "124562    50.719167\n",
       "124563    50.722222\n",
       "Length: 124564, dtype: float64"
      ]
     },
     "execution_count": 178,
     "metadata": {},
     "output_type": "execute_result"
    }
   ],
   "source": [
    "df111[[\"d_lat\", \"m_lat\", \"s_lat\"]].apply(convert_dms_to_dd, axis=1)"
   ]
  },
  {
   "cell_type": "markdown",
   "metadata": {},
   "source": [
    "### DF"
   ]
  },
  {
   "cell_type": "code",
   "execution_count": 179,
   "metadata": {},
   "outputs": [],
   "source": [
    "df[[\"d_lat\", \"m_lat\", \"s_lat\"]] = df[\"lat\"].apply(split_coords).to_list()\n",
    "df[[\"d_lon\", \"m_lon\", \"s_lon\"]] = df[\"lon\"].apply(split_coords).to_list()\n",
    "\n",
    "df[[\"d_lat\", \"m_lat\", \"s_lat\"]] = df[[\"d_lat\", \"m_lat\", \"s_lat\"]].astype(int)\n",
    "df[[\"d_lon\", \"m_lon\", \"s_lon\"]] = df[[\"d_lon\", \"m_lon\", \"s_lon\"]].astype(int)\n",
    "\n",
    "df[\"dd_lat\"] = df[[\"d_lat\", \"m_lat\", \"s_lat\"]].apply(convert_dms_to_dd, axis=1)\n",
    "df[\"dd_lon\"] = df[[\"d_lon\", \"m_lon\", \"s_lon\"]].apply(convert_dms_to_dd, axis=1)\n",
    "\n",
    "df.drop(columns=[\"d_lat\", \"m_lat\", \"s_lat\", \"d_lon\", \"m_lon\", \"s_lon\"], inplace=True)"
   ]
  },
  {
   "cell_type": "code",
   "execution_count": 180,
   "metadata": {},
   "outputs": [
    {
     "data": {
      "text/html": [
       "<div>\n",
       "<style scoped>\n",
       "    .dataframe tbody tr th:only-of-type {\n",
       "        vertical-align: middle;\n",
       "    }\n",
       "\n",
       "    .dataframe tbody tr th {\n",
       "        vertical-align: top;\n",
       "    }\n",
       "\n",
       "    .dataframe thead th {\n",
       "        text-align: right;\n",
       "    }\n",
       "</style>\n",
       "<table border=\"1\" class=\"dataframe\">\n",
       "  <thead>\n",
       "    <tr style=\"text-align: right;\">\n",
       "      <th></th>\n",
       "      <th>id</th>\n",
       "      <th>name</th>\n",
       "      <th>status</th>\n",
       "      <th>higher_rank_object_name</th>\n",
       "      <th>geo_coords</th>\n",
       "      <th>voivodeship</th>\n",
       "      <th>district</th>\n",
       "      <th>commune</th>\n",
       "      <th>lat</th>\n",
       "      <th>lon</th>\n",
       "      <th>dd_lat</th>\n",
       "      <th>dd_lon</th>\n",
       "    </tr>\n",
       "  </thead>\n",
       "  <tbody>\n",
       "    <tr>\n",
       "      <th>0</th>\n",
       "      <td>2</td>\n",
       "      <td>Osiedle Struga</td>\n",
       "      <td>niestandaryzowana</td>\n",
       "      <td>Dzierżoniów</td>\n",
       "      <td>50°43'04\" 16°39'19\"</td>\n",
       "      <td>dolnośląskie</td>\n",
       "      <td>dzierżoniowski</td>\n",
       "      <td>Dzierżoniów-gmina miejska</td>\n",
       "      <td>50°43'04\"</td>\n",
       "      <td>16°39'19\"</td>\n",
       "      <td>50.717778</td>\n",
       "      <td>16.655278</td>\n",
       "    </tr>\n",
       "    <tr>\n",
       "      <th>1</th>\n",
       "      <td>4</td>\n",
       "      <td>Abisynia</td>\n",
       "      <td>niestandaryzowana</td>\n",
       "      <td>Lenartowice</td>\n",
       "      <td>51°53'14\" 17°49'23\"</td>\n",
       "      <td>wielkopolskie</td>\n",
       "      <td>pleszewski</td>\n",
       "      <td>Pleszew-gmina miejsko-wiejska</td>\n",
       "      <td>51°53'14\"</td>\n",
       "      <td>17°49'23\"</td>\n",
       "      <td>51.887222</td>\n",
       "      <td>17.823056</td>\n",
       "    </tr>\n",
       "    <tr>\n",
       "      <th>2</th>\n",
       "      <td>6</td>\n",
       "      <td>Abisynia</td>\n",
       "      <td>niestandaryzowana</td>\n",
       "      <td>Pławin</td>\n",
       "      <td>52°49'34\" 15°39'12\"</td>\n",
       "      <td>lubuskie</td>\n",
       "      <td>strzelecko-drezdenecki</td>\n",
       "      <td>Stare Kurowo-gmina wiejska</td>\n",
       "      <td>52°49'34\"</td>\n",
       "      <td>15°39'12\"</td>\n",
       "      <td>52.826111</td>\n",
       "      <td>15.653333</td>\n",
       "    </tr>\n",
       "    <tr>\n",
       "      <th>3</th>\n",
       "      <td>7</td>\n",
       "      <td>Abisynia</td>\n",
       "      <td>urzędowa</td>\n",
       "      <td>Drawsko</td>\n",
       "      <td>52°50'46\" 16°01'59\"</td>\n",
       "      <td>wielkopolskie</td>\n",
       "      <td>czarnkowsko-trzcianecki</td>\n",
       "      <td>Drawsko-gmina wiejska</td>\n",
       "      <td>52°50'46\"</td>\n",
       "      <td>16°01'59\"</td>\n",
       "      <td>52.846111</td>\n",
       "      <td>16.033056</td>\n",
       "    </tr>\n",
       "    <tr>\n",
       "      <th>4</th>\n",
       "      <td>8</td>\n",
       "      <td>Abisynia</td>\n",
       "      <td>niestandaryzowana</td>\n",
       "      <td>Krapkowice</td>\n",
       "      <td>50°29'50\" 17°58'15\"</td>\n",
       "      <td>opolskie</td>\n",
       "      <td>krapkowicki</td>\n",
       "      <td>Krapkowice-gmina miejsko-wiejska</td>\n",
       "      <td>50°29'50\"</td>\n",
       "      <td>17°58'15\"</td>\n",
       "      <td>50.497222</td>\n",
       "      <td>17.970833</td>\n",
       "    </tr>\n",
       "    <tr>\n",
       "      <th>...</th>\n",
       "      <td>...</td>\n",
       "      <td>...</td>\n",
       "      <td>...</td>\n",
       "      <td>...</td>\n",
       "      <td>...</td>\n",
       "      <td>...</td>\n",
       "      <td>...</td>\n",
       "      <td>...</td>\n",
       "      <td>...</td>\n",
       "      <td>...</td>\n",
       "      <td>...</td>\n",
       "      <td>...</td>\n",
       "    </tr>\n",
       "    <tr>\n",
       "      <th>124559</th>\n",
       "      <td>269639</td>\n",
       "      <td>Osiedle św. Piątka</td>\n",
       "      <td>niestandaryzowana</td>\n",
       "      <td>Zamość</td>\n",
       "      <td>50°42'28\" 23°16'12\"</td>\n",
       "      <td>lubelskie</td>\n",
       "      <td>Zamość</td>\n",
       "      <td>Zamość-gmina miejska</td>\n",
       "      <td>50°42'28\"</td>\n",
       "      <td>23°16'12\"</td>\n",
       "      <td>50.707778</td>\n",
       "      <td>23.270000</td>\n",
       "    </tr>\n",
       "    <tr>\n",
       "      <th>124560</th>\n",
       "      <td>269640</td>\n",
       "      <td>Osiedle Kompozytorów</td>\n",
       "      <td>niestandaryzowana</td>\n",
       "      <td>Zamość</td>\n",
       "      <td>50°42'18\" 23°15'56\"</td>\n",
       "      <td>lubelskie</td>\n",
       "      <td>Zamość</td>\n",
       "      <td>Zamość-gmina miejska</td>\n",
       "      <td>50°42'18\"</td>\n",
       "      <td>23°15'56\"</td>\n",
       "      <td>50.705000</td>\n",
       "      <td>23.265556</td>\n",
       "    </tr>\n",
       "    <tr>\n",
       "      <th>124561</th>\n",
       "      <td>269641</td>\n",
       "      <td>Osiedle Małe Ciche</td>\n",
       "      <td>niestandaryzowana</td>\n",
       "      <td>Zamość</td>\n",
       "      <td>50°43'01\" 23°17'28\"</td>\n",
       "      <td>lubelskie</td>\n",
       "      <td>Zamość</td>\n",
       "      <td>Zamość-gmina miejska</td>\n",
       "      <td>50°43'01\"</td>\n",
       "      <td>23°17'28\"</td>\n",
       "      <td>50.716944</td>\n",
       "      <td>23.291111</td>\n",
       "    </tr>\n",
       "    <tr>\n",
       "      <th>124562</th>\n",
       "      <td>269642</td>\n",
       "      <td>Osiedle Bohaterów Monte Cassino</td>\n",
       "      <td>niestandaryzowana</td>\n",
       "      <td>Zamość</td>\n",
       "      <td>50°43'09\" 23°16'13\"</td>\n",
       "      <td>lubelskie</td>\n",
       "      <td>Zamość</td>\n",
       "      <td>Zamość-gmina miejska</td>\n",
       "      <td>50°43'09\"</td>\n",
       "      <td>23°16'13\"</td>\n",
       "      <td>50.719167</td>\n",
       "      <td>23.270278</td>\n",
       "    </tr>\n",
       "    <tr>\n",
       "      <th>124563</th>\n",
       "      <td>269643</td>\n",
       "      <td>Osiedle Zakole</td>\n",
       "      <td>niestandaryzowana</td>\n",
       "      <td>Zamość</td>\n",
       "      <td>50°43'20\" 23°16'23\"</td>\n",
       "      <td>lubelskie</td>\n",
       "      <td>Zamość</td>\n",
       "      <td>Zamość-gmina miejska</td>\n",
       "      <td>50°43'20\"</td>\n",
       "      <td>23°16'23\"</td>\n",
       "      <td>50.722222</td>\n",
       "      <td>23.273056</td>\n",
       "    </tr>\n",
       "  </tbody>\n",
       "</table>\n",
       "<p>124564 rows × 12 columns</p>\n",
       "</div>"
      ],
      "text/plain": [
       "            id                             name             status  \\\n",
       "0            2                   Osiedle Struga  niestandaryzowana   \n",
       "1            4                         Abisynia  niestandaryzowana   \n",
       "2            6                         Abisynia  niestandaryzowana   \n",
       "3            7                         Abisynia           urzędowa   \n",
       "4            8                         Abisynia  niestandaryzowana   \n",
       "...        ...                              ...                ...   \n",
       "124559  269639               Osiedle św. Piątka  niestandaryzowana   \n",
       "124560  269640             Osiedle Kompozytorów  niestandaryzowana   \n",
       "124561  269641               Osiedle Małe Ciche  niestandaryzowana   \n",
       "124562  269642  Osiedle Bohaterów Monte Cassino  niestandaryzowana   \n",
       "124563  269643                   Osiedle Zakole  niestandaryzowana   \n",
       "\n",
       "       higher_rank_object_name           geo_coords    voivodeship  \\\n",
       "0                  Dzierżoniów  50°43'04\" 16°39'19\"   dolnośląskie   \n",
       "1                  Lenartowice  51°53'14\" 17°49'23\"  wielkopolskie   \n",
       "2                       Pławin  52°49'34\" 15°39'12\"       lubuskie   \n",
       "3                      Drawsko  52°50'46\" 16°01'59\"  wielkopolskie   \n",
       "4                   Krapkowice  50°29'50\" 17°58'15\"       opolskie   \n",
       "...                        ...                  ...            ...   \n",
       "124559                  Zamość  50°42'28\" 23°16'12\"      lubelskie   \n",
       "124560                  Zamość  50°42'18\" 23°15'56\"      lubelskie   \n",
       "124561                  Zamość  50°43'01\" 23°17'28\"      lubelskie   \n",
       "124562                  Zamość  50°43'09\" 23°16'13\"      lubelskie   \n",
       "124563                  Zamość  50°43'20\" 23°16'23\"      lubelskie   \n",
       "\n",
       "                       district                           commune        lat  \\\n",
       "0                dzierżoniowski         Dzierżoniów-gmina miejska  50°43'04\"   \n",
       "1                    pleszewski     Pleszew-gmina miejsko-wiejska  51°53'14\"   \n",
       "2        strzelecko-drezdenecki        Stare Kurowo-gmina wiejska  52°49'34\"   \n",
       "3       czarnkowsko-trzcianecki             Drawsko-gmina wiejska  52°50'46\"   \n",
       "4                   krapkowicki  Krapkowice-gmina miejsko-wiejska  50°29'50\"   \n",
       "...                         ...                               ...        ...   \n",
       "124559                   Zamość              Zamość-gmina miejska  50°42'28\"   \n",
       "124560                   Zamość              Zamość-gmina miejska  50°42'18\"   \n",
       "124561                   Zamość              Zamość-gmina miejska  50°43'01\"   \n",
       "124562                   Zamość              Zamość-gmina miejska  50°43'09\"   \n",
       "124563                   Zamość              Zamość-gmina miejska  50°43'20\"   \n",
       "\n",
       "              lon     dd_lat     dd_lon  \n",
       "0       16°39'19\"  50.717778  16.655278  \n",
       "1       17°49'23\"  51.887222  17.823056  \n",
       "2       15°39'12\"  52.826111  15.653333  \n",
       "3       16°01'59\"  52.846111  16.033056  \n",
       "4       17°58'15\"  50.497222  17.970833  \n",
       "...           ...        ...        ...  \n",
       "124559  23°16'12\"  50.707778  23.270000  \n",
       "124560  23°15'56\"  50.705000  23.265556  \n",
       "124561  23°17'28\"  50.716944  23.291111  \n",
       "124562  23°16'13\"  50.719167  23.270278  \n",
       "124563  23°16'23\"  50.722222  23.273056  \n",
       "\n",
       "[124564 rows x 12 columns]"
      ]
     },
     "execution_count": 180,
     "metadata": {},
     "output_type": "execute_result"
    }
   ],
   "source": [
    "df"
   ]
  },
  {
   "cell_type": "markdown",
   "metadata": {},
   "source": [
    "# 1. Static plot"
   ]
  },
  {
   "cell_type": "code",
   "execution_count": 120,
   "metadata": {},
   "outputs": [],
   "source": [
    "from mpl_toolkits.basemap import Basemap\n",
    "import matplotlib.pyplot as plt\n"
   ]
  },
  {
   "cell_type": "code",
   "execution_count": 174,
   "metadata": {},
   "outputs": [
    {
     "data": {
      "text/html": [
       "<div>\n",
       "<style scoped>\n",
       "    .dataframe tbody tr th:only-of-type {\n",
       "        vertical-align: middle;\n",
       "    }\n",
       "\n",
       "    .dataframe tbody tr th {\n",
       "        vertical-align: top;\n",
       "    }\n",
       "\n",
       "    .dataframe thead th {\n",
       "        text-align: right;\n",
       "    }\n",
       "</style>\n",
       "<table border=\"1\" class=\"dataframe\">\n",
       "  <thead>\n",
       "    <tr style=\"text-align: right;\">\n",
       "      <th></th>\n",
       "      <th>id</th>\n",
       "      <th>name</th>\n",
       "      <th>status</th>\n",
       "      <th>higher_rank_object_name</th>\n",
       "      <th>geo_coords</th>\n",
       "      <th>voivodeship</th>\n",
       "      <th>district</th>\n",
       "      <th>commune</th>\n",
       "      <th>lat</th>\n",
       "      <th>lon</th>\n",
       "      <th>dd_lat</th>\n",
       "      <th>dd_lon</th>\n",
       "    </tr>\n",
       "  </thead>\n",
       "  <tbody>\n",
       "    <tr>\n",
       "      <th>0</th>\n",
       "      <td>2</td>\n",
       "      <td>Osiedle Struga</td>\n",
       "      <td>niestandaryzowana</td>\n",
       "      <td>Dzierżoniów</td>\n",
       "      <td>50°43'04\" 16°39'19\"</td>\n",
       "      <td>dolnośląskie</td>\n",
       "      <td>dzierżoniowski</td>\n",
       "      <td>Dzierżoniów-gmina miejska</td>\n",
       "      <td>50°43'04\"</td>\n",
       "      <td>16°39'19\"</td>\n",
       "      <td>51.721111</td>\n",
       "      <td>17.565278</td>\n",
       "    </tr>\n",
       "    <tr>\n",
       "      <th>1</th>\n",
       "      <td>4</td>\n",
       "      <td>Abisynia</td>\n",
       "      <td>niestandaryzowana</td>\n",
       "      <td>Lenartowice</td>\n",
       "      <td>51°53'14\" 17°49'23\"</td>\n",
       "      <td>wielkopolskie</td>\n",
       "      <td>pleszewski</td>\n",
       "      <td>Pleszew-gmina miejsko-wiejska</td>\n",
       "      <td>51°53'14\"</td>\n",
       "      <td>17°49'23\"</td>\n",
       "      <td>53.123889</td>\n",
       "      <td>18.966389</td>\n",
       "    </tr>\n",
       "    <tr>\n",
       "      <th>2</th>\n",
       "      <td>6</td>\n",
       "      <td>Abisynia</td>\n",
       "      <td>niestandaryzowana</td>\n",
       "      <td>Pławin</td>\n",
       "      <td>52°49'34\" 15°39'12\"</td>\n",
       "      <td>lubuskie</td>\n",
       "      <td>strzelecko-drezdenecki</td>\n",
       "      <td>Stare Kurowo-gmina wiejska</td>\n",
       "      <td>52°49'34\"</td>\n",
       "      <td>15°39'12\"</td>\n",
       "      <td>53.969444</td>\n",
       "      <td>16.563333</td>\n",
       "    </tr>\n",
       "    <tr>\n",
       "      <th>3</th>\n",
       "      <td>7</td>\n",
       "      <td>Abisynia</td>\n",
       "      <td>urzędowa</td>\n",
       "      <td>Drawsko</td>\n",
       "      <td>52°50'46\" 16°01'59\"</td>\n",
       "      <td>wielkopolskie</td>\n",
       "      <td>czarnkowsko-trzcianecki</td>\n",
       "      <td>Drawsko-gmina wiejska</td>\n",
       "      <td>52°50'46\"</td>\n",
       "      <td>16°01'59\"</td>\n",
       "      <td>54.012778</td>\n",
       "      <td>16.056389</td>\n",
       "    </tr>\n",
       "    <tr>\n",
       "      <th>4</th>\n",
       "      <td>8</td>\n",
       "      <td>Abisynia</td>\n",
       "      <td>niestandaryzowana</td>\n",
       "      <td>Krapkowice</td>\n",
       "      <td>50°29'50\" 17°58'15\"</td>\n",
       "      <td>opolskie</td>\n",
       "      <td>krapkowicki</td>\n",
       "      <td>Krapkowice-gmina miejsko-wiejska</td>\n",
       "      <td>50°29'50\"</td>\n",
       "      <td>17°58'15\"</td>\n",
       "      <td>51.173889</td>\n",
       "      <td>19.324167</td>\n",
       "    </tr>\n",
       "    <tr>\n",
       "      <th>...</th>\n",
       "      <td>...</td>\n",
       "      <td>...</td>\n",
       "      <td>...</td>\n",
       "      <td>...</td>\n",
       "      <td>...</td>\n",
       "      <td>...</td>\n",
       "      <td>...</td>\n",
       "      <td>...</td>\n",
       "      <td>...</td>\n",
       "      <td>...</td>\n",
       "      <td>...</td>\n",
       "      <td>...</td>\n",
       "    </tr>\n",
       "    <tr>\n",
       "      <th>95</th>\n",
       "      <td>136</td>\n",
       "      <td>Adamów</td>\n",
       "      <td>urzędowa</td>\n",
       "      <td>NaN</td>\n",
       "      <td>52°09'14\" 18°21'47\"</td>\n",
       "      <td>wielkopolskie</td>\n",
       "      <td>koniński</td>\n",
       "      <td>Krzymów-gmina wiejska</td>\n",
       "      <td>52°09'14\"</td>\n",
       "      <td>18°21'47\"</td>\n",
       "      <td>52.363889</td>\n",
       "      <td>18.853056</td>\n",
       "    </tr>\n",
       "    <tr>\n",
       "      <th>96</th>\n",
       "      <td>137</td>\n",
       "      <td>Kadzidłowa-Adamów</td>\n",
       "      <td>urzędowa</td>\n",
       "      <td>Kadzidłowa</td>\n",
       "      <td>52°11'33\" 18°56'08\"</td>\n",
       "      <td>łódzkie</td>\n",
       "      <td>łęczycki</td>\n",
       "      <td>Grabów-gmina wiejska</td>\n",
       "      <td>52°11'33\"</td>\n",
       "      <td>18°56'08\"</td>\n",
       "      <td>52.449167</td>\n",
       "      <td>20.242222</td>\n",
       "    </tr>\n",
       "    <tr>\n",
       "      <th>97</th>\n",
       "      <td>138</td>\n",
       "      <td>Adamów</td>\n",
       "      <td>urzędowa</td>\n",
       "      <td>NaN</td>\n",
       "      <td>52°20'27\" 19°38'40\"</td>\n",
       "      <td>mazowieckie</td>\n",
       "      <td>gostyniński</td>\n",
       "      <td>Szczawin Kościelny-gmina wiejska</td>\n",
       "      <td>52°20'27\"</td>\n",
       "      <td>19°38'40\"</td>\n",
       "      <td>52.807500</td>\n",
       "      <td>20.531111</td>\n",
       "    </tr>\n",
       "    <tr>\n",
       "      <th>98</th>\n",
       "      <td>139</td>\n",
       "      <td>Adamów</td>\n",
       "      <td>urzędowa</td>\n",
       "      <td>Janów</td>\n",
       "      <td>52°17'06\" 19°34'14\"</td>\n",
       "      <td>łódzkie</td>\n",
       "      <td>kutnowski</td>\n",
       "      <td>Oporów-gmina wiejska</td>\n",
       "      <td>52°17'06\"</td>\n",
       "      <td>19°34'14\"</td>\n",
       "      <td>52.681667</td>\n",
       "      <td>20.363889</td>\n",
       "    </tr>\n",
       "    <tr>\n",
       "      <th>99</th>\n",
       "      <td>140</td>\n",
       "      <td>Adamów</td>\n",
       "      <td>urzędowa</td>\n",
       "      <td>Nowa Żelazna</td>\n",
       "      <td>52°10'52\" 19°12'23\"</td>\n",
       "      <td>łódzkie</td>\n",
       "      <td>łęczycki</td>\n",
       "      <td>Daszyna-gmina wiejska</td>\n",
       "      <td>52°10'52\"</td>\n",
       "      <td>19°12'23\"</td>\n",
       "      <td>52.414444</td>\n",
       "      <td>19.486389</td>\n",
       "    </tr>\n",
       "  </tbody>\n",
       "</table>\n",
       "<p>100 rows × 12 columns</p>\n",
       "</div>"
      ],
      "text/plain": [
       "     id               name             status higher_rank_object_name  \\\n",
       "0     2     Osiedle Struga  niestandaryzowana             Dzierżoniów   \n",
       "1     4           Abisynia  niestandaryzowana             Lenartowice   \n",
       "2     6           Abisynia  niestandaryzowana                  Pławin   \n",
       "3     7           Abisynia           urzędowa                 Drawsko   \n",
       "4     8           Abisynia  niestandaryzowana              Krapkowice   \n",
       "..  ...                ...                ...                     ...   \n",
       "95  136             Adamów           urzędowa                     NaN   \n",
       "96  137  Kadzidłowa-Adamów           urzędowa              Kadzidłowa   \n",
       "97  138             Adamów           urzędowa                     NaN   \n",
       "98  139             Adamów           urzędowa                   Janów   \n",
       "99  140             Adamów           urzędowa            Nowa Żelazna   \n",
       "\n",
       "             geo_coords    voivodeship                 district  \\\n",
       "0   50°43'04\" 16°39'19\"   dolnośląskie           dzierżoniowski   \n",
       "1   51°53'14\" 17°49'23\"  wielkopolskie               pleszewski   \n",
       "2   52°49'34\" 15°39'12\"       lubuskie   strzelecko-drezdenecki   \n",
       "3   52°50'46\" 16°01'59\"  wielkopolskie  czarnkowsko-trzcianecki   \n",
       "4   50°29'50\" 17°58'15\"       opolskie              krapkowicki   \n",
       "..                  ...            ...                      ...   \n",
       "95  52°09'14\" 18°21'47\"  wielkopolskie                 koniński   \n",
       "96  52°11'33\" 18°56'08\"        łódzkie                 łęczycki   \n",
       "97  52°20'27\" 19°38'40\"    mazowieckie              gostyniński   \n",
       "98  52°17'06\" 19°34'14\"        łódzkie                kutnowski   \n",
       "99  52°10'52\" 19°12'23\"        łódzkie                 łęczycki   \n",
       "\n",
       "                             commune        lat        lon     dd_lat  \\\n",
       "0          Dzierżoniów-gmina miejska  50°43'04\"  16°39'19\"  51.721111   \n",
       "1      Pleszew-gmina miejsko-wiejska  51°53'14\"  17°49'23\"  53.123889   \n",
       "2         Stare Kurowo-gmina wiejska  52°49'34\"  15°39'12\"  53.969444   \n",
       "3              Drawsko-gmina wiejska  52°50'46\"  16°01'59\"  54.012778   \n",
       "4   Krapkowice-gmina miejsko-wiejska  50°29'50\"  17°58'15\"  51.173889   \n",
       "..                               ...        ...        ...        ...   \n",
       "95             Krzymów-gmina wiejska  52°09'14\"  18°21'47\"  52.363889   \n",
       "96              Grabów-gmina wiejska  52°11'33\"  18°56'08\"  52.449167   \n",
       "97  Szczawin Kościelny-gmina wiejska  52°20'27\"  19°38'40\"  52.807500   \n",
       "98              Oporów-gmina wiejska  52°17'06\"  19°34'14\"  52.681667   \n",
       "99             Daszyna-gmina wiejska  52°10'52\"  19°12'23\"  52.414444   \n",
       "\n",
       "       dd_lon  \n",
       "0   17.565278  \n",
       "1   18.966389  \n",
       "2   16.563333  \n",
       "3   16.056389  \n",
       "4   19.324167  \n",
       "..        ...  \n",
       "95  18.853056  \n",
       "96  20.242222  \n",
       "97  20.531111  \n",
       "98  20.363889  \n",
       "99  19.486389  \n",
       "\n",
       "[100 rows x 12 columns]"
      ]
     },
     "execution_count": 174,
     "metadata": {},
     "output_type": "execute_result"
    }
   ],
   "source": [
    "df.head(100)"
   ]
  },
  {
   "cell_type": "code",
   "execution_count": 190,
   "metadata": {},
   "outputs": [
    {
     "data": {
      "text/plain": [
       "<matplotlib.collections.PathCollection at 0x195c0aae380>"
      ]
     },
     "execution_count": 190,
     "metadata": {},
     "output_type": "execute_result"
    },
    {
     "data": {
      "image/png": "[encoded data removed]",
      "text/plain": [
       "<Figure size 800x800 with 1 Axes>"
      ]
     },
     "metadata": {},
     "output_type": "display_data"
    }
   ],
   "source": [
    "fig = plt.figure(figsize=(8, 8))\n",
    "m = Basemap(projection=\"lcc\", resolution='i', \n",
    "            width=8e5, height=8e5, \n",
    "            lat_0=52, lon_0=19,\n",
    "            )\n",
    "\n",
    "m.drawcoastlines(linewidth = 1)\n",
    "m.drawcountries()\n",
    "\n",
    "# m.etopo(scale=0.5, alpha=0.5)\n",
    "\n",
    "# Map (long, lat) to (x, y) for plotting\n",
    "x, y = m(\n",
    "    df[\"dd_lon\"].values[:1000].tolist(),\n",
    "    df[\"dd_lat\"].values[:1000].tolist()\n",
    ")\n",
    "# plt.plot(x, y, 'ok', markersize=5)\n",
    "\n",
    "m.scatter(x, y)\n"
   ]
  },
  {
   "cell_type": "markdown",
   "metadata": {},
   "source": [
    "# 2. Folium"
   ]
  },
  {
   "cell_type": "markdown",
   "metadata": {},
   "source": [
    "# 3. Plotly + Mapbox"
   ]
  }
 ],
 "metadata": {
  "kernelspec": {
   "display_name": "venv",
   "language": "python",
   "name": "python3"
  },
  "language_info": {
   "codemirror_mode": {
    "name": "ipython",
    "version": 3
   },
   "file_extension": ".py",
   "mimetype": "text/x-python",
   "name": "python",
   "nbconvert_exporter": "python",
   "pygments_lexer": "ipython3",
   "version": "3.10.7"
  },
  "orig_nbformat": 4
 },
 "nbformat": 4,
 "nbformat_minor": 2
}
