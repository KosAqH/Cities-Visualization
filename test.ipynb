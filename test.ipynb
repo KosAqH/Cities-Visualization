{
 "cells": [
  {
   "cell_type": "code",
   "execution_count": 1,
   "metadata": {},
   "outputs": [],
   "source": [
    "import plotly.express as px"
   ]
  },
  {
   "cell_type": "code",
   "execution_count": 48,
   "metadata": {},
   "outputs": [],
   "source": [
    "import re"
   ]
  },
  {
   "cell_type": "code",
   "execution_count": 4,
   "metadata": {},
   "outputs": [
    {
     "data": {
      "application/vnd.plotly.v1+json": {
       "config": {
        "plotlyServerURL": "https://plot.ly"
       },
       "data": [
        {
         "lat": [
          41.979595,
          33.64044444,
          32.89595056,
          33.43416667,
          39.85840806,
          29.98047222,
          37.61900194,
          33.94253611,
          28.42888889,
          35.21401111,
          40.78838778,
          27.97547222,
          40.69249722,
          36.08036111,
          39.87195278,
          44.88054694,
          47.44898194,
          40.77724306,
          41.7859825,
          38.94453194,
          32.73355611,
          38.74768694,
          42.21205889,
          40.63975111,
          25.79325,
          42.3643475,
          38.69542167,
          39.17540167,
          33.67565861,
          29.99338889,
          37.36186194,
          38.85208333,
          45.58872222,
          26.53616667,
          26.68316194,
          35.87763889,
          29.64541861,
          29.53369444,
          26.07258333,
          39.29760528,
          37.72129083,
          40.49146583,
          35.04241667,
          42.94722222,
          41.41089417,
          30.49405556,
          32.11608333,
          39.71732917,
          39.49857611,
          35.39308833,
          41.72399917,
          36.19837222,
          39.04614278,
          39.99798528,
          38.17438889,
          34.056,
          34.72939611,
          32.84711389,
          41.30251861,
          36.89461111,
          39.90237583,
          43.11886611,
          36.28186944,
          36.12447667,
          35.04022222,
          32.31116667,
          31.80666667,
          37.50516667,
          41.93887417,
          31.94252778,
          30.53316083,
          35.81248722,
          38.80580556,
          30.47330556,
          43.11118694,
          33.56294306,
          42.93451639,
          33.82921556,
          27.39533333,
          27.77036083,
          34.6404475,
          33.93884,
          30.20527972,
          34.42621194,
          47.61985556,
          30.69141667,
          37.64995889,
          42.94052472,
          41.53493306,
          40.19349528,
          43.64616667,
          32.30064417,
          37.13189556,
          41.06695778,
          36.5869825,
          42.88081972,
          30.448674,
          32.65658333,
          39.22316,
          30.39652778,
          30.40728028,
          44.04532139,
          33.81772222,
          34.27061111,
          38.03697222,
          43.13985778,
          44.12326,
          32.12758333,
          33.66363889,
          41.88458833,
          34.89566722,
          36.09774694,
          40.7952425,
          41.44852639,
          35.43619444,
          40.91631194,
          40.47798556,
          26.22850611,
          30.48325,
          32.4466275,
          46.91934889,
          40.48118028,
          42.37422778,
          40.66424333,
          27.54373861,
          30.19453278,
          32.41132,
          37.24432611,
          42.96550333,
          36.47521417,
          31.06489778,
          32.89864639,
          44.48507333,
          44.25406722,
          32.51633333,
          41.70895361,
          43.56444444,
          33.67975,
          48.25937778,
          40.03925,
          37.32546833,
          39.64256778,
          43.60732417,
          45.77690139,
          39.1224125,
          34.20061917,
          38.03799139,
          38.53396333,
          43.51455556,
          36.77619444,
          39.84395194,
          26.17583333,
          40.50898361,
          47.949255,
          43.58135111,
          42.48180389,
          34.89924833,
          42.91130556,
          31.32133917,
          34.82916444,
          38.50886722,
          46.77411111,
          42.90835556,
          44.74144472,
          32.51086556,
          46.26468028,
          39.14096722,
          31.32737167,
          43.41713889,
          35.61677778,
          42.15614361,
          41.50409361,
          38.13863889,
          30.7825,
          44.77761917,
          35.65884306,
          40.97811528,
          31.25902778,
          40.85097222,
          40.97846583,
          44.52019417,
          37.06083333,
          35.23705806,
          41.33814944,
          33.45033444,
          44.34889806,
          35.07297222,
          33.369955,
          35.33659028,
          32.35413889,
          46.60681806,
          47.48200194,
          32.33313333,
          46.353639,
          37.95375861,
          35.03526833,
          46.37449806,
          37.70097028,
          42.74811944,
          44.47300361,
          48.31140472,
          28.10275,
          29.17991667,
          40.65236278,
          46.84209028,
          41.1557225,
          41.5942175,
          37.85830556,
          38.37315083,
          48.79275,
          37.62404861,
          44.25740806,
          36.385913,
          27.91076333,
          33.98879611,
          34.99147222,
          44.86525722,
          42.40295944,
          43.90882639,
          34.681499,
          45.8076625
         ],
         "lon": [
          -87.90446417,
          -84.42694444,
          -97.0372,
          -112.0080556,
          -104.6670019,
          -95.33972222,
          -122.3748433,
          -118.4080744,
          -81.31602778,
          -80.94312583,
          -111.9777731,
          -82.53325,
          -74.16866056,
          -115.1523333,
          -75.24114083,
          -93.2169225,
          -122.3093131,
          -73.87260917,
          -87.75242444,
          -77.45580972,
          -117.1896567,
          -90.35998972,
          -83.34883583,
          -73.77892556,
          -80.29055556,
          -71.00517917,
          -121.5907669,
          -76.66819833,
          -117.8682225,
          -90.25802778,
          -121.9290089,
          -77.03772222,
          -122.5975,
          -81.75516667,
          -80.09559417,
          -78.78747222,
          -95.27888889,
          -98.46977778,
          -80.15275,
          -94.71390556,
          -122.2207167,
          -80.23287083,
          -89.97666667,
          -87.89658333,
          -81.84939667,
          -81.68786111,
          -110.9410278,
          -86.29438417,
          -119.7680647,
          -97.60073389,
          -71.42822111,
          -95.88824167,
          -84.6621725,
          -82.89188278,
          -85.736,
          -117.6011944,
          -92.22424556,
          -96.85177222,
          -95.89417306,
          -76.20122222,
          -84.219375,
          -77.67238389,
          -94.30681111,
          -86.67818222,
          -106.6091944,
          -90.07588889,
          -106.3778056,
          -77.31966667,
          -72.68322833,
          -102.2019139,
          -91.14963444,
          -83.99285583,
          -104.70025,
          -87.18744444,
          -76.10631056,
          -86.75354972,
          -71.43705583,
          -116.5062531,
          -82.55411111,
          -97.50121528,
          -86.77310944,
          -81.11953944,
          -91.987655,
          -119.8403733,
          -117.5338425,
          -88.24283333,
          -97.43304583,
          -78.73216667,
          -93.66068222,
          -76.76340361,
          -70.30875,
          -86.39397611,
          -76.4929875,
          -73.70757444,
          -121.8429478,
          -85.52276778,
          -84.550781,
          -114.6059722,
          -106.868845,
          -84.35033333,
          -89.07009278,
          -103.0573708,
          -118.1516111,
          -77.90255556,
          -84.60538889,
          -89.33751361,
          -123.2186856,
          -81.20213889,
          -101.8227778,
          -91.71087222,
          -82.21885833,
          -79.9372975,
          -73.10021194,
          -90.50753917,
          -82.54180556,
          -81.44246556,
          -88.91595278,
          -97.65439389,
          -86.5254,
          -93.82559833,
          -96.81498889,
          -107.2176597,
          -122.8734978,
          -89.69330556,
          -99.46154361,
          -97.66987194,
          -99.68189722,
          -93.38685806,
          -83.74345639,
          -82.40742056,
          -97.82779778,
          -80.04050583,
          -88.12959,
          -121.1499633,
          -84.93886111,
          -86.31847417,
          -116.2227778,
          -78.92833333,
          -101.2803339,
          -88.27805556,
          -79.97542833,
          -106.9176953,
          -110.7377389,
          -111.1530072,
          -108.5267347,
          -118.3584969,
          -87.53062667,
          -106.9331817,
          -112.0701667,
          -119.7181389,
          -89.67761861,
          -98.23861111,
          -122.2934019,
          -97.17611111,
          -96.74170028,
          -114.4877356,
          -120.4575825,
          -112.5958611,
          -85.44962889,
          -77.61213778,
          -107.8938333,
          -100.7467222,
          -106.4644661,
          -85.582235,
          -92.03768778,
          -119.1190292,
          -96.67083278,
          -92.54855611,
          -124.2460278,
          -106.0881389,
          -121.7332081,
          -74.10483833,
          -78.45286111,
          -83.27672222,
          -89.66677944,
          -117.8295122,
          -124.1086189,
          -81.46630556,
          -96.75925,
          -85.19514639,
          -109.0237961,
          -88.77375,
          -120.6423931,
          -75.7242675,
          -88.59136861,
          -105.5393614,
          -77.04294444,
          -81.96449611,
          -94.36744111,
          -95.40238611,
          -111.9827503,
          -111.3706853,
          -88.75120556,
          -87.395361,
          -107.90848,
          -85.20378778,
          -117.0153944,
          -113.098575,
          -73.80297861,
          -73.1503125,
          -114.2550694,
          -80.64580556,
          -81.05805556,
          -75.44040167,
          -92.19364861,
          -104.8118381,
          -109.0651928,
          -80.39947222,
          -81.59318972,
          -122.5375278,
          -118.8377722,
          -88.51947556,
          -92.548828,
          -82.68743944,
          -98.49189333,
          -78.88,
          -91.48507194,
          -90.70916722,
          -92.49798722,
          -90.348816,
          -108.5428611
         ],
         "marker": {
          "color": [
           25129,
           21925,
           20662,
           17290,
           13781,
           13223,
           12016,
           11797,
           10536,
           10490,
           9898,
           9182,
           8678,
           8523,
           7965,
           7690,
           7541,
           7392,
           6979,
           6779,
           6233,
           6204,
           6044,
           5945,
           5907,
           5627,
           4943,
           4749,
           4616,
           4432,
           4367,
           4332,
           4071,
           4057,
           3972,
           3896,
           3824,
           3654,
           3616,
           3403,
           3386,
           3180,
           3058,
           3030,
           3015,
           3005,
           2786,
           2136,
           2104,
           2104,
           2044,
           2003,
           1986,
           1752,
           1716,
           1622,
           1620,
           1502,
           1474,
           1439,
           1337,
           1327,
           1310,
           1299,
           1258,
           1224,
           1206,
           1199,
           1162,
           1103,
           1095,
           1052,
           1040,
           1035,
           1006,
           956,
           953,
           949,
           932,
           926,
           880,
           840,
           818,
           800,
           785,
           768,
           747,
           711,
           708,
           702,
           686,
           686,
           675,
           664,
           658,
           656,
           653,
           627,
           611,
           608,
           582,
           572,
           562,
           553,
           540,
           538,
           529,
           524,
           518,
           516,
           479,
           472,
           460,
           451,
           448,
           445,
           426,
           414,
           410,
           410,
           409,
           408,
           404,
           404,
           396,
           393,
           382,
           381,
           379,
           347,
           346,
           338,
           333,
           328,
           324,
           324,
           319,
           314,
           310,
           306,
           301,
           296,
           295,
           288,
           285,
           280,
           270,
           270,
           264,
           264,
           258,
           248,
           248,
           246,
           245,
           225,
           216,
           216,
           214,
           212,
           210,
           208,
           208,
           201,
           199,
           168,
           168,
           168,
           168,
           168,
           168,
           159,
           158,
           158,
           156,
           146,
           144,
           140,
           127,
           114,
           112,
           112,
           112,
           112,
           112,
           112,
           112,
           112,
           112,
           110,
           108,
           108,
           104,
           104,
           104,
           104,
           102,
           96,
           93,
           91,
           90,
           74,
           72,
           60,
           58,
           56,
           56,
           56,
           56,
           56,
           56,
           56,
           56,
           52,
           50,
           50,
           48,
           48,
           37,
           32,
           23
          ]
         },
         "mode": "markers",
         "text": [
          "Chicago O'Hare InternationalChicago, ILArrivals: 25129",
          "William B Hartsfield-Atlanta IntlAtlanta, GAArrivals: 21925",
          "Dallas-Fort Worth InternationalDallas-Fort Worth, TXArrivals: 20662",
          "Phoenix Sky Harbor InternationalPhoenix, AZArrivals: 17290",
          "Denver IntlDenver, COArrivals: 13781",
          "George Bush IntercontinentalHouston, TXArrivals: 13223",
          "San Francisco InternationalSan Francisco, CAArrivals: 12016",
          "Los Angeles InternationalLos Angeles, CAArrivals: 11797",
          "Orlando InternationalOrlando, FLArrivals: 10536",
          "Charlotte/Douglas InternationalCharlotte, NCArrivals: 10490",
          "Salt Lake City IntlSalt Lake City, UTArrivals: 9898",
          "Tampa International Tampa, FLArrivals: 9182",
          "Newark IntlNewark, NJArrivals: 8678",
          "McCarran InternationalLas Vegas, NVArrivals: 8523",
          "Philadelphia IntlPhiladelphia, PAArrivals: 7965",
          "Minneapolis-St Paul IntlMinneapolis, MNArrivals: 7690",
          "Seattle-Tacoma IntlSeattle, WAArrivals: 7541",
          "LaGuardiaNew York, NYArrivals: 7392",
          "Chicago MidwayChicago, ILArrivals: 6979",
          "Washington Dulles InternationalChantilly, VAArrivals: 6779",
          "San Diego International-Lindbergh San Diego, CAArrivals: 6233",
          "Lambert-St Louis InternationalSt Louis, MOArrivals: 6204",
          "Detroit Metropolitan-Wayne CountyDetroit, MIArrivals: 6044",
          "John F Kennedy IntlNew York, NYArrivals: 5945",
          "Miami InternationalMiami, FLArrivals: 5907",
          "Gen Edw L Logan IntlBoston, MAArrivals: 5627",
          "Sacramento InternationalSacramento, CAArrivals: 4943",
          "Baltimore-Washington InternationalBaltimore, MDArrivals: 4749",
          "John Wayne /Orange CoSanta Ana, CAArrivals: 4616",
          "New Orleans International New Orleans, LAArrivals: 4432",
          "San Jose InternationalSan Jose, CAArrivals: 4367",
          "Ronald Reagan Washington NationalArlington, VAArrivals: 4332",
          "Portland IntlPortland, ORArrivals: 4071",
          "Southwest Florida InternationalFt. Myers, FLArrivals: 4057",
          "Palm Beach InternationalWest Palm Beach, FLArrivals: 3972",
          "Raleigh-Durham InternationalRaleigh, NCArrivals: 3896",
          "William P HobbyHouston, TXArrivals: 3824",
          "San Antonio InternationalSan Antonio, TXArrivals: 3654",
          "Fort Lauderdale-Hollywood Int'lFt. Lauderdale, FLArrivals: 3616",
          "Kansas City InternationalKansas City, MOArrivals: 3403",
          "Metropolitan Oakland InternationalOakland, CAArrivals: 3386",
          "Pittsburgh InternationalPittsburgh, PAArrivals: 3180",
          "Memphis InternationalMemphis, TNArrivals: 3058",
          "General Mitchell InternationalMilwaukee, WIArrivals: 3030",
          "Cleveland-Hopkins IntlCleveland, OHArrivals: 3015",
          "Jacksonville InternationalJacksonville, FLArrivals: 3005",
          "Tucson InternationalTucson, AZArrivals: 2786",
          "Indianapolis InternationalIndianapolis, INArrivals: 2136",
          "Reno/Tahoe InternationalReno, NVArrivals: 2104",
          "Will Rogers WorldOklahoma City, OKArrivals: 2104",
          "Theodore F Green StateProvidence, RIArrivals: 2044",
          "Tulsa InternationalTulsa, OKArrivals: 2003",
          "Cincinnati Northern Kentucky IntlCovington, KYArrivals: 1986",
          "Port Columbus IntlColumbus, OHArrivals: 1752",
          "Louisville International-Standiford Louisville, KYArrivals: 1716",
          "Ontario InternationalOntario, CAArrivals: 1622",
          "Adams Little Rock, ARArrivals: 1620",
          "Dallas Love Dallas, TXArrivals: 1502",
          "Eppley AirfieldOmaha, NEArrivals: 1474",
          "Norfolk InternationalNorfolk, VAArrivals: 1439",
          "James M Cox Dayton IntlDayton, OHArrivals: 1337",
          "Greater Rochester Int'lRochester, NYArrivals: 1327",
          "Northwest Arkansas RegionalFayetteville/Springdale/Rogers, ARArrivals: 1310",
          "Nashville InternationalNashville, TNArrivals: 1299",
          "Albuquerque InternationalAlbuquerque, NMArrivals: 1258",
          "Jackson InternationalJackson, MSArrivals: 1224",
          "El Paso InternationalEl Paso, TXArrivals: 1206",
          "Richmond InternationalRichmond, VAArrivals: 1199",
          "Bradley InternationalWindsor Locks, CTArrivals: 1162",
          "Midland InternationalMidland, TXArrivals: 1103",
          "Baton Rouge Metropolitan, Ryan Baton Rouge, LAArrivals: 1095",
          "McGhee-TysonKnoxville, TNArrivals: 1052",
          "City of Colorado Springs MuniColorado Springs, COArrivals: 1040",
          "Pensacola RegionalPensacola, FLArrivals: 1035",
          "Syracuse-Hancock IntlSyracuse, NYArrivals: 1006",
          "Birmingham InternationalBirmingham, ALArrivals: 956",
          "ManchesterManchester, NHArrivals: 953",
          "Palm Springs InternationalPalm Springs, CAArrivals: 949",
          "Sarasota Bradenton InternationalSarasota, FLArrivals: 932",
          "Corpus Christi InternationalCorpus Christi, TXArrivals: 926",
          "Huntsville International Huntsville, ALArrivals: 880",
          "Columbia MetropolitanColumbia, SCArrivals: 840",
          "Lafayette RegionalLafayette, LAArrivals: 818",
          "Santa Barbara MunicipalSanta Barbara, CAArrivals: 800",
          "Spokane IntlSpokane, WAArrivals: 785",
          "Mobile RegionalMobile, ALArrivals: 768",
          "Wichita Mid-ContinentWichita, KSArrivals: 747",
          "Buffalo Niagara IntlBuffalo, NYArrivals: 711",
          "Des Moines InternationalDes Moines, IAArrivals: 708",
          "Harrisburg IntlHarrisburg, PAArrivals: 702",
          "Portland International JetportPortland, MEArrivals: 686",
          "Montgomery Regional AptMontgomery, ALArrivals: 686",
          "Newport News/Williamsburg InternationalNewport News, VAArrivals: 675",
          "Westchester CtyWhite Plains, NYArrivals: 664",
          "Monterey PeninsulaMonterey, CAArrivals: 658",
          "Kent County InternationalGrand Rapids, MIArrivals: 656",
          "Florida BeachBeaches, FLArrivals: 653",
          "Yuma MCAS-Yuma InternationalYuma, AZArrivals: 627",
          "Aspen-Pitkin Co/Sardy Aspen, COArrivals: 611",
          "Tallahassee RegionalTallahassee, FLArrivals: 608",
          "Gulfport-Biloxi RegionalGulfport-Biloxi, MSArrivals: 582",
          "Rapid City RegionalRapid City, SDArrivals: 572",
          "Long Beach (Daugherty )Long Beach, CAArrivals: 562",
          "Wilmington InternationalWilmington, NCArrivals: 553",
          "Blue Grass Lexington, KYArrivals: 540",
          "Dane County RegionalMadison, WIArrivals: 538",
          "Mahlon Sweet Eugene, ORArrivals: 529",
          "Savannah InternationalSavannah, GAArrivals: 524",
          "Lubbock InternationalLubbock, TXArrivals: 518",
          "Eastern Iowa Cedar Rapids, IAArrivals: 516",
          "Greenville-SpartanburgGreer, SCArrivals: 479",
          "Piedmont Triad InternationalGreensboro, NCArrivals: 472",
          "Long Island - MacArthurIslip, NYArrivals: 460",
          "Quad CityMoline, ILArrivals: 451",
          "Asheville RegionalAsheville, NCArrivals: 448",
          "Akron-Canton RegionalAkron, OHArrivals: 445",
          "Central Illinois RegionalBloomington, ILArrivals: 426",
          "Valley InternationalHarlingen, TXArrivals: 414",
          "Eglin Air Force BaseValparaiso, FLArrivals: 410",
          "Shreveport RegionalShreveport, LAArrivals: 410",
          "Hector InternationalFargo, NDArrivals: 409",
          "Yampa ValleyHayden, COArrivals: 408",
          "Rogue Valley InternationalMedford, ORArrivals: 404",
          "Greater Peoria RegionalPeoria, ILArrivals: 404",
          "Laredo InternationalLaredo, TXArrivals: 396",
          "Austin-Bergstrom InternationalAustin, TXArrivals: 393",
          "Abilene RegionalAbilene, TXArrivals: 382",
          "Springfield-Branson RegionalSpringfield, MOArrivals: 381",
          "BishopFlint, MIArrivals: 379",
          "Tri-Cities RegionalBristol, TNArrivals: 347",
          "Robert Gray AAFKilleen, TXArrivals: 346",
          "Charleston AFB/InternationalCharleston, SCArrivals: 338",
          "Austin Straubel InternationalGreen Bay, WIArrivals: 333",
          "Roberts Redmond, ORArrivals: 328",
          "Columbus MetropolitanColumbus, GAArrivals: 324",
          "South Bend RegionalSouth Bend, INArrivals: 324",
          "Boise Air TerminalBoise, IDArrivals: 319",
          "Myrtle Beach InternationalMyrtle Beach, SCArrivals: 314",
          "Minot InternationalMinot, NDArrivals: 310",
          "University of Illinois-WillardChampaign/Urbana, ILArrivals: 306",
          "Roanoke Regional/ Woodrum Roanoke, VAArrivals: 301",
          "Eagle County RegionalEagle, COArrivals: 296",
          "Jackson HoleJackson, WYArrivals: 295",
          "Gallatin Bozeman, MTArrivals: 288",
          "Walker Grand Junction, COArrivals: 285",
          "Burbank-Glendale-PasadenaBurbank, CAArrivals: 280",
          "Evansville RegionalEvansville, INArrivals: 270",
          "Gunnison CountyGunnison, COArrivals: 270",
          "Idaho Falls RegionalIdaho Falls, IDArrivals: 264",
          "Fresno Yosemite InternationalFresno, CAArrivals: 264",
          "CapitalSpringfield, ILArrivals: 258",
          "McAllen Miller InternationalMcAllen, TXArrivals: 248",
          "Redding MunicipalRedding, CAArrivals: 248",
          "Grand Forks InternationalGrand Forks, NDArrivals: 246",
          "Joe Foss Sioux Falls, SDArrivals: 245",
          "Joslin Field - Magic ValleyTwin Falls, IDArrivals: 225",
          "Santa Maria Pub/Capt G Allan Hancock Santa Maria, CAArrivals: 216",
          "Pocatello RegionalPocatello, IDArrivals: 216",
          "Dothan Dothan, ALArrivals: 214",
          "Albert J EllisJacksonville, NCArrivals: 212",
          "Montrose RegionalMontrose, COArrivals: 210",
          "Bismarck MunicipalBismarck, NDArrivals: 208",
          "Natrona County IntlCasper, WYArrivals: 208",
          "Cherry CapitalTraverse City, MIArrivals: 201",
          "Monroe RegionalMonroe, LAArrivals: 199",
          "Tri-CitiesPasco, WAArrivals: 168",
          "Manhattan RegionalManhattan, KSArrivals: 168",
          "Alexandria InternationalAlexandria, LAArrivals: 168",
          "North Bend MuniNorth Bend, ORArrivals: 168",
          "Santa Fe MunicipalSanta Fe, NMArrivals: 168",
          "Klamath Falls InternationalKlamath Falls, ORArrivals: 168",
          "StewartNewburgh, NYArrivals: 159",
          "Charlottesville-AlbermarleCharlottesville, VAArrivals: 158",
          "Valdosta RegionalValdosta, GAArrivals: 158",
          "Central WisconsinMosinee, WIArrivals: 156",
          "InyokernInyokern, CAArrivals: 146",
          "ArcataArcata/Eureka, CAArrivals: 144",
          "Glynco JetportBrunswick, GAArrivals: 140",
          "Lincoln MunicipalLincoln, NEArrivals: 127",
          "Fort Wayne InternationalFort Wayne, INArrivals: 114",
          "Yellowstone RegionalCody, WYArrivals: 112",
          "Barkley RegionalPaducah, KYArrivals: 112",
          "San Luis Obispo Co-McChesney San Luis Obispo, CAArrivals: 112",
          "Wilkes-Barre/Scranton IntlWilkes-Barre/Scranton, PAArrivals: 112",
          "Golden Triangle RegionalColumbus-Starkville-West Point, MSArrivals: 112",
          "Gillette-Campbell CountyGillette, WYArrivals: 112",
          "Craven County RegionalNew Bern, NCArrivals: 112",
          "Bush Augusta, GAArrivals: 112",
          "Fort Smith RegionalFort Smith, ARArrivals: 112",
          "Tyler Pounds Tyler, TXArrivals: 110",
          "Helena RegionalHelena, MTArrivals: 108",
          "Great Falls IntlGreat Falls, MTArrivals: 108",
          "Key Meridian, MSArrivals: 104",
          null,
          "Telluride RegionalTelluride, COArrivals: 104",
          "Lovell Chattanooga, TNArrivals: 104",
          "Lewiston-Nez Perce CountyLewiston, IDArrivals: 102",
          "Cedar City MuniCedar City, UTArrivals: 96",
          "Albany CtyAlbany, NYArrivals: 93",
          "Burlington InternationalBurlington, VTArrivals: 91",
          "Glacier Park IntlKalispell, MTArrivals: 90",
          "Melbourne International Melbourne, FLArrivals: 74",
          "Daytona Beach InternationalDaytona Beach, FLArrivals: 72",
          "Lehigh Valley InternationalAllentown, PAArrivals: 60",
          "Duluth InternationalDuluth, MNArrivals: 58",
          "CheyenneCheyenne, WYArrivals: 56",
          "Rock Springs-Sweetwater CountyRock Springs, WYArrivals: 56",
          "Greenbrier ValleyLewisburg, WVArrivals: 56",
          "YeagerCharleston, WVArrivals: 56",
          "Bellingham IntlBellingham, WAArrivals: 56",
          "Mammoth YosemiteMammoth Lakes, CAArrivals: 56",
          "Outagamie County RegionalAppleton, WIArrivals: 56",
          "Branson AirportHollister, MOArrivals: 56",
          "St. Petersburg-Clearwater InternationalSt. Petersburg, FLArrivals: 52",
          "Sheppard AFB/Wichita Falls MunicipalWichita Falls, TXArrivals: 50",
          "Fayetteville MunicipalFayetteville, NCArrivals: 50",
          "Chippewa Valley RegionalEau Claire, WIArrivals: 48",
          "Dubuque MunicipalDubuque, IAArrivals: 48",
          "Rochester InternationalRochester, MNArrivals: 37",
          "Tunica Municipal AirportTunica, MSArrivals: 32",
          "Billings Logan IntlBillings, MTArrivals: 23"
         ],
         "type": "scattergeo"
        }
       ],
       "layout": {
        "geo": {
         "scope": "europe"
        },
        "template": {
         "data": {
          "bar": [
           {
            "error_x": {
             "color": "#2a3f5f"
            },
            "error_y": {
             "color": "#2a3f5f"
            },
            "marker": {
             "line": {
              "color": "#E5ECF6",
              "width": 0.5
             },
             "pattern": {
              "fillmode": "overlay",
              "size": 10,
              "solidity": 0.2
             }
            },
            "type": "bar"
           }
          ],
          "barpolar": [
           {
            "marker": {
             "line": {
              "color": "#E5ECF6",
              "width": 0.5
             },
             "pattern": {
              "fillmode": "overlay",
              "size": 10,
              "solidity": 0.2
             }
            },
            "type": "barpolar"
           }
          ],
          "carpet": [
           {
            "aaxis": {
             "endlinecolor": "#2a3f5f",
             "gridcolor": "white",
             "linecolor": "white",
             "minorgridcolor": "white",
             "startlinecolor": "#2a3f5f"
            },
            "baxis": {
             "endlinecolor": "#2a3f5f",
             "gridcolor": "white",
             "linecolor": "white",
             "minorgridcolor": "white",
             "startlinecolor": "#2a3f5f"
            },
            "type": "carpet"
           }
          ],
          "choropleth": [
           {
            "colorbar": {
             "outlinewidth": 0,
             "ticks": ""
            },
            "type": "choropleth"
           }
          ],
          "contour": [
           {
            "colorbar": {
             "outlinewidth": 0,
             "ticks": ""
            },
            "colorscale": [
             [
              0,
              "#0d0887"
             ],
             [
              0.1111111111111111,
              "#46039f"
             ],
             [
              0.2222222222222222,
              "#7201a8"
             ],
             [
              0.3333333333333333,
              "#9c179e"
             ],
             [
              0.4444444444444444,
              "#bd3786"
             ],
             [
              0.5555555555555556,
              "#d8576b"
             ],
             [
              0.6666666666666666,
              "#ed7953"
             ],
             [
              0.7777777777777778,
              "#fb9f3a"
             ],
             [
              0.8888888888888888,
              "#fdca26"
             ],
             [
              1,
              "#f0f921"
             ]
            ],
            "type": "contour"
           }
          ],
          "contourcarpet": [
           {
            "colorbar": {
             "outlinewidth": 0,
             "ticks": ""
            },
            "type": "contourcarpet"
           }
          ],
          "heatmap": [
           {
            "colorbar": {
             "outlinewidth": 0,
             "ticks": ""
            },
            "colorscale": [
             [
              0,
              "#0d0887"
             ],
             [
              0.1111111111111111,
              "#46039f"
             ],
             [
              0.2222222222222222,
              "#7201a8"
             ],
             [
              0.3333333333333333,
              "#9c179e"
             ],
             [
              0.4444444444444444,
              "#bd3786"
             ],
             [
              0.5555555555555556,
              "#d8576b"
             ],
             [
              0.6666666666666666,
              "#ed7953"
             ],
             [
              0.7777777777777778,
              "#fb9f3a"
             ],
             [
              0.8888888888888888,
              "#fdca26"
             ],
             [
              1,
              "#f0f921"
             ]
            ],
            "type": "heatmap"
           }
          ],
          "heatmapgl": [
           {
            "colorbar": {
             "outlinewidth": 0,
             "ticks": ""
            },
            "colorscale": [
             [
              0,
              "#0d0887"
             ],
             [
              0.1111111111111111,
              "#46039f"
             ],
             [
              0.2222222222222222,
              "#7201a8"
             ],
             [
              0.3333333333333333,
              "#9c179e"
             ],
             [
              0.4444444444444444,
              "#bd3786"
             ],
             [
              0.5555555555555556,
              "#d8576b"
             ],
             [
              0.6666666666666666,
              "#ed7953"
             ],
             [
              0.7777777777777778,
              "#fb9f3a"
             ],
             [
              0.8888888888888888,
              "#fdca26"
             ],
             [
              1,
              "#f0f921"
             ]
            ],
            "type": "heatmapgl"
           }
          ],
          "histogram": [
           {
            "marker": {
             "pattern": {
              "fillmode": "overlay",
              "size": 10,
              "solidity": 0.2
             }
            },
            "type": "histogram"
           }
          ],
          "histogram2d": [
           {
            "colorbar": {
             "outlinewidth": 0,
             "ticks": ""
            },
            "colorscale": [
             [
              0,
              "#0d0887"
             ],
             [
              0.1111111111111111,
              "#46039f"
             ],
             [
              0.2222222222222222,
              "#7201a8"
             ],
             [
              0.3333333333333333,
              "#9c179e"
             ],
             [
              0.4444444444444444,
              "#bd3786"
             ],
             [
              0.5555555555555556,
              "#d8576b"
             ],
             [
              0.6666666666666666,
              "#ed7953"
             ],
             [
              0.7777777777777778,
              "#fb9f3a"
             ],
             [
              0.8888888888888888,
              "#fdca26"
             ],
             [
              1,
              "#f0f921"
             ]
            ],
            "type": "histogram2d"
           }
          ],
          "histogram2dcontour": [
           {
            "colorbar": {
             "outlinewidth": 0,
             "ticks": ""
            },
            "colorscale": [
             [
              0,
              "#0d0887"
             ],
             [
              0.1111111111111111,
              "#46039f"
             ],
             [
              0.2222222222222222,
              "#7201a8"
             ],
             [
              0.3333333333333333,
              "#9c179e"
             ],
             [
              0.4444444444444444,
              "#bd3786"
             ],
             [
              0.5555555555555556,
              "#d8576b"
             ],
             [
              0.6666666666666666,
              "#ed7953"
             ],
             [
              0.7777777777777778,
              "#fb9f3a"
             ],
             [
              0.8888888888888888,
              "#fdca26"
             ],
             [
              1,
              "#f0f921"
             ]
            ],
            "type": "histogram2dcontour"
           }
          ],
          "mesh3d": [
           {
            "colorbar": {
             "outlinewidth": 0,
             "ticks": ""
            },
            "type": "mesh3d"
           }
          ],
          "parcoords": [
           {
            "line": {
             "colorbar": {
              "outlinewidth": 0,
              "ticks": ""
             }
            },
            "type": "parcoords"
           }
          ],
          "pie": [
           {
            "automargin": true,
            "type": "pie"
           }
          ],
          "scatter": [
           {
            "fillpattern": {
             "fillmode": "overlay",
             "size": 10,
             "solidity": 0.2
            },
            "type": "scatter"
           }
          ],
          "scatter3d": [
           {
            "line": {
             "colorbar": {
              "outlinewidth": 0,
              "ticks": ""
             }
            },
            "marker": {
             "colorbar": {
              "outlinewidth": 0,
              "ticks": ""
             }
            },
            "type": "scatter3d"
           }
          ],
          "scattercarpet": [
           {
            "marker": {
             "colorbar": {
              "outlinewidth": 0,
              "ticks": ""
             }
            },
            "type": "scattercarpet"
           }
          ],
          "scattergeo": [
           {
            "marker": {
             "colorbar": {
              "outlinewidth": 0,
              "ticks": ""
             }
            },
            "type": "scattergeo"
           }
          ],
          "scattergl": [
           {
            "marker": {
             "colorbar": {
              "outlinewidth": 0,
              "ticks": ""
             }
            },
            "type": "scattergl"
           }
          ],
          "scattermapbox": [
           {
            "marker": {
             "colorbar": {
              "outlinewidth": 0,
              "ticks": ""
             }
            },
            "type": "scattermapbox"
           }
          ],
          "scatterpolar": [
           {
            "marker": {
             "colorbar": {
              "outlinewidth": 0,
              "ticks": ""
             }
            },
            "type": "scatterpolar"
           }
          ],
          "scatterpolargl": [
           {
            "marker": {
             "colorbar": {
              "outlinewidth": 0,
              "ticks": ""
             }
            },
            "type": "scatterpolargl"
           }
          ],
          "scatterternary": [
           {
            "marker": {
             "colorbar": {
              "outlinewidth": 0,
              "ticks": ""
             }
            },
            "type": "scatterternary"
           }
          ],
          "surface": [
           {
            "colorbar": {
             "outlinewidth": 0,
             "ticks": ""
            },
            "colorscale": [
             [
              0,
              "#0d0887"
             ],
             [
              0.1111111111111111,
              "#46039f"
             ],
             [
              0.2222222222222222,
              "#7201a8"
             ],
             [
              0.3333333333333333,
              "#9c179e"
             ],
             [
              0.4444444444444444,
              "#bd3786"
             ],
             [
              0.5555555555555556,
              "#d8576b"
             ],
             [
              0.6666666666666666,
              "#ed7953"
             ],
             [
              0.7777777777777778,
              "#fb9f3a"
             ],
             [
              0.8888888888888888,
              "#fdca26"
             ],
             [
              1,
              "#f0f921"
             ]
            ],
            "type": "surface"
           }
          ],
          "table": [
           {
            "cells": {
             "fill": {
              "color": "#EBF0F8"
             },
             "line": {
              "color": "white"
             }
            },
            "header": {
             "fill": {
              "color": "#C8D4E3"
             },
             "line": {
              "color": "white"
             }
            },
            "type": "table"
           }
          ]
         },
         "layout": {
          "annotationdefaults": {
           "arrowcolor": "#2a3f5f",
           "arrowhead": 0,
           "arrowwidth": 1
          },
          "autotypenumbers": "strict",
          "coloraxis": {
           "colorbar": {
            "outlinewidth": 0,
            "ticks": ""
           }
          },
          "colorscale": {
           "diverging": [
            [
             0,
             "#8e0152"
            ],
            [
             0.1,
             "#c51b7d"
            ],
            [
             0.2,
             "#de77ae"
            ],
            [
             0.3,
             "#f1b6da"
            ],
            [
             0.4,
             "#fde0ef"
            ],
            [
             0.5,
             "#f7f7f7"
            ],
            [
             0.6,
             "#e6f5d0"
            ],
            [
             0.7,
             "#b8e186"
            ],
            [
             0.8,
             "#7fbc41"
            ],
            [
             0.9,
             "#4d9221"
            ],
            [
             1,
             "#276419"
            ]
           ],
           "sequential": [
            [
             0,
             "#0d0887"
            ],
            [
             0.1111111111111111,
             "#46039f"
            ],
            [
             0.2222222222222222,
             "#7201a8"
            ],
            [
             0.3333333333333333,
             "#9c179e"
            ],
            [
             0.4444444444444444,
             "#bd3786"
            ],
            [
             0.5555555555555556,
             "#d8576b"
            ],
            [
             0.6666666666666666,
             "#ed7953"
            ],
            [
             0.7777777777777778,
             "#fb9f3a"
            ],
            [
             0.8888888888888888,
             "#fdca26"
            ],
            [
             1,
             "#f0f921"
            ]
           ],
           "sequentialminus": [
            [
             0,
             "#0d0887"
            ],
            [
             0.1111111111111111,
             "#46039f"
            ],
            [
             0.2222222222222222,
             "#7201a8"
            ],
            [
             0.3333333333333333,
             "#9c179e"
            ],
            [
             0.4444444444444444,
             "#bd3786"
            ],
            [
             0.5555555555555556,
             "#d8576b"
            ],
            [
             0.6666666666666666,
             "#ed7953"
            ],
            [
             0.7777777777777778,
             "#fb9f3a"
            ],
            [
             0.8888888888888888,
             "#fdca26"
            ],
            [
             1,
             "#f0f921"
            ]
           ]
          },
          "colorway": [
           "#636efa",
           "#EF553B",
           "#00cc96",
           "#ab63fa",
           "#FFA15A",
           "#19d3f3",
           "#FF6692",
           "#B6E880",
           "#FF97FF",
           "#FECB52"
          ],
          "font": {
           "color": "#2a3f5f"
          },
          "geo": {
           "bgcolor": "white",
           "lakecolor": "white",
           "landcolor": "#E5ECF6",
           "showlakes": true,
           "showland": true,
           "subunitcolor": "white"
          },
          "hoverlabel": {
           "align": "left"
          },
          "hovermode": "closest",
          "mapbox": {
           "style": "light"
          },
          "paper_bgcolor": "white",
          "plot_bgcolor": "#E5ECF6",
          "polar": {
           "angularaxis": {
            "gridcolor": "white",
            "linecolor": "white",
            "ticks": ""
           },
           "bgcolor": "#E5ECF6",
           "radialaxis": {
            "gridcolor": "white",
            "linecolor": "white",
            "ticks": ""
           }
          },
          "scene": {
           "xaxis": {
            "backgroundcolor": "#E5ECF6",
            "gridcolor": "white",
            "gridwidth": 2,
            "linecolor": "white",
            "showbackground": true,
            "ticks": "",
            "zerolinecolor": "white"
           },
           "yaxis": {
            "backgroundcolor": "#E5ECF6",
            "gridcolor": "white",
            "gridwidth": 2,
            "linecolor": "white",
            "showbackground": true,
            "ticks": "",
            "zerolinecolor": "white"
           },
           "zaxis": {
            "backgroundcolor": "#E5ECF6",
            "gridcolor": "white",
            "gridwidth": 2,
            "linecolor": "white",
            "showbackground": true,
            "ticks": "",
            "zerolinecolor": "white"
           }
          },
          "shapedefaults": {
           "line": {
            "color": "#2a3f5f"
           }
          },
          "ternary": {
           "aaxis": {
            "gridcolor": "white",
            "linecolor": "white",
            "ticks": ""
           },
           "baxis": {
            "gridcolor": "white",
            "linecolor": "white",
            "ticks": ""
           },
           "bgcolor": "#E5ECF6",
           "caxis": {
            "gridcolor": "white",
            "linecolor": "white",
            "ticks": ""
           }
          },
          "title": {
           "x": 0.05
          },
          "xaxis": {
           "automargin": true,
           "gridcolor": "white",
           "linecolor": "white",
           "ticks": "",
           "title": {
            "standoff": 15
           },
           "zerolinecolor": "white",
           "zerolinewidth": 2
          },
          "yaxis": {
           "automargin": true,
           "gridcolor": "white",
           "linecolor": "white",
           "ticks": "",
           "title": {
            "standoff": 15
           },
           "zerolinecolor": "white",
           "zerolinewidth": 2
          }
         }
        },
        "title": {
         "text": "Most trafficked US airports<br>(Hover for airport names)"
        }
       }
      }
     },
     "metadata": {},
     "output_type": "display_data"
    }
   ],
   "source": [
    "import plotly.graph_objects as go\n",
    "\n",
    "import pandas as pd\n",
    "\n",
    "df = pd.read_csv('https://raw.githubusercontent.com/plotly/datasets/master/2011_february_us_airport_traffic.csv')\n",
    "df['text'] = df['airport'] + '' + df['city'] + ', ' + df['state'] + '' + 'Arrivals: ' + df['cnt'].astype(str)\n",
    "\n",
    "fig = go.Figure(data=go.Scattergeo(\n",
    "        lon = df['long'],\n",
    "        lat = df['lat'],\n",
    "        text = df['text'],\n",
    "        mode = 'markers',\n",
    "        marker_color = df['cnt'],\n",
    "        ))\n",
    "\n",
    "fig.update_layout(\n",
    "        title = 'Most trafficked US airports<br>(Hover for airport names)',\n",
    "        geo_scope='europe',\n",
    "    )\n",
    "fig.show()"
   ]
  },
  {
   "cell_type": "markdown",
   "metadata": {},
   "source": [
    "# Load data"
   ]
  },
  {
   "cell_type": "code",
   "execution_count": 3,
   "metadata": {},
   "outputs": [],
   "source": [
    "import pandas as pd\n",
    "df = pd.read_excel(\"data\\\\PRNG_MIEJSCOWOSCI_XLSX.xlsx\")"
   ]
  },
  {
   "cell_type": "code",
   "execution_count": 4,
   "metadata": {},
   "outputs": [
    {
     "data": {
      "text/plain": [
       "Index(['identyfikator IIP', 'identyfikator PRNG', 'nazwa główna',\n",
       "       'element rozróżniający', 'element rodzajowy', 'dopełniacz',\n",
       "       'przymiotnik', 'status nazwy', 'kategoria obiektu', 'rodzaj obiektu',\n",
       "       'nazwa miejscowości nadrzędnej',\n",
       "       'identyfikator miejscowości nadrzędnej', 'informacje dodatkowe',\n",
       "       'system zewnętrzny', 'identyfikator zewnętrzny',\n",
       "       'tytuł dokumentu źródłowego', 'data dokumentu źródłowego',\n",
       "       'wydawca dokumentu źródłowego', 'rodzaj reprezentacji',\n",
       "       'współrzędne geograficzne', 'współrzędne prostokątne XY',\n",
       "       'nazwa historyczna', 'nazwa oboczna', 'nazwa dodatkowa',\n",
       "       'język nazwy dodatkowej', 'latynizacja nazwy dodatkowej', 'endonim',\n",
       "       'język endonimu', 'latynizacja endonimu', 'egzonim', 'język egzonimu',\n",
       "       'latynizacja egzonimu', 'województwo', 'powiat', 'gmina',\n",
       "       'identyfikator gminy', 'początek wersji obiektu', 'wersja obiektu',\n",
       "       'ważna od'],\n",
       "      dtype='object')"
      ]
     },
     "execution_count": 4,
     "metadata": {},
     "output_type": "execute_result"
    }
   ],
   "source": [
    "df.columns"
   ]
  },
  {
   "cell_type": "code",
   "execution_count": 5,
   "metadata": {},
   "outputs": [],
   "source": [
    "df.to_csv(\"prng_csv.csv\")"
   ]
  },
  {
   "cell_type": "markdown",
   "metadata": {},
   "source": [
    "# Data analyse"
   ]
  },
  {
   "cell_type": "code",
   "execution_count": 6,
   "metadata": {},
   "outputs": [
    {
     "data": {
      "text/plain": [
       "kategoria obiektu\n",
       "miejscowość    124564\n",
       "Name: count, dtype: int64"
      ]
     },
     "execution_count": 6,
     "metadata": {},
     "output_type": "execute_result"
    }
   ],
   "source": [
    "df[\"kategoria obiektu\"].value_counts()"
   ]
  },
  {
   "cell_type": "code",
   "execution_count": 7,
   "metadata": {},
   "outputs": [
    {
     "data": {
      "text/plain": [
       "rodzaj obiektu\n",
       "wieś                      43157\n",
       "część wsi                 42695\n",
       "część miasta              10909\n",
       "przysiółek wsi            10403\n",
       "osada                      5069\n",
       "kolonia wsi                3988\n",
       "osada leśna                2253\n",
       "kolonia                    2149\n",
       "leśniczówka                1224\n",
       "miasto                      979\n",
       "osada wsi                   759\n",
       "część kolonii               273\n",
       "osada leśna wsi             239\n",
       "przysiółek                  130\n",
       "część osady                  84\n",
       "przysiółek osady             73\n",
       "przysiółek kolonii           69\n",
       "schronisko turystyczne       47\n",
       "kolonia kolonii              28\n",
       "kolonia osady                15\n",
       "osada osady                   7\n",
       "osiedle                       5\n",
       "osiedle wsi                   5\n",
       "osada kolonii                 4\n",
       "Name: count, dtype: int64"
      ]
     },
     "execution_count": 7,
     "metadata": {},
     "output_type": "execute_result"
    }
   ],
   "source": [
    "df[\"rodzaj obiektu\"].value_counts()"
   ]
  },
  {
   "cell_type": "code",
   "execution_count": 8,
   "metadata": {},
   "outputs": [
    {
     "data": {
      "text/plain": [
       "0         50°43'04\" 16°39'19\"\n",
       "1         51°53'14\" 17°49'23\"\n",
       "2         52°49'34\" 15°39'12\"\n",
       "3         52°50'46\" 16°01'59\"\n",
       "4         50°29'50\" 17°58'15\"\n",
       "                 ...         \n",
       "124559    50°42'28\" 23°16'12\"\n",
       "124560    50°42'18\" 23°15'56\"\n",
       "124561    50°43'01\" 23°17'28\"\n",
       "124562    50°43'09\" 23°16'13\"\n",
       "124563    50°43'20\" 23°16'23\"\n",
       "Name: współrzędne geograficzne, Length: 124564, dtype: object"
      ]
     },
     "execution_count": 8,
     "metadata": {},
     "output_type": "execute_result"
    }
   ],
   "source": [
    "df[\"współrzędne geograficzne\"]"
   ]
  },
  {
   "cell_type": "code",
   "execution_count": 10,
   "metadata": {},
   "outputs": [
    {
     "data": {
      "text/plain": [
       "0              2\n",
       "1              4\n",
       "2              6\n",
       "3              7\n",
       "4              8\n",
       "           ...  \n",
       "124559    269639\n",
       "124560    269640\n",
       "124561    269641\n",
       "124562    269642\n",
       "124563    269643\n",
       "Name: identyfikator PRNG, Length: 124564, dtype: int64"
      ]
     },
     "execution_count": 10,
     "metadata": {},
     "output_type": "execute_result"
    }
   ],
   "source": [
    "df[\"identyfikator PRNG\"]"
   ]
  },
  {
   "cell_type": "code",
   "execution_count": 11,
   "metadata": {},
   "outputs": [
    {
     "data": {
      "text/plain": [
       "0                          Osiedle Struga\n",
       "1                                Abisynia\n",
       "2                                Abisynia\n",
       "3                                Abisynia\n",
       "4                                Abisynia\n",
       "                       ...               \n",
       "124559                 Osiedle św. Piątka\n",
       "124560               Osiedle Kompozytorów\n",
       "124561                 Osiedle Małe Ciche\n",
       "124562    Osiedle Bohaterów Monte Cassino\n",
       "124563                     Osiedle Zakole\n",
       "Name: nazwa główna, Length: 124564, dtype: object"
      ]
     },
     "execution_count": 11,
     "metadata": {},
     "output_type": "execute_result"
    }
   ],
   "source": [
    "df[\"nazwa główna\"]"
   ]
  },
  {
   "cell_type": "code",
   "execution_count": 12,
   "metadata": {},
   "outputs": [
    {
     "data": {
      "text/plain": [
       "nazwa główna\n",
       "Stara Wieś    570\n",
       "Podlesie      429\n",
       "Piaski        362\n",
       "Nowa Wieś     361\n",
       "Kolonia       306\n",
       "Góra          289\n",
       "Dąbrowa       252\n",
       "Dół           252\n",
       "Górki         243\n",
       "Zalesie       234\n",
       "Name: count, dtype: int64"
      ]
     },
     "execution_count": 12,
     "metadata": {},
     "output_type": "execute_result"
    }
   ],
   "source": [
    "df[\"nazwa główna\"].value_counts().head(10)"
   ]
  },
  {
   "cell_type": "code",
   "execution_count": 15,
   "metadata": {},
   "outputs": [
    {
     "data": {
      "text/plain": [
       "status nazwy\n",
       "urzędowa             101374\n",
       "niestandaryzowana     23190\n",
       "Name: count, dtype: int64"
      ]
     },
     "execution_count": 15,
     "metadata": {},
     "output_type": "execute_result"
    }
   ],
   "source": [
    "df[\"status nazwy\"].value_counts()"
   ]
  },
  {
   "cell_type": "code",
   "execution_count": 18,
   "metadata": {},
   "outputs": [
    {
     "data": {
      "text/plain": [
       "rodzaj obiektu\n",
       "wieś                      43157\n",
       "osada                      5069\n",
       "osada leśna                2253\n",
       "kolonia                    2149\n",
       "miasto                      979\n",
       "przysiółek                  130\n",
       "schronisko turystyczne       47\n",
       "osiedle                       5\n",
       "Name: count, dtype: int64"
      ]
     },
     "execution_count": 18,
     "metadata": {},
     "output_type": "execute_result"
    }
   ],
   "source": [
    "df[df[\"nazwa miejscowości nadrzędnej\"].isnull()][\"rodzaj obiektu\"].value_counts()"
   ]
  },
  {
   "cell_type": "code",
   "execution_count": 33,
   "metadata": {},
   "outputs": [
    {
     "data": {
      "text/plain": [
       "nazwa główna\n",
       "ówka    6198\n",
       "wice    2801\n",
       "onia    1917\n",
       "skie    1657\n",
       "kowo    1387\n",
       "Wieś    1349\n",
       "niec    1331\n",
       "nica    1283\n",
       "wiec    1119\n",
       "nowo    1011\n",
       "zewo     891\n",
       "esie     879\n",
       "Góra     869\n",
       "niki     842\n",
       "ówek     765\n",
       "wska     696\n",
       "iska     694\n",
       "anka     676\n",
       "anów     666\n",
       "zyce     602\n",
       "Name: count, dtype: int64"
      ]
     },
     "execution_count": 33,
     "metadata": {},
     "output_type": "execute_result"
    }
   ],
   "source": [
    "df[\"nazwa główna\"].str[-4:].value_counts().head(20)"
   ]
  },
  {
   "cell_type": "code",
   "execution_count": 31,
   "metadata": {},
   "outputs": [
    {
     "data": {
      "text/plain": [
       "nazwa główna\n",
       "wka    6453\n",
       "owo    5008\n",
       "ice    4306\n",
       "nia    3261\n",
       "iec    2697\n",
       "kie    2582\n",
       "ska    2360\n",
       "owa    1984\n",
       "ewo    1842\n",
       "ica    1829\n",
       "nka    1461\n",
       "ków    1452\n",
       "nów    1440\n",
       "nie    1410\n",
       "ieś    1400\n",
       "ski    1311\n",
       "iny    1280\n",
       "sie    1194\n",
       "ina    1154\n",
       "nki    1146\n",
       "Name: count, dtype: int64"
      ]
     },
     "execution_count": 31,
     "metadata": {},
     "output_type": "execute_result"
    }
   ],
   "source": [
    "df[\"nazwa główna\"].str[-3:].value_counts().head(20)"
   ]
  },
  {
   "cell_type": "code",
   "execution_count": 32,
   "metadata": {},
   "outputs": [
    {
     "data": {
      "text/plain": [
       "nazwa główna\n",
       "ka    13520\n",
       "ki    10780\n",
       "ie     7679\n",
       "ów     7524\n",
       "wo     7063\n",
       "ce     5714\n",
       "na     4326\n",
       "ia     3670\n",
       "ek     3646\n",
       "ny     3350\n",
       "ec     3055\n",
       "ze     2534\n",
       "wa     2529\n",
       "in     2489\n",
       "ca     2115\n",
       "no     2014\n",
       "le     1977\n",
       "ko     1907\n",
       "ry     1675\n",
       "ne     1609\n",
       "Name: count, dtype: int64"
      ]
     },
     "execution_count": 32,
     "metadata": {},
     "output_type": "execute_result"
    }
   ],
   "source": [
    "df[\"nazwa główna\"].str[-2:].value_counts().head(20)"
   ]
  },
  {
   "cell_type": "markdown",
   "metadata": {},
   "source": [
    "# Transform data"
   ]
  },
  {
   "cell_type": "code",
   "execution_count": 20,
   "metadata": {},
   "outputs": [],
   "source": [
    "df2 = df.copy()"
   ]
  },
  {
   "cell_type": "code",
   "execution_count": 19,
   "metadata": {},
   "outputs": [
    {
     "data": {
      "text/plain": [
       "Index(['identyfikator IIP', 'identyfikator PRNG', 'nazwa główna',\n",
       "       'element rozróżniający', 'element rodzajowy', 'dopełniacz',\n",
       "       'przymiotnik', 'status nazwy', 'kategoria obiektu', 'rodzaj obiektu',\n",
       "       'nazwa miejscowości nadrzędnej',\n",
       "       'identyfikator miejscowości nadrzędnej', 'informacje dodatkowe',\n",
       "       'system zewnętrzny', 'identyfikator zewnętrzny',\n",
       "       'tytuł dokumentu źródłowego', 'data dokumentu źródłowego',\n",
       "       'wydawca dokumentu źródłowego', 'rodzaj reprezentacji',\n",
       "       'współrzędne geograficzne', 'współrzędne prostokątne XY',\n",
       "       'nazwa historyczna', 'nazwa oboczna', 'nazwa dodatkowa',\n",
       "       'język nazwy dodatkowej', 'latynizacja nazwy dodatkowej', 'endonim',\n",
       "       'język endonimu', 'latynizacja endonimu', 'egzonim', 'język egzonimu',\n",
       "       'latynizacja egzonimu', 'województwo', 'powiat', 'gmina',\n",
       "       'identyfikator gminy', 'początek wersji obiektu', 'wersja obiektu',\n",
       "       'ważna od'],\n",
       "      dtype='object')"
      ]
     },
     "execution_count": 19,
     "metadata": {},
     "output_type": "execute_result"
    }
   ],
   "source": [
    "df.columns"
   ]
  },
  {
   "cell_type": "code",
   "execution_count": 37,
   "metadata": {},
   "outputs": [],
   "source": [
    "df = df[[\"identyfikator PRNG\", \"nazwa główna\", \"status nazwy\", \"nazwa miejscowości nadrzędnej\", \"współrzędne geograficzne\", \"województwo\", \"powiat\", \"gmina\"]].copy()"
   ]
  },
  {
   "cell_type": "code",
   "execution_count": 38,
   "metadata": {},
   "outputs": [],
   "source": [
    "df.rename(columns = {'identyfikator PRNG':'id',\n",
    "                     'nazwa główna': 'name',\n",
    "                     'status nazwy': 'status',\n",
    "                     \"nazwa miejscowości nadrzędnej\": \"higher_rank_object_name\",\n",
    "                     \"współrzędne geograficzne\": \"geo_coords\",\n",
    "                     \"województwo\": \"voivodeship\",\n",
    "                     \"powiat\": \"district\",\n",
    "                     \"gmina\": \"commune\"\n",
    "                     }, \n",
    "          inplace = True)"
   ]
  },
  {
   "cell_type": "code",
   "execution_count": 71,
   "metadata": {},
   "outputs": [],
   "source": [
    "df[[\"lat\", \"lon\"]] = df[\"geo_coords\"].str.split(' ', expand=True)"
   ]
  },
  {
   "cell_type": "code",
   "execution_count": 73,
   "metadata": {},
   "outputs": [
    {
     "data": {
      "text/plain": [
       "0         16°39'19\"\n",
       "1         17°49'23\"\n",
       "2         15°39'12\"\n",
       "3         16°01'59\"\n",
       "4         17°58'15\"\n",
       "            ...    \n",
       "124559    23°16'12\"\n",
       "124560    23°15'56\"\n",
       "124561    23°17'28\"\n",
       "124562    23°16'13\"\n",
       "124563    23°16'23\"\n",
       "Name: lon, Length: 124564, dtype: object"
      ]
     },
     "execution_count": 73,
     "metadata": {},
     "output_type": "execute_result"
    }
   ],
   "source": [
    "df[\"lon\"]"
   ]
  },
  {
   "cell_type": "code",
   "execution_count": 81,
   "metadata": {},
   "outputs": [
    {
     "data": {
      "text/html": [
       "<div>\n",
       "<style scoped>\n",
       "    .dataframe tbody tr th:only-of-type {\n",
       "        vertical-align: middle;\n",
       "    }\n",
       "\n",
       "    .dataframe tbody tr th {\n",
       "        vertical-align: top;\n",
       "    }\n",
       "\n",
       "    .dataframe thead th {\n",
       "        text-align: right;\n",
       "    }\n",
       "</style>\n",
       "<table border=\"1\" class=\"dataframe\">\n",
       "  <thead>\n",
       "    <tr style=\"text-align: right;\">\n",
       "      <th></th>\n",
       "      <th>0</th>\n",
       "      <th>1</th>\n",
       "      <th>2</th>\n",
       "    </tr>\n",
       "  </thead>\n",
       "  <tbody>\n",
       "    <tr>\n",
       "      <th>0</th>\n",
       "      <td>50</td>\n",
       "      <td>43</td>\n",
       "      <td>04</td>\n",
       "    </tr>\n",
       "    <tr>\n",
       "      <th>1</th>\n",
       "      <td>51</td>\n",
       "      <td>53</td>\n",
       "      <td>14</td>\n",
       "    </tr>\n",
       "    <tr>\n",
       "      <th>2</th>\n",
       "      <td>52</td>\n",
       "      <td>49</td>\n",
       "      <td>34</td>\n",
       "    </tr>\n",
       "    <tr>\n",
       "      <th>3</th>\n",
       "      <td>52</td>\n",
       "      <td>50</td>\n",
       "      <td>46</td>\n",
       "    </tr>\n",
       "    <tr>\n",
       "      <th>4</th>\n",
       "      <td>50</td>\n",
       "      <td>29</td>\n",
       "      <td>50</td>\n",
       "    </tr>\n",
       "    <tr>\n",
       "      <th>...</th>\n",
       "      <td>...</td>\n",
       "      <td>...</td>\n",
       "      <td>...</td>\n",
       "    </tr>\n",
       "    <tr>\n",
       "      <th>124559</th>\n",
       "      <td>50</td>\n",
       "      <td>42</td>\n",
       "      <td>28</td>\n",
       "    </tr>\n",
       "    <tr>\n",
       "      <th>124560</th>\n",
       "      <td>50</td>\n",
       "      <td>42</td>\n",
       "      <td>18</td>\n",
       "    </tr>\n",
       "    <tr>\n",
       "      <th>124561</th>\n",
       "      <td>50</td>\n",
       "      <td>43</td>\n",
       "      <td>01</td>\n",
       "    </tr>\n",
       "    <tr>\n",
       "      <th>124562</th>\n",
       "      <td>50</td>\n",
       "      <td>43</td>\n",
       "      <td>09</td>\n",
       "    </tr>\n",
       "    <tr>\n",
       "      <th>124563</th>\n",
       "      <td>50</td>\n",
       "      <td>43</td>\n",
       "      <td>20</td>\n",
       "    </tr>\n",
       "  </tbody>\n",
       "</table>\n",
       "<p>124564 rows × 3 columns</p>\n",
       "</div>"
      ],
      "text/plain": [
       "         0   1   2\n",
       "0       50  43  04\n",
       "1       51  53  14\n",
       "2       52  49  34\n",
       "3       52  50  46\n",
       "4       50  29  50\n",
       "...     ..  ..  ..\n",
       "124559  50  42  28\n",
       "124560  50  42  18\n",
       "124561  50  43  01\n",
       "124562  50  43  09\n",
       "124563  50  43  20\n",
       "\n",
       "[124564 rows x 3 columns]"
      ]
     },
     "execution_count": 81,
     "metadata": {},
     "output_type": "execute_result"
    }
   ],
   "source": [
    "pd.DataFrame(df[\"lat\"].apply(split_coords).to_list())"
   ]
  },
  {
   "cell_type": "code",
   "execution_count": 82,
   "metadata": {},
   "outputs": [],
   "source": [
    "def split_coords(x):\n",
    "    return re.findall(r\"(\\d+)\", x)\n",
    "\n",
    "df111 = pd.DataFrame()\n",
    "\n",
    "df111[[\"d_lat\", \"m_lat\", \"s_lat\"]] = df[\"lat\"].apply(split_coords).to_list()"
   ]
  },
  {
   "cell_type": "code",
   "execution_count": 83,
   "metadata": {},
   "outputs": [],
   "source": [
    "df111[[\"d_lon\", \"m_lon\", \"s_lon\"]] = df[\"lon\"].apply(split_coords).to_list()"
   ]
  },
  {
   "cell_type": "code",
   "execution_count": 111,
   "metadata": {},
   "outputs": [],
   "source": [
    "df111 = df111.apply(pd.to_numeric)"
   ]
  },
  {
   "cell_type": "code",
   "execution_count": 177,
   "metadata": {},
   "outputs": [],
   "source": [
    "def convert_dms_to_dd(row):\n",
    "    return row[0] + row[1]/60 + row[2]/3600"
   ]
  },
  {
   "cell_type": "code",
   "execution_count": 178,
   "metadata": {},
   "outputs": [
    {
     "data": {
      "text/plain": [
       "0         50.717778\n",
       "1         51.887222\n",
       "2         52.826111\n",
       "3         52.846111\n",
       "4         50.497222\n",
       "            ...    \n",
       "124559    50.707778\n",
       "124560    50.705000\n",
       "124561    50.716944\n",
       "124562    50.719167\n",
       "124563    50.722222\n",
       "Length: 124564, dtype: float64"
      ]
     },
     "execution_count": 178,
     "metadata": {},
     "output_type": "execute_result"
    }
   ],
   "source": [
    "df111[[\"d_lat\", \"m_lat\", \"s_lat\"]].apply(convert_dms_to_dd, axis=1)"
   ]
  },
  {
   "cell_type": "markdown",
   "metadata": {},
   "source": [
    "### DF"
   ]
  },
  {
   "cell_type": "code",
   "execution_count": 179,
   "metadata": {},
   "outputs": [],
   "source": [
    "df[[\"d_lat\", \"m_lat\", \"s_lat\"]] = df[\"lat\"].apply(split_coords).to_list()\n",
    "df[[\"d_lon\", \"m_lon\", \"s_lon\"]] = df[\"lon\"].apply(split_coords).to_list()\n",
    "\n",
    "df[[\"d_lat\", \"m_lat\", \"s_lat\"]] = df[[\"d_lat\", \"m_lat\", \"s_lat\"]].astype(int)\n",
    "df[[\"d_lon\", \"m_lon\", \"s_lon\"]] = df[[\"d_lon\", \"m_lon\", \"s_lon\"]].astype(int)\n",
    "\n",
    "df[\"dd_lat\"] = df[[\"d_lat\", \"m_lat\", \"s_lat\"]].apply(convert_dms_to_dd, axis=1)\n",
    "df[\"dd_lon\"] = df[[\"d_lon\", \"m_lon\", \"s_lon\"]].apply(convert_dms_to_dd, axis=1)\n",
    "\n",
    "df.drop(columns=[\"d_lat\", \"m_lat\", \"s_lat\", \"d_lon\", \"m_lon\", \"s_lon\"], inplace=True)"
   ]
  },
  {
   "cell_type": "code",
   "execution_count": 180,
   "metadata": {},
   "outputs": [
    {
     "data": {
      "text/html": [
       "<div>\n",
       "<style scoped>\n",
       "    .dataframe tbody tr th:only-of-type {\n",
       "        vertical-align: middle;\n",
       "    }\n",
       "\n",
       "    .dataframe tbody tr th {\n",
       "        vertical-align: top;\n",
       "    }\n",
       "\n",
       "    .dataframe thead th {\n",
       "        text-align: right;\n",
       "    }\n",
       "</style>\n",
       "<table border=\"1\" class=\"dataframe\">\n",
       "  <thead>\n",
       "    <tr style=\"text-align: right;\">\n",
       "      <th></th>\n",
       "      <th>id</th>\n",
       "      <th>name</th>\n",
       "      <th>status</th>\n",
       "      <th>higher_rank_object_name</th>\n",
       "      <th>geo_coords</th>\n",
       "      <th>voivodeship</th>\n",
       "      <th>district</th>\n",
       "      <th>commune</th>\n",
       "      <th>lat</th>\n",
       "      <th>lon</th>\n",
       "      <th>dd_lat</th>\n",
       "      <th>dd_lon</th>\n",
       "    </tr>\n",
       "  </thead>\n",
       "  <tbody>\n",
       "    <tr>\n",
       "      <th>0</th>\n",
       "      <td>2</td>\n",
       "      <td>Osiedle Struga</td>\n",
       "      <td>niestandaryzowana</td>\n",
       "      <td>Dzierżoniów</td>\n",
       "      <td>50°43'04\" 16°39'19\"</td>\n",
       "      <td>dolnośląskie</td>\n",
       "      <td>dzierżoniowski</td>\n",
       "      <td>Dzierżoniów-gmina miejska</td>\n",
       "      <td>50°43'04\"</td>\n",
       "      <td>16°39'19\"</td>\n",
       "      <td>50.717778</td>\n",
       "      <td>16.655278</td>\n",
       "    </tr>\n",
       "    <tr>\n",
       "      <th>1</th>\n",
       "      <td>4</td>\n",
       "      <td>Abisynia</td>\n",
       "      <td>niestandaryzowana</td>\n",
       "      <td>Lenartowice</td>\n",
       "      <td>51°53'14\" 17°49'23\"</td>\n",
       "      <td>wielkopolskie</td>\n",
       "      <td>pleszewski</td>\n",
       "      <td>Pleszew-gmina miejsko-wiejska</td>\n",
       "      <td>51°53'14\"</td>\n",
       "      <td>17°49'23\"</td>\n",
       "      <td>51.887222</td>\n",
       "      <td>17.823056</td>\n",
       "    </tr>\n",
       "    <tr>\n",
       "      <th>2</th>\n",
       "      <td>6</td>\n",
       "      <td>Abisynia</td>\n",
       "      <td>niestandaryzowana</td>\n",
       "      <td>Pławin</td>\n",
       "      <td>52°49'34\" 15°39'12\"</td>\n",
       "      <td>lubuskie</td>\n",
       "      <td>strzelecko-drezdenecki</td>\n",
       "      <td>Stare Kurowo-gmina wiejska</td>\n",
       "      <td>52°49'34\"</td>\n",
       "      <td>15°39'12\"</td>\n",
       "      <td>52.826111</td>\n",
       "      <td>15.653333</td>\n",
       "    </tr>\n",
       "    <tr>\n",
       "      <th>3</th>\n",
       "      <td>7</td>\n",
       "      <td>Abisynia</td>\n",
       "      <td>urzędowa</td>\n",
       "      <td>Drawsko</td>\n",
       "      <td>52°50'46\" 16°01'59\"</td>\n",
       "      <td>wielkopolskie</td>\n",
       "      <td>czarnkowsko-trzcianecki</td>\n",
       "      <td>Drawsko-gmina wiejska</td>\n",
       "      <td>52°50'46\"</td>\n",
       "      <td>16°01'59\"</td>\n",
       "      <td>52.846111</td>\n",
       "      <td>16.033056</td>\n",
       "    </tr>\n",
       "    <tr>\n",
       "      <th>4</th>\n",
       "      <td>8</td>\n",
       "      <td>Abisynia</td>\n",
       "      <td>niestandaryzowana</td>\n",
       "      <td>Krapkowice</td>\n",
       "      <td>50°29'50\" 17°58'15\"</td>\n",
       "      <td>opolskie</td>\n",
       "      <td>krapkowicki</td>\n",
       "      <td>Krapkowice-gmina miejsko-wiejska</td>\n",
       "      <td>50°29'50\"</td>\n",
       "      <td>17°58'15\"</td>\n",
       "      <td>50.497222</td>\n",
       "      <td>17.970833</td>\n",
       "    </tr>\n",
       "    <tr>\n",
       "      <th>...</th>\n",
       "      <td>...</td>\n",
       "      <td>...</td>\n",
       "      <td>...</td>\n",
       "      <td>...</td>\n",
       "      <td>...</td>\n",
       "      <td>...</td>\n",
       "      <td>...</td>\n",
       "      <td>...</td>\n",
       "      <td>...</td>\n",
       "      <td>...</td>\n",
       "      <td>...</td>\n",
       "      <td>...</td>\n",
       "    </tr>\n",
       "    <tr>\n",
       "      <th>124559</th>\n",
       "      <td>269639</td>\n",
       "      <td>Osiedle św. Piątka</td>\n",
       "      <td>niestandaryzowana</td>\n",
       "      <td>Zamość</td>\n",
       "      <td>50°42'28\" 23°16'12\"</td>\n",
       "      <td>lubelskie</td>\n",
       "      <td>Zamość</td>\n",
       "      <td>Zamość-gmina miejska</td>\n",
       "      <td>50°42'28\"</td>\n",
       "      <td>23°16'12\"</td>\n",
       "      <td>50.707778</td>\n",
       "      <td>23.270000</td>\n",
       "    </tr>\n",
       "    <tr>\n",
       "      <th>124560</th>\n",
       "      <td>269640</td>\n",
       "      <td>Osiedle Kompozytorów</td>\n",
       "      <td>niestandaryzowana</td>\n",
       "      <td>Zamość</td>\n",
       "      <td>50°42'18\" 23°15'56\"</td>\n",
       "      <td>lubelskie</td>\n",
       "      <td>Zamość</td>\n",
       "      <td>Zamość-gmina miejska</td>\n",
       "      <td>50°42'18\"</td>\n",
       "      <td>23°15'56\"</td>\n",
       "      <td>50.705000</td>\n",
       "      <td>23.265556</td>\n",
       "    </tr>\n",
       "    <tr>\n",
       "      <th>124561</th>\n",
       "      <td>269641</td>\n",
       "      <td>Osiedle Małe Ciche</td>\n",
       "      <td>niestandaryzowana</td>\n",
       "      <td>Zamość</td>\n",
       "      <td>50°43'01\" 23°17'28\"</td>\n",
       "      <td>lubelskie</td>\n",
       "      <td>Zamość</td>\n",
       "      <td>Zamość-gmina miejska</td>\n",
       "      <td>50°43'01\"</td>\n",
       "      <td>23°17'28\"</td>\n",
       "      <td>50.716944</td>\n",
       "      <td>23.291111</td>\n",
       "    </tr>\n",
       "    <tr>\n",
       "      <th>124562</th>\n",
       "      <td>269642</td>\n",
       "      <td>Osiedle Bohaterów Monte Cassino</td>\n",
       "      <td>niestandaryzowana</td>\n",
       "      <td>Zamość</td>\n",
       "      <td>50°43'09\" 23°16'13\"</td>\n",
       "      <td>lubelskie</td>\n",
       "      <td>Zamość</td>\n",
       "      <td>Zamość-gmina miejska</td>\n",
       "      <td>50°43'09\"</td>\n",
       "      <td>23°16'13\"</td>\n",
       "      <td>50.719167</td>\n",
       "      <td>23.270278</td>\n",
       "    </tr>\n",
       "    <tr>\n",
       "      <th>124563</th>\n",
       "      <td>269643</td>\n",
       "      <td>Osiedle Zakole</td>\n",
       "      <td>niestandaryzowana</td>\n",
       "      <td>Zamość</td>\n",
       "      <td>50°43'20\" 23°16'23\"</td>\n",
       "      <td>lubelskie</td>\n",
       "      <td>Zamość</td>\n",
       "      <td>Zamość-gmina miejska</td>\n",
       "      <td>50°43'20\"</td>\n",
       "      <td>23°16'23\"</td>\n",
       "      <td>50.722222</td>\n",
       "      <td>23.273056</td>\n",
       "    </tr>\n",
       "  </tbody>\n",
       "</table>\n",
       "<p>124564 rows × 12 columns</p>\n",
       "</div>"
      ],
      "text/plain": [
       "            id                             name             status  \\\n",
       "0            2                   Osiedle Struga  niestandaryzowana   \n",
       "1            4                         Abisynia  niestandaryzowana   \n",
       "2            6                         Abisynia  niestandaryzowana   \n",
       "3            7                         Abisynia           urzędowa   \n",
       "4            8                         Abisynia  niestandaryzowana   \n",
       "...        ...                              ...                ...   \n",
       "124559  269639               Osiedle św. Piątka  niestandaryzowana   \n",
       "124560  269640             Osiedle Kompozytorów  niestandaryzowana   \n",
       "124561  269641               Osiedle Małe Ciche  niestandaryzowana   \n",
       "124562  269642  Osiedle Bohaterów Monte Cassino  niestandaryzowana   \n",
       "124563  269643                   Osiedle Zakole  niestandaryzowana   \n",
       "\n",
       "       higher_rank_object_name           geo_coords    voivodeship  \\\n",
       "0                  Dzierżoniów  50°43'04\" 16°39'19\"   dolnośląskie   \n",
       "1                  Lenartowice  51°53'14\" 17°49'23\"  wielkopolskie   \n",
       "2                       Pławin  52°49'34\" 15°39'12\"       lubuskie   \n",
       "3                      Drawsko  52°50'46\" 16°01'59\"  wielkopolskie   \n",
       "4                   Krapkowice  50°29'50\" 17°58'15\"       opolskie   \n",
       "...                        ...                  ...            ...   \n",
       "124559                  Zamość  50°42'28\" 23°16'12\"      lubelskie   \n",
       "124560                  Zamość  50°42'18\" 23°15'56\"      lubelskie   \n",
       "124561                  Zamość  50°43'01\" 23°17'28\"      lubelskie   \n",
       "124562                  Zamość  50°43'09\" 23°16'13\"      lubelskie   \n",
       "124563                  Zamość  50°43'20\" 23°16'23\"      lubelskie   \n",
       "\n",
       "                       district                           commune        lat  \\\n",
       "0                dzierżoniowski         Dzierżoniów-gmina miejska  50°43'04\"   \n",
       "1                    pleszewski     Pleszew-gmina miejsko-wiejska  51°53'14\"   \n",
       "2        strzelecko-drezdenecki        Stare Kurowo-gmina wiejska  52°49'34\"   \n",
       "3       czarnkowsko-trzcianecki             Drawsko-gmina wiejska  52°50'46\"   \n",
       "4                   krapkowicki  Krapkowice-gmina miejsko-wiejska  50°29'50\"   \n",
       "...                         ...                               ...        ...   \n",
       "124559                   Zamość              Zamość-gmina miejska  50°42'28\"   \n",
       "124560                   Zamość              Zamość-gmina miejska  50°42'18\"   \n",
       "124561                   Zamość              Zamość-gmina miejska  50°43'01\"   \n",
       "124562                   Zamość              Zamość-gmina miejska  50°43'09\"   \n",
       "124563                   Zamość              Zamość-gmina miejska  50°43'20\"   \n",
       "\n",
       "              lon     dd_lat     dd_lon  \n",
       "0       16°39'19\"  50.717778  16.655278  \n",
       "1       17°49'23\"  51.887222  17.823056  \n",
       "2       15°39'12\"  52.826111  15.653333  \n",
       "3       16°01'59\"  52.846111  16.033056  \n",
       "4       17°58'15\"  50.497222  17.970833  \n",
       "...           ...        ...        ...  \n",
       "124559  23°16'12\"  50.707778  23.270000  \n",
       "124560  23°15'56\"  50.705000  23.265556  \n",
       "124561  23°17'28\"  50.716944  23.291111  \n",
       "124562  23°16'13\"  50.719167  23.270278  \n",
       "124563  23°16'23\"  50.722222  23.273056  \n",
       "\n",
       "[124564 rows x 12 columns]"
      ]
     },
     "execution_count": 180,
     "metadata": {},
     "output_type": "execute_result"
    }
   ],
   "source": [
    "df"
   ]
  },
  {
   "cell_type": "markdown",
   "metadata": {},
   "source": [
    "# 1. Static plot"
   ]
  },
  {
   "cell_type": "code",
   "execution_count": 120,
   "metadata": {},
   "outputs": [],
   "source": [
    "from mpl_toolkits.basemap import Basemap\n",
    "import matplotlib.pyplot as plt\n"
   ]
  },
  {
   "cell_type": "code",
   "execution_count": 196,
   "metadata": {},
   "outputs": [
    {
     "data": {
      "text/plain": [
       "<matplotlib.collections.PathCollection at 0x195d4593ca0>"
      ]
     },
     "execution_count": 196,
     "metadata": {},
     "output_type": "execute_result"
    },
    {
     "data": {
      "image/png": "[encoded data removed]",
      "text/plain": [
       "<Figure size 800x800 with 1 Axes>"
      ]
     },
     "metadata": {},
     "output_type": "display_data"
    }
   ],
   "source": [
    "fig = plt.figure(figsize=(8, 8))\n",
    "m = Basemap(projection=\"lcc\", resolution='i', \n",
    "            width=8e5, height=8e5, \n",
    "            lat_0=52, lon_0=19,\n",
    "            )\n",
    "\n",
    "m.drawcoastlines(linewidth = 1)\n",
    "m.drawcountries(linewidth = 2)\n",
    "m.drawrivers(linewidth = 1)\n",
    "\n",
    "# m.etopo(scale=0.5, alpha=0.5)\n",
    "\n",
    "# Map (long, lat) to (x, y) for plotting\n",
    "x, y = m(\n",
    "    df[\"dd_lon\"].values[:1000].tolist(),\n",
    "    df[\"dd_lat\"].values[:1000].tolist()\n",
    ")\n",
    "# plt.plot(x, y, 'ok', markersize=5)\n",
    "\n",
    "m.scatter(x, y)\n"
   ]
  },
  {
   "cell_type": "code",
   "execution_count": 200,
   "metadata": {},
   "outputs": [
    {
     "data": {
      "image/png": "[encoded data removed]",
      "text/plain": [
       "<Figure size 800x800 with 1 Axes>"
      ]
     },
     "metadata": {},
     "output_type": "display_data"
    }
   ],
   "source": [
    "def plot_matplotlib(df, x, y):\n",
    "    fig = plt.figure(figsize=(8, 8))\n",
    "    m = Basemap(projection=\"lcc\", resolution='i', \n",
    "                width=8e5, height=8e5, \n",
    "                lat_0=52, lon_0=19,\n",
    "                )\n",
    "\n",
    "    m.drawcoastlines(linewidth = 1)\n",
    "    m.drawcountries(linewidth = 2)\n",
    "    m.drawrivers(linewidth = 1)\n",
    "\n",
    "    # m.etopo(scale=0.5, alpha=0.5)\n",
    "\n",
    "    # Map (long, lat) to (x, y) for plotting\n",
    "    x, y = m(\n",
    "        df[df[\"name\"].str[-3:] == \"owo\"][\"dd_lon\"].values[:1000].tolist(),\n",
    "        df[df[\"name\"].str[-3:] == \"owo\"][\"dd_lat\"].values[:1000].tolist()\n",
    "    )\n",
    "    # plt.plot(x, y, 'ok', markersize=5)\n",
    "\n",
    "    m.scatter(x, y, color=\"red\", label=\"owo\")\n",
    "\n",
    "    x, y = m(\n",
    "        df[df[\"name\"].str[-2:] == \"ów\"][\"dd_lon\"].values[:1000].tolist(),\n",
    "        df[df[\"name\"].str[-2:] == \"ów\"][\"dd_lat\"].values[:1000].tolist()\n",
    "    )\n",
    "    # plt.plot(x, y, 'ok', markersize=5)\n",
    "\n",
    "    m.scatter(x, y, color=\"blue\", label=\"ów\")\n",
    "    plt.legend()\n",
    "\n",
    "plot_matplotlib(df, 0, 0)"
   ]
  },
  {
   "cell_type": "markdown",
   "metadata": {},
   "source": [
    "Resources:\n",
    "- https://matplotlib.org/basemap/api/basemap_api.html#module-mpl_toolkits.basemap\n",
    "- https://www.latlong.net/degrees-minutes-seconds-to-decimal-degrees\n",
    "- https://basemaptutorial.readthedocs.io/en/latest/index.html\n",
    "- https://jakevdp.github.io/PythonDataScienceHandbook/04.13-geographic-data-with-basemap.html"
   ]
  },
  {
   "cell_type": "markdown",
   "metadata": {},
   "source": [
    "# 2. Folium"
   ]
  },
  {
   "cell_type": "code",
   "execution_count": 201,
   "metadata": {},
   "outputs": [],
   "source": [
    "import folium"
   ]
  },
  {
   "cell_type": "code",
   "execution_count": 205,
   "metadata": {},
   "outputs": [
    {
     "data": {
      "text/html": [
       "<div style=\"width:100%;\"><div style=\"position:relative;width:100%;height:0;padding-bottom:60%;\"><span style=\"color:#565656\">Make this Notebook Trusted to load map: File -> Trust Notebook</span><iframe srcdoc=\"&lt;!DOCTYPE html&gt;\n",
       "&lt;html&gt;\n",
       "&lt;head&gt;\n",
       "    \n",
       "    &lt;meta http-equiv=&quot;content-type&quot; content=&quot;text/html; charset=UTF-8&quot; /&gt;\n",
       "    \n",
       "        &lt;script&gt;\n",
       "            L_NO_TOUCH = false;\n",
       "            L_DISABLE_3D = false;\n",
       "        &lt;/script&gt;\n",
       "    \n",
       "    &lt;style&gt;html, body {width: 100%;height: 100%;margin: 0;padding: 0;}&lt;/style&gt;\n",
       "    &lt;style&gt;#map {position:absolute;top:0;bottom:0;right:0;left:0;}&lt;/style&gt;\n",
       "    &lt;script src=&quot;https://cdn.jsdelivr.net/npm/leaflet@1.9.3/dist/leaflet.js&quot;&gt;&lt;/script&gt;\n",
       "    &lt;script src=&quot;https://code.jquery.com/jquery-1.12.4.min.js&quot;&gt;&lt;/script&gt;\n",
       "    &lt;script src=&quot;https://cdn.jsdelivr.net/npm/bootstrap@5.2.2/dist/js/bootstrap.bundle.min.js&quot;&gt;&lt;/script&gt;\n",
       "    &lt;script src=&quot;https://cdnjs.cloudflare.com/ajax/libs/Leaflet.awesome-markers/2.0.2/leaflet.awesome-markers.js&quot;&gt;&lt;/script&gt;\n",
       "    &lt;link rel=&quot;stylesheet&quot; href=&quot;https://cdn.jsdelivr.net/npm/leaflet@1.9.3/dist/leaflet.css&quot;/&gt;\n",
       "    &lt;link rel=&quot;stylesheet&quot; href=&quot;https://cdn.jsdelivr.net/npm/bootstrap@5.2.2/dist/css/bootstrap.min.css&quot;/&gt;\n",
       "    &lt;link rel=&quot;stylesheet&quot; href=&quot;https://netdna.bootstrapcdn.com/bootstrap/3.0.0/css/bootstrap.min.css&quot;/&gt;\n",
       "    &lt;link rel=&quot;stylesheet&quot; href=&quot;https://cdn.jsdelivr.net/npm/@fortawesome/fontawesome-free@6.2.0/css/all.min.css&quot;/&gt;\n",
       "    &lt;link rel=&quot;stylesheet&quot; href=&quot;https://cdnjs.cloudflare.com/ajax/libs/Leaflet.awesome-markers/2.0.2/leaflet.awesome-markers.css&quot;/&gt;\n",
       "    &lt;link rel=&quot;stylesheet&quot; href=&quot;https://cdn.jsdelivr.net/gh/python-visualization/folium/folium/templates/leaflet.awesome.rotate.min.css&quot;/&gt;\n",
       "    \n",
       "            &lt;meta name=&quot;viewport&quot; content=&quot;width=device-width,\n",
       "                initial-scale=1.0, maximum-scale=1.0, user-scalable=no&quot; /&gt;\n",
       "            &lt;style&gt;\n",
       "                #map_f8c610e1a3ac1df28dbca3de9c9ef95d {\n",
       "                    position: relative;\n",
       "                    width: 100.0%;\n",
       "                    height: 100.0%;\n",
       "                    left: 0.0%;\n",
       "                    top: 0.0%;\n",
       "                }\n",
       "                .leaflet-container { font-size: 1rem; }\n",
       "            &lt;/style&gt;\n",
       "        \n",
       "&lt;/head&gt;\n",
       "&lt;body&gt;\n",
       "    \n",
       "    \n",
       "            &lt;div class=&quot;folium-map&quot; id=&quot;map_f8c610e1a3ac1df28dbca3de9c9ef95d&quot; &gt;&lt;/div&gt;\n",
       "        \n",
       "&lt;/body&gt;\n",
       "&lt;script&gt;\n",
       "    \n",
       "    \n",
       "            var map_f8c610e1a3ac1df28dbca3de9c9ef95d = L.map(\n",
       "                &quot;map_f8c610e1a3ac1df28dbca3de9c9ef95d&quot;,\n",
       "                {\n",
       "                    center: [52.667989, 19.464582],\n",
       "                    crs: L.CRS.EPSG3857,\n",
       "                    zoom: 6,\n",
       "                    zoomControl: true,\n",
       "                    preferCanvas: false,\n",
       "                }\n",
       "            );\n",
       "\n",
       "            \n",
       "\n",
       "        \n",
       "    \n",
       "            var tile_layer_16a3b0b060f6ba70d565579c4956c8a8 = L.tileLayer(\n",
       "                &quot;https://{s}.tile.openstreetmap.org/{z}/{x}/{y}.png&quot;,\n",
       "                {&quot;attribution&quot;: &quot;Data by \\u0026copy; \\u003ca target=\\&quot;_blank\\&quot; href=\\&quot;http://openstreetmap.org\\&quot;\\u003eOpenStreetMap\\u003c/a\\u003e, under \\u003ca target=\\&quot;_blank\\&quot; href=\\&quot;http://www.openstreetmap.org/copyright\\&quot;\\u003eODbL\\u003c/a\\u003e.&quot;, &quot;detectRetina&quot;: false, &quot;maxNativeZoom&quot;: 18, &quot;maxZoom&quot;: 18, &quot;minZoom&quot;: 0, &quot;noWrap&quot;: false, &quot;opacity&quot;: 1, &quot;subdomains&quot;: &quot;abc&quot;, &quot;tms&quot;: false}\n",
       "            ).addTo(map_f8c610e1a3ac1df28dbca3de9c9ef95d);\n",
       "        \n",
       "    \n",
       "            var marker_2091f144147d6df762ccc5e5280d1a1b = L.marker(\n",
       "                [50.717777777777776, 16.655277777777776],\n",
       "                {&quot;fillColor&quot;: &quot;#43d9de&quot;, &quot;radius&quot;: 8}\n",
       "            ).addTo(map_f8c610e1a3ac1df28dbca3de9c9ef95d);\n",
       "        \n",
       "    \n",
       "            var marker_65c854f77d5bd4545ce9c3a82094b456 = L.marker(\n",
       "                [51.88722222222222, 17.823055555555555],\n",
       "                {&quot;fillColor&quot;: &quot;#43d9de&quot;, &quot;radius&quot;: 8}\n",
       "            ).addTo(map_f8c610e1a3ac1df28dbca3de9c9ef95d);\n",
       "        \n",
       "    \n",
       "            var marker_fcc3fb6286414045a5975e17ed856505 = L.marker(\n",
       "                [52.82611111111112, 15.653333333333334],\n",
       "                {&quot;fillColor&quot;: &quot;#43d9de&quot;, &quot;radius&quot;: 8}\n",
       "            ).addTo(map_f8c610e1a3ac1df28dbca3de9c9ef95d);\n",
       "        \n",
       "    \n",
       "            var marker_e1bfb9b04f7e83e5ddb675c82850acca = L.marker(\n",
       "                [52.846111111111114, 16.033055555555556],\n",
       "                {&quot;fillColor&quot;: &quot;#43d9de&quot;, &quot;radius&quot;: 8}\n",
       "            ).addTo(map_f8c610e1a3ac1df28dbca3de9c9ef95d);\n",
       "        \n",
       "    \n",
       "            var marker_e58dcf0b40ea27cf71850f3086325a78 = L.marker(\n",
       "                [50.49722222222222, 17.97083333333333],\n",
       "                {&quot;fillColor&quot;: &quot;#43d9de&quot;, &quot;radius&quot;: 8}\n",
       "            ).addTo(map_f8c610e1a3ac1df28dbca3de9c9ef95d);\n",
       "        \n",
       "    \n",
       "            var marker_db353a778dbac89e5adb461fa347c4c4 = L.marker(\n",
       "                [53.92916666666667, 17.83722222222222],\n",
       "                {&quot;fillColor&quot;: &quot;#43d9de&quot;, &quot;radius&quot;: 8}\n",
       "            ).addTo(map_f8c610e1a3ac1df28dbca3de9c9ef95d);\n",
       "        \n",
       "    \n",
       "            var marker_f272c1c1e671d9f083b00c379269e830 = L.marker(\n",
       "                [53.038888888888884, 18.717499999999998],\n",
       "                {&quot;fillColor&quot;: &quot;#43d9de&quot;, &quot;radius&quot;: 8}\n",
       "            ).addTo(map_f8c610e1a3ac1df28dbca3de9c9ef95d);\n",
       "        \n",
       "    \n",
       "            var marker_b2501c1c75ae6da5a3d9d7eb06436f92 = L.marker(\n",
       "                [52.11611111111111, 22.5],\n",
       "                {&quot;fillColor&quot;: &quot;#43d9de&quot;, &quot;radius&quot;: 8}\n",
       "            ).addTo(map_f8c610e1a3ac1df28dbca3de9c9ef95d);\n",
       "        \n",
       "    \n",
       "            var marker_eeae4dcd7f4d4cc0e559cf2b0a584e7a = L.marker(\n",
       "                [52.059999999999995, 22.52611111111111],\n",
       "                {&quot;fillColor&quot;: &quot;#43d9de&quot;, &quot;radius&quot;: 8}\n",
       "            ).addTo(map_f8c610e1a3ac1df28dbca3de9c9ef95d);\n",
       "        \n",
       "    \n",
       "            var marker_d62ad58d8735d474795c57a7b96d1c27 = L.marker(\n",
       "                [51.6875, 23.00611111111111],\n",
       "                {&quot;fillColor&quot;: &quot;#43d9de&quot;, &quot;radius&quot;: 8}\n",
       "            ).addTo(map_f8c610e1a3ac1df28dbca3de9c9ef95d);\n",
       "        \n",
       "    \n",
       "            var marker_ac47ca1e08f21289d3353f91143e95af = L.marker(\n",
       "                [50.71666666666667, 23.890555555555554],\n",
       "                {&quot;fillColor&quot;: &quot;#43d9de&quot;, &quot;radius&quot;: 8}\n",
       "            ).addTo(map_f8c610e1a3ac1df28dbca3de9c9ef95d);\n",
       "        \n",
       "    \n",
       "            var marker_59733e77d8e66444d04bf757f8d075ab = L.marker(\n",
       "                [50.00361111111111, 18.631944444444446],\n",
       "                {&quot;fillColor&quot;: &quot;#43d9de&quot;, &quot;radius&quot;: 8}\n",
       "            ).addTo(map_f8c610e1a3ac1df28dbca3de9c9ef95d);\n",
       "        \n",
       "    \n",
       "            var marker_731d6c99c2c517dfbff74c02ed692e22 = L.marker(\n",
       "                [51.60777777777778, 19.653888888888886],\n",
       "                {&quot;fillColor&quot;: &quot;#43d9de&quot;, &quot;radius&quot;: 8}\n",
       "            ).addTo(map_f8c610e1a3ac1df28dbca3de9c9ef95d);\n",
       "        \n",
       "    \n",
       "            var marker_811bdcaa88c2f4b2ffbe353db1cbed51 = L.marker(\n",
       "                [53.994166666666665, 19.89638888888889],\n",
       "                {&quot;fillColor&quot;: &quot;#43d9de&quot;, &quot;radius&quot;: 8}\n",
       "            ).addTo(map_f8c610e1a3ac1df28dbca3de9c9ef95d);\n",
       "        \n",
       "    \n",
       "            var marker_5da0c09afe4577ed7bdd54665e9d81a8 = L.marker(\n",
       "                [51.20861111111111, 22.581666666666667],\n",
       "                {&quot;fillColor&quot;: &quot;#43d9de&quot;, &quot;radius&quot;: 8}\n",
       "            ).addTo(map_f8c610e1a3ac1df28dbca3de9c9ef95d);\n",
       "        \n",
       "    \n",
       "            var marker_3f5a4f6a6e7f4cb11aeb89eaac8d180b = L.marker(\n",
       "                [49.79194444444444, 20.194166666666668],\n",
       "                {&quot;fillColor&quot;: &quot;#43d9de&quot;, &quot;radius&quot;: 8}\n",
       "            ).addTo(map_f8c610e1a3ac1df28dbca3de9c9ef95d);\n",
       "        \n",
       "    \n",
       "            var marker_7c5be280352cb8cec776af11fccefe71 = L.marker(\n",
       "                [51.19027777777777, 22.628055555555555],\n",
       "                {&quot;fillColor&quot;: &quot;#43d9de&quot;, &quot;radius&quot;: 8}\n",
       "            ).addTo(map_f8c610e1a3ac1df28dbca3de9c9ef95d);\n",
       "        \n",
       "    \n",
       "            var marker_4bbd9829d14044665e38926c1107cdd6 = L.marker(\n",
       "                [51.205000000000005, 22.6225],\n",
       "                {&quot;fillColor&quot;: &quot;#43d9de&quot;, &quot;radius&quot;: 8}\n",
       "            ).addTo(map_f8c610e1a3ac1df28dbca3de9c9ef95d);\n",
       "        \n",
       "    \n",
       "            var marker_ffb129e86b876ffccb23a8fd28ec626a = L.marker(\n",
       "                [51.45638888888889, 22.31527777777778],\n",
       "                {&quot;fillColor&quot;: &quot;#43d9de&quot;, &quot;radius&quot;: 8}\n",
       "            ).addTo(map_f8c610e1a3ac1df28dbca3de9c9ef95d);\n",
       "        \n",
       "    \n",
       "            var marker_e0c442029825d5706aea8e930ef0169b = L.marker(\n",
       "                [51.045833333333334, 22.530833333333334],\n",
       "                {&quot;fillColor&quot;: &quot;#43d9de&quot;, &quot;radius&quot;: 8}\n",
       "            ).addTo(map_f8c610e1a3ac1df28dbca3de9c9ef95d);\n",
       "        \n",
       "    \n",
       "            var marker_1ffc0415fba98ff7a96f505579161ac2 = L.marker(\n",
       "                [50.69944444444444, 22.70138888888889],\n",
       "                {&quot;fillColor&quot;: &quot;#43d9de&quot;, &quot;radius&quot;: 8}\n",
       "            ).addTo(map_f8c610e1a3ac1df28dbca3de9c9ef95d);\n",
       "        \n",
       "    \n",
       "            var marker_12b3e478464f580b7e321713025a18e7 = L.marker(\n",
       "                [49.57833333333333, 19.18027777777778],\n",
       "                {&quot;fillColor&quot;: &quot;#43d9de&quot;, &quot;radius&quot;: 8}\n",
       "            ).addTo(map_f8c610e1a3ac1df28dbca3de9c9ef95d);\n",
       "        \n",
       "    \n",
       "            var marker_1e7f6c09bd29dab3432c26599542af0d = L.marker(\n",
       "                [50.69777777777777, 22.70888888888889],\n",
       "                {&quot;fillColor&quot;: &quot;#43d9de&quot;, &quot;radius&quot;: 8}\n",
       "            ).addTo(map_f8c610e1a3ac1df28dbca3de9c9ef95d);\n",
       "        \n",
       "    \n",
       "            var marker_69525350bccfca7a46554f2fae9903a1 = L.marker(\n",
       "                [51.3175, 23.129444444444445],\n",
       "                {&quot;fillColor&quot;: &quot;#43d9de&quot;, &quot;radius&quot;: 8}\n",
       "            ).addTo(map_f8c610e1a3ac1df28dbca3de9c9ef95d);\n",
       "        \n",
       "    \n",
       "            var marker_2b409649efcc9597586662c5b23b008a = L.marker(\n",
       "                [52.25388888888889, 21.800555555555555],\n",
       "                {&quot;fillColor&quot;: &quot;#43d9de&quot;, &quot;radius&quot;: 8}\n",
       "            ).addTo(map_f8c610e1a3ac1df28dbca3de9c9ef95d);\n",
       "        \n",
       "    \n",
       "            var marker_e7f0aa2c3061a0509b9e023013b06a04 = L.marker(\n",
       "                [53.51361111111111, 23.546944444444446],\n",
       "                {&quot;fillColor&quot;: &quot;#43d9de&quot;, &quot;radius&quot;: 8}\n",
       "            ).addTo(map_f8c610e1a3ac1df28dbca3de9c9ef95d);\n",
       "        \n",
       "    \n",
       "            var marker_5977d8154d5df3d68d22cfd025f63033 = L.marker(\n",
       "                [50.41416666666667, 20.210833333333333],\n",
       "                {&quot;fillColor&quot;: &quot;#43d9de&quot;, &quot;radius&quot;: 8}\n",
       "            ).addTo(map_f8c610e1a3ac1df28dbca3de9c9ef95d);\n",
       "        \n",
       "    \n",
       "            var marker_4bccc7af3e1b134d7a57024fac14de9d = L.marker(\n",
       "                [51.20111111111111, 16.13611111111111],\n",
       "                {&quot;fillColor&quot;: &quot;#43d9de&quot;, &quot;radius&quot;: 8}\n",
       "            ).addTo(map_f8c610e1a3ac1df28dbca3de9c9ef95d);\n",
       "        \n",
       "    \n",
       "            var marker_5b475fb97d929d2bcae8bd2f0abc5a54 = L.marker(\n",
       "                [51.74722222222222, 18.0775],\n",
       "                {&quot;fillColor&quot;: &quot;#43d9de&quot;, &quot;radius&quot;: 8}\n",
       "            ).addTo(map_f8c610e1a3ac1df28dbca3de9c9ef95d);\n",
       "        \n",
       "    \n",
       "            var marker_99e2e32ef85b5263469a22cd3f0794c0 = L.marker(\n",
       "                [50.21805555555556, 19.072499999999998],\n",
       "                {&quot;fillColor&quot;: &quot;#43d9de&quot;, &quot;radius&quot;: 8}\n",
       "            ).addTo(map_f8c610e1a3ac1df28dbca3de9c9ef95d);\n",
       "        \n",
       "    \n",
       "            var marker_af979fa3bd00792f9999c84ca88d8e44 = L.marker(\n",
       "                [49.63583333333333, 19.925833333333333],\n",
       "                {&quot;fillColor&quot;: &quot;#43d9de&quot;, &quot;radius&quot;: 8}\n",
       "            ).addTo(map_f8c610e1a3ac1df28dbca3de9c9ef95d);\n",
       "        \n",
       "    \n",
       "            var marker_308460bf01cdd3661c38e3474de66bd5 = L.marker(\n",
       "                [50.654444444444444, 21.47083333333333],\n",
       "                {&quot;fillColor&quot;: &quot;#43d9de&quot;, &quot;radius&quot;: 8}\n",
       "            ).addTo(map_f8c610e1a3ac1df28dbca3de9c9ef95d);\n",
       "        \n",
       "    \n",
       "            var marker_d95315856d32c3a70d0084717510d352 = L.marker(\n",
       "                [50.65888888888889, 21.47472222222222],\n",
       "                {&quot;fillColor&quot;: &quot;#43d9de&quot;, &quot;radius&quot;: 8}\n",
       "            ).addTo(map_f8c610e1a3ac1df28dbca3de9c9ef95d);\n",
       "        \n",
       "    \n",
       "            var marker_94a09461ec69388dd1aad31d16492fe0 = L.marker(\n",
       "                [53.106944444444444, 21.263055555555557],\n",
       "                {&quot;fillColor&quot;: &quot;#43d9de&quot;, &quot;radius&quot;: 8}\n",
       "            ).addTo(map_f8c610e1a3ac1df28dbca3de9c9ef95d);\n",
       "        \n",
       "    \n",
       "            var marker_2ca0ea8ac19d97633c7efdb8ddcf11fd = L.marker(\n",
       "                [49.63638888888889, 20.064722222222223],\n",
       "                {&quot;fillColor&quot;: &quot;#43d9de&quot;, &quot;radius&quot;: 8}\n",
       "            ).addTo(map_f8c610e1a3ac1df28dbca3de9c9ef95d);\n",
       "        \n",
       "    \n",
       "            var marker_3c6cb0a843662a344e45734c78f790c5 = L.marker(\n",
       "                [49.5225, 19.62777777777778],\n",
       "                {&quot;fillColor&quot;: &quot;#43d9de&quot;, &quot;radius&quot;: 8}\n",
       "            ).addTo(map_f8c610e1a3ac1df28dbca3de9c9ef95d);\n",
       "        \n",
       "    \n",
       "            var marker_a4a29e8660d8bdee936660b9e77b4d92 = L.marker(\n",
       "                [51.07083333333334, 20.50638888888889],\n",
       "                {&quot;fillColor&quot;: &quot;#43d9de&quot;, &quot;radius&quot;: 8}\n",
       "            ).addTo(map_f8c610e1a3ac1df28dbca3de9c9ef95d);\n",
       "        \n",
       "    \n",
       "            var marker_4d4156aae0c663df6f973fa97587b1f3 = L.marker(\n",
       "                [52.152499999999996, 17.79527777777778],\n",
       "                {&quot;fillColor&quot;: &quot;#43d9de&quot;, &quot;radius&quot;: 8}\n",
       "            ).addTo(map_f8c610e1a3ac1df28dbca3de9c9ef95d);\n",
       "        \n",
       "    \n",
       "            var marker_0806c203e3cee25397d59b531191c905 = L.marker(\n",
       "                [50.205000000000005, 20.9],\n",
       "                {&quot;fillColor&quot;: &quot;#43d9de&quot;, &quot;radius&quot;: 8}\n",
       "            ).addTo(map_f8c610e1a3ac1df28dbca3de9c9ef95d);\n",
       "        \n",
       "    \n",
       "            var marker_af8371db3379f52acd5399efc832f0f3 = L.marker(\n",
       "                [52.16361111111111, 18.83611111111111],\n",
       "                {&quot;fillColor&quot;: &quot;#43d9de&quot;, &quot;radius&quot;: 8}\n",
       "            ).addTo(map_f8c610e1a3ac1df28dbca3de9c9ef95d);\n",
       "        \n",
       "    \n",
       "            var marker_dbd78fef462ae58c581cb042128cf8ea = L.marker(\n",
       "                [52.595, 19.271944444444443],\n",
       "                {&quot;fillColor&quot;: &quot;#43d9de&quot;, &quot;radius&quot;: 8}\n",
       "            ).addTo(map_f8c610e1a3ac1df28dbca3de9c9ef95d);\n",
       "        \n",
       "    \n",
       "            var marker_669175a37953ff8c5ee13b8936490ce6 = L.marker(\n",
       "                [51.57666666666667, 21.133055555555558],\n",
       "                {&quot;fillColor&quot;: &quot;#43d9de&quot;, &quot;radius&quot;: 8}\n",
       "            ).addTo(map_f8c610e1a3ac1df28dbca3de9c9ef95d);\n",
       "        \n",
       "    \n",
       "            var marker_eb3c5b27153758ffe7c577911dcd6d33 = L.marker(\n",
       "                [53.14833333333333, 21.652777777777775],\n",
       "                {&quot;fillColor&quot;: &quot;#43d9de&quot;, &quot;radius&quot;: 8}\n",
       "            ).addTo(map_f8c610e1a3ac1df28dbca3de9c9ef95d);\n",
       "        \n",
       "    \n",
       "            var marker_498dd041cccf8853ebd2a5b0b869853e = L.marker(\n",
       "                [51.76638888888889, 18.83722222222222],\n",
       "                {&quot;fillColor&quot;: &quot;#43d9de&quot;, &quot;radius&quot;: 8}\n",
       "            ).addTo(map_f8c610e1a3ac1df28dbca3de9c9ef95d);\n",
       "        \n",
       "    \n",
       "            var marker_9d3272a20f61c4e8e89e5be3d452e73e = L.marker(\n",
       "                [51.664722222222224, 18.495],\n",
       "                {&quot;fillColor&quot;: &quot;#43d9de&quot;, &quot;radius&quot;: 8}\n",
       "            ).addTo(map_f8c610e1a3ac1df28dbca3de9c9ef95d);\n",
       "        \n",
       "    \n",
       "            var marker_71ee18a22c401989c1bedc7939bbc2e4 = L.marker(\n",
       "                [54.00111111111111, 17.114722222222223],\n",
       "                {&quot;fillColor&quot;: &quot;#43d9de&quot;, &quot;radius&quot;: 8}\n",
       "            ).addTo(map_f8c610e1a3ac1df28dbca3de9c9ef95d);\n",
       "        \n",
       "    \n",
       "            var marker_43c707e9c59e6c665e61b47b6c524d9d = L.marker(\n",
       "                [52.99888888888889, 19.123055555555556],\n",
       "                {&quot;fillColor&quot;: &quot;#43d9de&quot;, &quot;radius&quot;: 8}\n",
       "            ).addTo(map_f8c610e1a3ac1df28dbca3de9c9ef95d);\n",
       "        \n",
       "    \n",
       "            var marker_a6a4539fb217e8274361a49413370397 = L.marker(\n",
       "                [51.76777777777777, 22.566944444444445],\n",
       "                {&quot;fillColor&quot;: &quot;#43d9de&quot;, &quot;radius&quot;: 8}\n",
       "            ).addTo(map_f8c610e1a3ac1df28dbca3de9c9ef95d);\n",
       "        \n",
       "    \n",
       "            var marker_47481461af22804d043247e561687c3c = L.marker(\n",
       "                [51.509166666666665, 23.481666666666666],\n",
       "                {&quot;fillColor&quot;: &quot;#43d9de&quot;, &quot;radius&quot;: 8}\n",
       "            ).addTo(map_f8c610e1a3ac1df28dbca3de9c9ef95d);\n",
       "        \n",
       "    \n",
       "            var marker_2b9929c92b2eb8e3c5093bb6e94e823d = L.marker(\n",
       "                [49.675, 19.37388888888889],\n",
       "                {&quot;fillColor&quot;: &quot;#43d9de&quot;, &quot;radius&quot;: 8}\n",
       "            ).addTo(map_f8c610e1a3ac1df28dbca3de9c9ef95d);\n",
       "        \n",
       "    \n",
       "            var marker_57f1e51886b602f7e725e81d9e99ba4a = L.marker(\n",
       "                [53.51416666666667, 17.699166666666667],\n",
       "                {&quot;fillColor&quot;: &quot;#43d9de&quot;, &quot;radius&quot;: 8}\n",
       "            ).addTo(map_f8c610e1a3ac1df28dbca3de9c9ef95d);\n",
       "        \n",
       "    \n",
       "            var marker_3556cd5b935b63cce3addfad3037c48b = L.marker(\n",
       "                [49.76583333333333, 19.636666666666667],\n",
       "                {&quot;fillColor&quot;: &quot;#43d9de&quot;, &quot;radius&quot;: 8}\n",
       "            ).addTo(map_f8c610e1a3ac1df28dbca3de9c9ef95d);\n",
       "        \n",
       "    \n",
       "            var marker_fa2537ad8bad7683dc231fa4fecac101 = L.marker(\n",
       "                [49.757222222222225, 19.717499999999998],\n",
       "                {&quot;fillColor&quot;: &quot;#43d9de&quot;, &quot;radius&quot;: 8}\n",
       "            ).addTo(map_f8c610e1a3ac1df28dbca3de9c9ef95d);\n",
       "        \n",
       "    \n",
       "            var marker_cb3291afd106b25fdc9b5f0692d8fc50 = L.marker(\n",
       "                [49.48861111111111, 19.648333333333333],\n",
       "                {&quot;fillColor&quot;: &quot;#43d9de&quot;, &quot;radius&quot;: 8}\n",
       "            ).addTo(map_f8c610e1a3ac1df28dbca3de9c9ef95d);\n",
       "        \n",
       "    \n",
       "            var marker_dc9dfd6851d48ba5cc8c8885bc2c5127 = L.marker(\n",
       "                [49.7175, 19.761111111111113],\n",
       "                {&quot;fillColor&quot;: &quot;#43d9de&quot;, &quot;radius&quot;: 8}\n",
       "            ).addTo(map_f8c610e1a3ac1df28dbca3de9c9ef95d);\n",
       "        \n",
       "    \n",
       "            var marker_32d812873b09794297ff0a400166f3d1 = L.marker(\n",
       "                [52.26444444444444, 20.205555555555556],\n",
       "                {&quot;fillColor&quot;: &quot;#43d9de&quot;, &quot;radius&quot;: 8}\n",
       "            ).addTo(map_f8c610e1a3ac1df28dbca3de9c9ef95d);\n",
       "        \n",
       "    \n",
       "            var marker_7563a1f0a0e01637bf3ab5b344c43509 = L.marker(\n",
       "                [53.96611111111111, 23.305],\n",
       "                {&quot;fillColor&quot;: &quot;#43d9de&quot;, &quot;radius&quot;: 8}\n",
       "            ).addTo(map_f8c610e1a3ac1df28dbca3de9c9ef95d);\n",
       "        \n",
       "    \n",
       "            var marker_dcc59563e4a4aa55d5cb1746a3ca6eca = L.marker(\n",
       "                [50.51638888888889, 18.297500000000003],\n",
       "                {&quot;fillColor&quot;: &quot;#43d9de&quot;, &quot;radius&quot;: 8}\n",
       "            ).addTo(map_f8c610e1a3ac1df28dbca3de9c9ef95d);\n",
       "        \n",
       "    \n",
       "            var marker_34e03f5bc14279e70ff3e2bcd6821e54 = L.marker(\n",
       "                [50.13027777777778, 18.331666666666667],\n",
       "                {&quot;fillColor&quot;: &quot;#43d9de&quot;, &quot;radius&quot;: 8}\n",
       "            ).addTo(map_f8c610e1a3ac1df28dbca3de9c9ef95d);\n",
       "        \n",
       "    \n",
       "            var marker_fb6131a2fb52792319afd34ad99cdb4a = L.marker(\n",
       "                [52.23444444444444, 19.298055555555557],\n",
       "                {&quot;fillColor&quot;: &quot;#43d9de&quot;, &quot;radius&quot;: 8}\n",
       "            ).addTo(map_f8c610e1a3ac1df28dbca3de9c9ef95d);\n",
       "        \n",
       "    \n",
       "            var marker_329541c28ff60dfcc3560a96c826f9d1 = L.marker(\n",
       "                [52.21277777777778, 19.323333333333334],\n",
       "                {&quot;fillColor&quot;: &quot;#43d9de&quot;, &quot;radius&quot;: 8}\n",
       "            ).addTo(map_f8c610e1a3ac1df28dbca3de9c9ef95d);\n",
       "        \n",
       "    \n",
       "            var marker_b4590f64e870b05af16c6625d022e296 = L.marker(\n",
       "                [51.94083333333333, 20.480833333333333],\n",
       "                {&quot;fillColor&quot;: &quot;#43d9de&quot;, &quot;radius&quot;: 8}\n",
       "            ).addTo(map_f8c610e1a3ac1df28dbca3de9c9ef95d);\n",
       "        \n",
       "    \n",
       "            var marker_574a32c0fcde7fd9c110ffcd4808d0b4 = L.marker(\n",
       "                [50.37861111111111, 19.853611111111114],\n",
       "                {&quot;fillColor&quot;: &quot;#43d9de&quot;, &quot;radius&quot;: 8}\n",
       "            ).addTo(map_f8c610e1a3ac1df28dbca3de9c9ef95d);\n",
       "        \n",
       "    \n",
       "            var marker_f6b265aeb1596a9ee497c1b4b68fefa9 = L.marker(\n",
       "                [54.177499999999995, 23.128055555555555],\n",
       "                {&quot;fillColor&quot;: &quot;#43d9de&quot;, &quot;radius&quot;: 8}\n",
       "            ).addTo(map_f8c610e1a3ac1df28dbca3de9c9ef95d);\n",
       "        \n",
       "    \n",
       "            var marker_1fe83439692b376fad3895fc454c443a = L.marker(\n",
       "                [52.07027777777778, 20.63361111111111],\n",
       "                {&quot;fillColor&quot;: &quot;#43d9de&quot;, &quot;radius&quot;: 8}\n",
       "            ).addTo(map_f8c610e1a3ac1df28dbca3de9c9ef95d);\n",
       "        \n",
       "    \n",
       "            var marker_bc899cbd4716d2dc5b2e569afb0786ec = L.marker(\n",
       "                [52.07, 20.638333333333332],\n",
       "                {&quot;fillColor&quot;: &quot;#43d9de&quot;, &quot;radius&quot;: 8}\n",
       "            ).addTo(map_f8c610e1a3ac1df28dbca3de9c9ef95d);\n",
       "        \n",
       "    \n",
       "            var marker_be42552411e285125b1ddb5b7b50b29b = L.marker(\n",
       "                [52.07472222222223, 20.641388888888887],\n",
       "                {&quot;fillColor&quot;: &quot;#43d9de&quot;, &quot;radius&quot;: 8}\n",
       "            ).addTo(map_f8c610e1a3ac1df28dbca3de9c9ef95d);\n",
       "        \n",
       "    \n",
       "            var marker_88292bac640343116054e48eeaaa6c8b = L.marker(\n",
       "                [51.909166666666664, 16.431944444444447],\n",
       "                {&quot;fillColor&quot;: &quot;#43d9de&quot;, &quot;radius&quot;: 8}\n",
       "            ).addTo(map_f8c610e1a3ac1df28dbca3de9c9ef95d);\n",
       "        \n",
       "    \n",
       "            var marker_d641b2212172c24e1de22f8aa352ca34 = L.marker(\n",
       "                [51.96361111111111, 16.690555555555555],\n",
       "                {&quot;fillColor&quot;: &quot;#43d9de&quot;, &quot;radius&quot;: 8}\n",
       "            ).addTo(map_f8c610e1a3ac1df28dbca3de9c9ef95d);\n",
       "        \n",
       "    \n",
       "            var marker_dee0aa67fc0976ca6de3e88dae53af32 = L.marker(\n",
       "                [52.093333333333334, 16.126944444444444],\n",
       "                {&quot;fillColor&quot;: &quot;#43d9de&quot;, &quot;radius&quot;: 8}\n",
       "            ).addTo(map_f8c610e1a3ac1df28dbca3de9c9ef95d);\n",
       "        \n",
       "    \n",
       "            var marker_e891aa1e7e62e5ba13c216c0532ac682 = L.marker(\n",
       "                [52.44888888888889, 18.049166666666668],\n",
       "                {&quot;fillColor&quot;: &quot;#43d9de&quot;, &quot;radius&quot;: 8}\n",
       "            ).addTo(map_f8c610e1a3ac1df28dbca3de9c9ef95d);\n",
       "        \n",
       "    \n",
       "            var marker_6dc41c8d57192400e93395fbec93ec9b = L.marker(\n",
       "                [54.154444444444444, 19.261388888888888],\n",
       "                {&quot;fillColor&quot;: &quot;#43d9de&quot;, &quot;radius&quot;: 8}\n",
       "            ).addTo(map_f8c610e1a3ac1df28dbca3de9c9ef95d);\n",
       "        \n",
       "    \n",
       "            var marker_705177940297fd2d20143b2c4abc36bb = L.marker(\n",
       "                [53.90611111111111, 19.378888888888888],\n",
       "                {&quot;fillColor&quot;: &quot;#43d9de&quot;, &quot;radius&quot;: 8}\n",
       "            ).addTo(map_f8c610e1a3ac1df28dbca3de9c9ef95d);\n",
       "        \n",
       "    \n",
       "            var marker_4eff8293271c983a82f436bc788421c8 = L.marker(\n",
       "                [53.71027777777778, 19.3475],\n",
       "                {&quot;fillColor&quot;: &quot;#43d9de&quot;, &quot;radius&quot;: 8}\n",
       "            ).addTo(map_f8c610e1a3ac1df28dbca3de9c9ef95d);\n",
       "        \n",
       "    \n",
       "            var marker_dfe7fba12231a2fdfd1c1326dcbf19df = L.marker(\n",
       "                [53.38861111111111, 17.304444444444446],\n",
       "                {&quot;fillColor&quot;: &quot;#43d9de&quot;, &quot;radius&quot;: 8}\n",
       "            ).addTo(map_f8c610e1a3ac1df28dbca3de9c9ef95d);\n",
       "        \n",
       "    \n",
       "            var marker_1adb0e17908c95dcb86201e5fbcc7ba2 = L.marker(\n",
       "                [52.78111111111111, 18.756666666666668],\n",
       "                {&quot;fillColor&quot;: &quot;#43d9de&quot;, &quot;radius&quot;: 8}\n",
       "            ).addTo(map_f8c610e1a3ac1df28dbca3de9c9ef95d);\n",
       "        \n",
       "    \n",
       "            var marker_b5ff1d75d8233b43c76a11ec3b3ca6b2 = L.marker(\n",
       "                [53.42777777777778, 19.16444444444444],\n",
       "                {&quot;fillColor&quot;: &quot;#43d9de&quot;, &quot;radius&quot;: 8}\n",
       "            ).addTo(map_f8c610e1a3ac1df28dbca3de9c9ef95d);\n",
       "        \n",
       "    \n",
       "            var marker_2cdcf78d1f05f1463e89128b9b664eda = L.marker(\n",
       "                [52.94944444444444, 19.276666666666667],\n",
       "                {&quot;fillColor&quot;: &quot;#43d9de&quot;, &quot;radius&quot;: 8}\n",
       "            ).addTo(map_f8c610e1a3ac1df28dbca3de9c9ef95d);\n",
       "        \n",
       "    \n",
       "            var marker_727055c2e68c68dc6c93b27d05522910 = L.marker(\n",
       "                [52.84277777777778, 19.486666666666668],\n",
       "                {&quot;fillColor&quot;: &quot;#43d9de&quot;, &quot;radius&quot;: 8}\n",
       "            ).addTo(map_f8c610e1a3ac1df28dbca3de9c9ef95d);\n",
       "        \n",
       "    \n",
       "            var marker_55cdee7e3e01de2943152063a50c1ee6 = L.marker(\n",
       "                [53.18055555555555, 19.92027777777778],\n",
       "                {&quot;fillColor&quot;: &quot;#43d9de&quot;, &quot;radius&quot;: 8}\n",
       "            ).addTo(map_f8c610e1a3ac1df28dbca3de9c9ef95d);\n",
       "        \n",
       "    \n",
       "            var marker_d1fb6a0bb53241d005e934872d9f0f23 = L.marker(\n",
       "                [52.91166666666666, 19.89361111111111],\n",
       "                {&quot;fillColor&quot;: &quot;#43d9de&quot;, &quot;radius&quot;: 8}\n",
       "            ).addTo(map_f8c610e1a3ac1df28dbca3de9c9ef95d);\n",
       "        \n",
       "    \n",
       "            var marker_ce7b139f7c7599f18734f49abbee5698 = L.marker(\n",
       "                [52.91444444444444, 20.177500000000002],\n",
       "                {&quot;fillColor&quot;: &quot;#43d9de&quot;, &quot;radius&quot;: 8}\n",
       "            ).addTo(map_f8c610e1a3ac1df28dbca3de9c9ef95d);\n",
       "        \n",
       "    \n",
       "            var marker_79be620cc0ceb3160947b02b88c86f4a = L.marker(\n",
       "                [52.91361111111111, 21.275],\n",
       "                {&quot;fillColor&quot;: &quot;#43d9de&quot;, &quot;radius&quot;: 8}\n",
       "            ).addTo(map_f8c610e1a3ac1df28dbca3de9c9ef95d);\n",
       "        \n",
       "    \n",
       "            var marker_693309ba6c27fae834016a43d854c449 = L.marker(\n",
       "                [52.66305555555555, 20.7],\n",
       "                {&quot;fillColor&quot;: &quot;#43d9de&quot;, &quot;radius&quot;: 8}\n",
       "            ).addTo(map_f8c610e1a3ac1df28dbca3de9c9ef95d);\n",
       "        \n",
       "    \n",
       "            var marker_754a4d588f8a5384f6bd65f6c9816671 = L.marker(\n",
       "                [52.66166666666666, 22.453055555555554],\n",
       "                {&quot;fillColor&quot;: &quot;#43d9de&quot;, &quot;radius&quot;: 8}\n",
       "            ).addTo(map_f8c610e1a3ac1df28dbca3de9c9ef95d);\n",
       "        \n",
       "    \n",
       "            var marker_62e4ab0250822b733bb79302d47eda91 = L.marker(\n",
       "                [53.87, 20.990555555555556],\n",
       "                {&quot;fillColor&quot;: &quot;#43d9de&quot;, &quot;radius&quot;: 8}\n",
       "            ).addTo(map_f8c610e1a3ac1df28dbca3de9c9ef95d);\n",
       "        \n",
       "    \n",
       "            var marker_551eedf17ee40d41ac08f3528db24f7e = L.marker(\n",
       "                [52.56888888888889, 20.6075],\n",
       "                {&quot;fillColor&quot;: &quot;#43d9de&quot;, &quot;radius&quot;: 8}\n",
       "            ).addTo(map_f8c610e1a3ac1df28dbca3de9c9ef95d);\n",
       "        \n",
       "    \n",
       "            var marker_6d22bc339fdcc21789e7e1915d63a510 = L.marker(\n",
       "                [52.573055555555555, 20.889722222222222],\n",
       "                {&quot;fillColor&quot;: &quot;#43d9de&quot;, &quot;radius&quot;: 8}\n",
       "            ).addTo(map_f8c610e1a3ac1df28dbca3de9c9ef95d);\n",
       "        \n",
       "    \n",
       "            var marker_cd44f31efe4b62585d63b9ce3e58e67e = L.marker(\n",
       "                [53.58777777777778, 22.329722222222223],\n",
       "                {&quot;fillColor&quot;: &quot;#43d9de&quot;, &quot;radius&quot;: 8}\n",
       "            ).addTo(map_f8c610e1a3ac1df28dbca3de9c9ef95d);\n",
       "        \n",
       "    \n",
       "            var marker_6aa0d726e464ba11b159d1b2a07eac16 = L.marker(\n",
       "                [52.36472222222223, 23.123055555555556],\n",
       "                {&quot;fillColor&quot;: &quot;#43d9de&quot;, &quot;radius&quot;: 8}\n",
       "            ).addTo(map_f8c610e1a3ac1df28dbca3de9c9ef95d);\n",
       "        \n",
       "    \n",
       "            var marker_59d02872cb2d223bfd6dfd8039e2381e = L.marker(\n",
       "                [52.35944444444445, 23.12777777777778],\n",
       "                {&quot;fillColor&quot;: &quot;#43d9de&quot;, &quot;radius&quot;: 8}\n",
       "            ).addTo(map_f8c610e1a3ac1df28dbca3de9c9ef95d);\n",
       "        \n",
       "    \n",
       "            var marker_ff8c77d2036e948ca077e8d3636dcd9a = L.marker(\n",
       "                [52.734722222222224, 21.493333333333336],\n",
       "                {&quot;fillColor&quot;: &quot;#43d9de&quot;, &quot;radius&quot;: 8}\n",
       "            ).addTo(map_f8c610e1a3ac1df28dbca3de9c9ef95d);\n",
       "        \n",
       "    \n",
       "            var marker_a3f1aa94c5865d546e4fa5a3d18f2658 = L.marker(\n",
       "                [54.16166666666666, 19.329722222222223],\n",
       "                {&quot;fillColor&quot;: &quot;#43d9de&quot;, &quot;radius&quot;: 8}\n",
       "            ).addTo(map_f8c610e1a3ac1df28dbca3de9c9ef95d);\n",
       "        \n",
       "    \n",
       "            var marker_7acf1c828335b25df448ab9dba0adaa9 = L.marker(\n",
       "                [52.36277777777778, 23.122222222222224],\n",
       "                {&quot;fillColor&quot;: &quot;#43d9de&quot;, &quot;radius&quot;: 8}\n",
       "            ).addTo(map_f8c610e1a3ac1df28dbca3de9c9ef95d);\n",
       "        \n",
       "    \n",
       "            var marker_9760bbc28145c592c4a1caf0f5ecb332 = L.marker(\n",
       "                [52.26083333333333, 18.094444444444445],\n",
       "                {&quot;fillColor&quot;: &quot;#43d9de&quot;, &quot;radius&quot;: 8}\n",
       "            ).addTo(map_f8c610e1a3ac1df28dbca3de9c9ef95d);\n",
       "        \n",
       "    \n",
       "            var marker_728f7f8387da785bc22d15b622706931 = L.marker(\n",
       "                [52.153888888888886, 18.363055555555558],\n",
       "                {&quot;fillColor&quot;: &quot;#43d9de&quot;, &quot;radius&quot;: 8}\n",
       "            ).addTo(map_f8c610e1a3ac1df28dbca3de9c9ef95d);\n",
       "        \n",
       "    \n",
       "            var marker_040f445318fde8c0e70bed9ffe873fe7 = L.marker(\n",
       "                [52.192499999999995, 18.935555555555556],\n",
       "                {&quot;fillColor&quot;: &quot;#43d9de&quot;, &quot;radius&quot;: 8}\n",
       "            ).addTo(map_f8c610e1a3ac1df28dbca3de9c9ef95d);\n",
       "        \n",
       "    \n",
       "            var marker_d0da13bc11d44ba6db95f1556f8cf9d8 = L.marker(\n",
       "                [52.340833333333336, 19.644444444444446],\n",
       "                {&quot;fillColor&quot;: &quot;#43d9de&quot;, &quot;radius&quot;: 8}\n",
       "            ).addTo(map_f8c610e1a3ac1df28dbca3de9c9ef95d);\n",
       "        \n",
       "    \n",
       "            var marker_51025f151317650608ee63b02b300416 = L.marker(\n",
       "                [52.285, 19.570555555555554],\n",
       "                {&quot;fillColor&quot;: &quot;#43d9de&quot;, &quot;radius&quot;: 8}\n",
       "            ).addTo(map_f8c610e1a3ac1df28dbca3de9c9ef95d);\n",
       "        \n",
       "    \n",
       "            var marker_927b0fc9572ed8fbbc9d5c16e98053f1 = L.marker(\n",
       "                [52.18111111111111, 19.20638888888889],\n",
       "                {&quot;fillColor&quot;: &quot;#43d9de&quot;, &quot;radius&quot;: 8}\n",
       "            ).addTo(map_f8c610e1a3ac1df28dbca3de9c9ef95d);\n",
       "        \n",
       "&lt;/script&gt;\n",
       "&lt;/html&gt;\" style=\"position:absolute;width:100%;height:100%;left:0;top:0;border:none !important;\" allowfullscreen webkitallowfullscreen mozallowfullscreen></iframe></div></div>"
      ],
      "text/plain": [
       "<folium.folium.Map at 0x195dee6f910>"
      ]
     },
     "execution_count": 205,
     "metadata": {},
     "output_type": "execute_result"
    }
   ],
   "source": [
    "\n",
    "mapit = folium.Map( location=[52.667989, 19.464582], zoom_start=6 )\n",
    "\n",
    "x, y = df[\"dd_lon\"].values[:1000].tolist(), df[\"dd_lat\"].values[:1000].tolist()\n",
    "\n",
    "for i in range(100):\n",
    "    folium.Marker( location=[ y[i], x[i] ], fill_color='#43d9de', radius=8 ).add_to( mapit )\n",
    "\n",
    "mapit"
   ]
  },
  {
   "cell_type": "code",
   "execution_count": 220,
   "metadata": {},
   "outputs": [
    {
     "ename": "TypeError",
     "evalue": "Object of type Icon is not JSON serializable",
     "output_type": "error",
     "traceback": [
      "\u001b[1;31m---------------------------------------------------------------------------\u001b[0m",
      "\u001b[1;31mTypeError\u001b[0m                                 Traceback (most recent call last)",
      "File \u001b[1;32mc:\\Python\\Projects-ML\\Towns Visualizer\\venv\\lib\\site-packages\\IPython\\core\\formatters.py:344\u001b[0m, in \u001b[0;36mBaseFormatter.__call__\u001b[1;34m(self, obj)\u001b[0m\n\u001b[0;32m    342\u001b[0m     method \u001b[39m=\u001b[39m get_real_method(obj, \u001b[39mself\u001b[39m\u001b[39m.\u001b[39mprint_method)\n\u001b[0;32m    343\u001b[0m     \u001b[39mif\u001b[39;00m method \u001b[39mis\u001b[39;00m \u001b[39mnot\u001b[39;00m \u001b[39mNone\u001b[39;00m:\n\u001b[1;32m--> 344\u001b[0m         \u001b[39mreturn\u001b[39;00m method()\n\u001b[0;32m    345\u001b[0m     \u001b[39mreturn\u001b[39;00m \u001b[39mNone\u001b[39;00m\n\u001b[0;32m    346\u001b[0m \u001b[39melse\u001b[39;00m:\n",
      "File \u001b[1;32mc:\\Python\\Projects-ML\\Towns Visualizer\\venv\\lib\\site-packages\\folium\\folium.py:319\u001b[0m, in \u001b[0;36mMap._repr_html_\u001b[1;34m(self, **kwargs)\u001b[0m\n\u001b[0;32m    317\u001b[0m     \u001b[39mself\u001b[39m\u001b[39m.\u001b[39m_parent \u001b[39m=\u001b[39m \u001b[39mNone\u001b[39;00m\n\u001b[0;32m    318\u001b[0m \u001b[39melse\u001b[39;00m:\n\u001b[1;32m--> 319\u001b[0m     out \u001b[39m=\u001b[39m \u001b[39mself\u001b[39m\u001b[39m.\u001b[39m_parent\u001b[39m.\u001b[39m_repr_html_(\u001b[39m*\u001b[39m\u001b[39m*\u001b[39mkwargs)\n\u001b[0;32m    320\u001b[0m \u001b[39mreturn\u001b[39;00m out\n",
      "File \u001b[1;32mc:\\Python\\Projects-ML\\Towns Visualizer\\venv\\lib\\site-packages\\branca\\element.py:343\u001b[0m, in \u001b[0;36mFigure._repr_html_\u001b[1;34m(self, **kwargs)\u001b[0m\n\u001b[0;32m    341\u001b[0m \u001b[39mdef\u001b[39;00m \u001b[39m_repr_html_\u001b[39m(\u001b[39mself\u001b[39m, \u001b[39m*\u001b[39m\u001b[39m*\u001b[39mkwargs):\n\u001b[0;32m    342\u001b[0m \u001b[39m    \u001b[39m\u001b[39m\"\"\"Displays the Figure in a Jupyter notebook.\"\"\"\u001b[39;00m\n\u001b[1;32m--> 343\u001b[0m     html \u001b[39m=\u001b[39m escape(\u001b[39mself\u001b[39m\u001b[39m.\u001b[39mrender(\u001b[39m*\u001b[39m\u001b[39m*\u001b[39mkwargs))\n\u001b[0;32m    344\u001b[0m     \u001b[39mif\u001b[39;00m \u001b[39mself\u001b[39m\u001b[39m.\u001b[39mheight \u001b[39mis\u001b[39;00m \u001b[39mNone\u001b[39;00m:\n\u001b[0;32m    345\u001b[0m         iframe \u001b[39m=\u001b[39m (\n\u001b[0;32m    346\u001b[0m             \u001b[39m'\u001b[39m\u001b[39m<div style=\u001b[39m\u001b[39m\"\u001b[39m\u001b[39mwidth:\u001b[39m\u001b[39m{width}\u001b[39;00m\u001b[39m;\u001b[39m\u001b[39m\"\u001b[39m\u001b[39m>\u001b[39m\u001b[39m'\u001b[39m\n\u001b[0;32m    347\u001b[0m             \u001b[39m'\u001b[39m\u001b[39m<div style=\u001b[39m\u001b[39m\"\u001b[39m\u001b[39mposition:relative;width:100\u001b[39m\u001b[39m%\u001b[39m\u001b[39m;height:0;padding-bottom:\u001b[39m\u001b[39m{ratio}\u001b[39;00m\u001b[39m;\u001b[39m\u001b[39m\"\u001b[39m\u001b[39m>\u001b[39m\u001b[39m'\u001b[39m  \u001b[39m# noqa\u001b[39;00m\n\u001b[1;32m   (...)\u001b[0m\n\u001b[0;32m    353\u001b[0m             \u001b[39m'\u001b[39m\u001b[39m</div></div>\u001b[39m\u001b[39m'\u001b[39m\n\u001b[0;32m    354\u001b[0m         )\u001b[39m.\u001b[39mformat(html\u001b[39m=\u001b[39mhtml, width\u001b[39m=\u001b[39m\u001b[39mself\u001b[39m\u001b[39m.\u001b[39mwidth, ratio\u001b[39m=\u001b[39m\u001b[39mself\u001b[39m\u001b[39m.\u001b[39mratio)\n",
      "File \u001b[1;32mc:\\Python\\Projects-ML\\Towns Visualizer\\venv\\lib\\site-packages\\branca\\element.py:338\u001b[0m, in \u001b[0;36mFigure.render\u001b[1;34m(self, **kwargs)\u001b[0m\n\u001b[0;32m    336\u001b[0m \u001b[39m\u001b[39m\u001b[39m\"\"\"Renders the HTML representation of the element.\"\"\"\u001b[39;00m\n\u001b[0;32m    337\u001b[0m \u001b[39mfor\u001b[39;00m name, child \u001b[39min\u001b[39;00m \u001b[39mself\u001b[39m\u001b[39m.\u001b[39m_children\u001b[39m.\u001b[39mitems():\n\u001b[1;32m--> 338\u001b[0m     child\u001b[39m.\u001b[39mrender(\u001b[39m*\u001b[39m\u001b[39m*\u001b[39mkwargs)\n\u001b[0;32m    339\u001b[0m \u001b[39mreturn\u001b[39;00m \u001b[39mself\u001b[39m\u001b[39m.\u001b[39m_template\u001b[39m.\u001b[39mrender(this\u001b[39m=\u001b[39m\u001b[39mself\u001b[39m, kwargs\u001b[39m=\u001b[39mkwargs)\n",
      "File \u001b[1;32mc:\\Python\\Projects-ML\\Towns Visualizer\\venv\\lib\\site-packages\\folium\\folium.py:401\u001b[0m, in \u001b[0;36mMap.render\u001b[1;34m(self, **kwargs)\u001b[0m\n\u001b[0;32m    374\u001b[0m figure\u001b[39m.\u001b[39mheader\u001b[39m.\u001b[39madd_child(\n\u001b[0;32m    375\u001b[0m     Element(\n\u001b[0;32m    376\u001b[0m         \u001b[39m\"\u001b[39m\u001b[39m<style>html, body \u001b[39m\u001b[39m{\u001b[39m\u001b[39m\"\u001b[39m\n\u001b[1;32m   (...)\u001b[0m\n\u001b[0;32m    384\u001b[0m     name\u001b[39m=\u001b[39m\u001b[39m\"\u001b[39m\u001b[39mcss_style\u001b[39m\u001b[39m\"\u001b[39m,\n\u001b[0;32m    385\u001b[0m )\n\u001b[0;32m    387\u001b[0m figure\u001b[39m.\u001b[39mheader\u001b[39m.\u001b[39madd_child(\n\u001b[0;32m    388\u001b[0m     Element(\n\u001b[0;32m    389\u001b[0m         \u001b[39m\"\u001b[39m\u001b[39m<style>#map \u001b[39m\u001b[39m{\u001b[39m\u001b[39m\"\u001b[39m\n\u001b[1;32m   (...)\u001b[0m\n\u001b[0;32m    398\u001b[0m     name\u001b[39m=\u001b[39m\u001b[39m\"\u001b[39m\u001b[39mmap_style\u001b[39m\u001b[39m\"\u001b[39m,\n\u001b[0;32m    399\u001b[0m )\n\u001b[1;32m--> 401\u001b[0m \u001b[39msuper\u001b[39m()\u001b[39m.\u001b[39mrender(\u001b[39m*\u001b[39m\u001b[39m*\u001b[39mkwargs)\n",
      "File \u001b[1;32mc:\\Python\\Projects-ML\\Towns Visualizer\\venv\\lib\\site-packages\\folium\\elements.py:22\u001b[0m, in \u001b[0;36mJSCSSMixin.render\u001b[1;34m(self, **kwargs)\u001b[0m\n\u001b[0;32m     19\u001b[0m \u001b[39mfor\u001b[39;00m name, url \u001b[39min\u001b[39;00m \u001b[39mself\u001b[39m\u001b[39m.\u001b[39mdefault_css:\n\u001b[0;32m     20\u001b[0m     figure\u001b[39m.\u001b[39mheader\u001b[39m.\u001b[39madd_child(CssLink(url), name\u001b[39m=\u001b[39mname)\n\u001b[1;32m---> 22\u001b[0m \u001b[39msuper\u001b[39m()\u001b[39m.\u001b[39mrender(\u001b[39m*\u001b[39m\u001b[39m*\u001b[39mkwargs)\n",
      "File \u001b[1;32mc:\\Python\\Projects-ML\\Towns Visualizer\\venv\\lib\\site-packages\\branca\\element.py:645\u001b[0m, in \u001b[0;36mMacroElement.render\u001b[1;34m(self, **kwargs)\u001b[0m\n\u001b[0;32m    641\u001b[0m     figure\u001b[39m.\u001b[39mscript\u001b[39m.\u001b[39madd_child(Element(script(\u001b[39mself\u001b[39m, kwargs)),\n\u001b[0;32m    642\u001b[0m                             name\u001b[39m=\u001b[39m\u001b[39mself\u001b[39m\u001b[39m.\u001b[39mget_name())\n\u001b[0;32m    644\u001b[0m \u001b[39mfor\u001b[39;00m name, element \u001b[39min\u001b[39;00m \u001b[39mself\u001b[39m\u001b[39m.\u001b[39m_children\u001b[39m.\u001b[39mitems():\n\u001b[1;32m--> 645\u001b[0m     element\u001b[39m.\u001b[39mrender(\u001b[39m*\u001b[39m\u001b[39m*\u001b[39mkwargs)\n",
      "File \u001b[1;32mc:\\Python\\Projects-ML\\Towns Visualizer\\venv\\lib\\site-packages\\branca\\element.py:641\u001b[0m, in \u001b[0;36mMacroElement.render\u001b[1;34m(self, **kwargs)\u001b[0m\n\u001b[0;32m    639\u001b[0m script \u001b[39m=\u001b[39m \u001b[39mself\u001b[39m\u001b[39m.\u001b[39m_template\u001b[39m.\u001b[39mmodule\u001b[39m.\u001b[39m\u001b[39m__dict__\u001b[39m\u001b[39m.\u001b[39mget(\u001b[39m'\u001b[39m\u001b[39mscript\u001b[39m\u001b[39m'\u001b[39m, \u001b[39mNone\u001b[39;00m)\n\u001b[0;32m    640\u001b[0m \u001b[39mif\u001b[39;00m script \u001b[39mis\u001b[39;00m \u001b[39mnot\u001b[39;00m \u001b[39mNone\u001b[39;00m:\n\u001b[1;32m--> 641\u001b[0m     figure\u001b[39m.\u001b[39mscript\u001b[39m.\u001b[39madd_child(Element(script(\u001b[39mself\u001b[39;49m, kwargs)),\n\u001b[0;32m    642\u001b[0m                             name\u001b[39m=\u001b[39m\u001b[39mself\u001b[39m\u001b[39m.\u001b[39mget_name())\n\u001b[0;32m    644\u001b[0m \u001b[39mfor\u001b[39;00m name, element \u001b[39min\u001b[39;00m \u001b[39mself\u001b[39m\u001b[39m.\u001b[39m_children\u001b[39m.\u001b[39mitems():\n\u001b[0;32m    645\u001b[0m     element\u001b[39m.\u001b[39mrender(\u001b[39m*\u001b[39m\u001b[39m*\u001b[39mkwargs)\n",
      "File \u001b[1;32mc:\\Python\\Projects-ML\\Towns Visualizer\\venv\\lib\\site-packages\\jinja2\\runtime.py:763\u001b[0m, in \u001b[0;36mMacro.__call__\u001b[1;34m(self, *args, **kwargs)\u001b[0m\n\u001b[0;32m    757\u001b[0m \u001b[39melif\u001b[39;00m \u001b[39mlen\u001b[39m(args) \u001b[39m>\u001b[39m \u001b[39mself\u001b[39m\u001b[39m.\u001b[39m_argument_count:\n\u001b[0;32m    758\u001b[0m     \u001b[39mraise\u001b[39;00m \u001b[39mTypeError\u001b[39;00m(\n\u001b[0;32m    759\u001b[0m         \u001b[39mf\u001b[39m\u001b[39m\"\u001b[39m\u001b[39mmacro \u001b[39m\u001b[39m{\u001b[39;00m\u001b[39mself\u001b[39m\u001b[39m.\u001b[39mname\u001b[39m!r}\u001b[39;00m\u001b[39m takes not more than\u001b[39m\u001b[39m\"\u001b[39m\n\u001b[0;32m    760\u001b[0m         \u001b[39mf\u001b[39m\u001b[39m\"\u001b[39m\u001b[39m \u001b[39m\u001b[39m{\u001b[39;00m\u001b[39mlen\u001b[39m(\u001b[39mself\u001b[39m\u001b[39m.\u001b[39marguments)\u001b[39m}\u001b[39;00m\u001b[39m argument(s)\u001b[39m\u001b[39m\"\u001b[39m\n\u001b[0;32m    761\u001b[0m     )\n\u001b[1;32m--> 763\u001b[0m \u001b[39mreturn\u001b[39;00m \u001b[39mself\u001b[39;49m\u001b[39m.\u001b[39;49m_invoke(arguments, autoescape)\n",
      "File \u001b[1;32mc:\\Python\\Projects-ML\\Towns Visualizer\\venv\\lib\\site-packages\\jinja2\\runtime.py:777\u001b[0m, in \u001b[0;36mMacro._invoke\u001b[1;34m(self, arguments, autoescape)\u001b[0m\n\u001b[0;32m    774\u001b[0m \u001b[39mif\u001b[39;00m \u001b[39mself\u001b[39m\u001b[39m.\u001b[39m_environment\u001b[39m.\u001b[39mis_async:\n\u001b[0;32m    775\u001b[0m     \u001b[39mreturn\u001b[39;00m \u001b[39mself\u001b[39m\u001b[39m.\u001b[39m_async_invoke(arguments, autoescape)  \u001b[39m# type: ignore\u001b[39;00m\n\u001b[1;32m--> 777\u001b[0m rv \u001b[39m=\u001b[39m \u001b[39mself\u001b[39;49m\u001b[39m.\u001b[39;49m_func(\u001b[39m*\u001b[39;49marguments)\n\u001b[0;32m    779\u001b[0m \u001b[39mif\u001b[39;00m autoescape:\n\u001b[0;32m    780\u001b[0m     rv \u001b[39m=\u001b[39m Markup(rv)\n",
      "File \u001b[1;32m<template>:30\u001b[0m, in \u001b[0;36mmacro\u001b[1;34m(l_1_this, l_1_kwargs)\u001b[0m\n",
      "File \u001b[1;32mc:\\Python\\Projects-ML\\Towns Visualizer\\venv\\lib\\site-packages\\jinja2\\filters.py:1688\u001b[0m, in \u001b[0;36mdo_tojson\u001b[1;34m(eval_ctx, value, indent)\u001b[0m\n\u001b[0;32m   1685\u001b[0m     kwargs \u001b[39m=\u001b[39m kwargs\u001b[39m.\u001b[39mcopy()\n\u001b[0;32m   1686\u001b[0m     kwargs[\u001b[39m\"\u001b[39m\u001b[39mindent\u001b[39m\u001b[39m\"\u001b[39m] \u001b[39m=\u001b[39m indent\n\u001b[1;32m-> 1688\u001b[0m \u001b[39mreturn\u001b[39;00m htmlsafe_json_dumps(value, dumps\u001b[39m=\u001b[39mdumps, \u001b[39m*\u001b[39m\u001b[39m*\u001b[39mkwargs)\n",
      "File \u001b[1;32mc:\\Python\\Projects-ML\\Towns Visualizer\\venv\\lib\\site-packages\\jinja2\\utils.py:658\u001b[0m, in \u001b[0;36mhtmlsafe_json_dumps\u001b[1;34m(obj, dumps, **kwargs)\u001b[0m\n\u001b[0;32m    654\u001b[0m \u001b[39mif\u001b[39;00m dumps \u001b[39mis\u001b[39;00m \u001b[39mNone\u001b[39;00m:\n\u001b[0;32m    655\u001b[0m     dumps \u001b[39m=\u001b[39m json\u001b[39m.\u001b[39mdumps\n\u001b[0;32m    657\u001b[0m \u001b[39mreturn\u001b[39;00m markupsafe\u001b[39m.\u001b[39mMarkup(\n\u001b[1;32m--> 658\u001b[0m     dumps(obj, \u001b[39m*\u001b[39m\u001b[39m*\u001b[39mkwargs)\n\u001b[0;32m    659\u001b[0m     \u001b[39m.\u001b[39mreplace(\u001b[39m\"\u001b[39m\u001b[39m<\u001b[39m\u001b[39m\"\u001b[39m, \u001b[39m\"\u001b[39m\u001b[39m\\\\\u001b[39;00m\u001b[39mu003c\u001b[39m\u001b[39m\"\u001b[39m)\n\u001b[0;32m    660\u001b[0m     \u001b[39m.\u001b[39mreplace(\u001b[39m\"\u001b[39m\u001b[39m>\u001b[39m\u001b[39m\"\u001b[39m, \u001b[39m\"\u001b[39m\u001b[39m\\\\\u001b[39;00m\u001b[39mu003e\u001b[39m\u001b[39m\"\u001b[39m)\n\u001b[0;32m    661\u001b[0m     \u001b[39m.\u001b[39mreplace(\u001b[39m\"\u001b[39m\u001b[39m&\u001b[39m\u001b[39m\"\u001b[39m, \u001b[39m\"\u001b[39m\u001b[39m\\\\\u001b[39;00m\u001b[39mu0026\u001b[39m\u001b[39m\"\u001b[39m)\n\u001b[0;32m    662\u001b[0m     \u001b[39m.\u001b[39mreplace(\u001b[39m\"\u001b[39m\u001b[39m'\u001b[39m\u001b[39m\"\u001b[39m, \u001b[39m\"\u001b[39m\u001b[39m\\\\\u001b[39;00m\u001b[39mu0027\u001b[39m\u001b[39m\"\u001b[39m)\n\u001b[0;32m    663\u001b[0m )\n",
      "File \u001b[1;32mC:\\Programy\\Python 3.10\\lib\\json\\__init__.py:238\u001b[0m, in \u001b[0;36mdumps\u001b[1;34m(obj, skipkeys, ensure_ascii, check_circular, allow_nan, cls, indent, separators, default, sort_keys, **kw)\u001b[0m\n\u001b[0;32m    232\u001b[0m \u001b[39mif\u001b[39;00m \u001b[39mcls\u001b[39m \u001b[39mis\u001b[39;00m \u001b[39mNone\u001b[39;00m:\n\u001b[0;32m    233\u001b[0m     \u001b[39mcls\u001b[39m \u001b[39m=\u001b[39m JSONEncoder\n\u001b[0;32m    234\u001b[0m \u001b[39mreturn\u001b[39;00m \u001b[39mcls\u001b[39;49m(\n\u001b[0;32m    235\u001b[0m     skipkeys\u001b[39m=\u001b[39;49mskipkeys, ensure_ascii\u001b[39m=\u001b[39;49mensure_ascii,\n\u001b[0;32m    236\u001b[0m     check_circular\u001b[39m=\u001b[39;49mcheck_circular, allow_nan\u001b[39m=\u001b[39;49mallow_nan, indent\u001b[39m=\u001b[39;49mindent,\n\u001b[0;32m    237\u001b[0m     separators\u001b[39m=\u001b[39;49mseparators, default\u001b[39m=\u001b[39;49mdefault, sort_keys\u001b[39m=\u001b[39;49msort_keys,\n\u001b[1;32m--> 238\u001b[0m     \u001b[39m*\u001b[39;49m\u001b[39m*\u001b[39;49mkw)\u001b[39m.\u001b[39;49mencode(obj)\n",
      "File \u001b[1;32mC:\\Programy\\Python 3.10\\lib\\json\\encoder.py:199\u001b[0m, in \u001b[0;36mJSONEncoder.encode\u001b[1;34m(self, o)\u001b[0m\n\u001b[0;32m    195\u001b[0m         \u001b[39mreturn\u001b[39;00m encode_basestring(o)\n\u001b[0;32m    196\u001b[0m \u001b[39m# This doesn't pass the iterator directly to ''.join() because the\u001b[39;00m\n\u001b[0;32m    197\u001b[0m \u001b[39m# exceptions aren't as detailed.  The list call should be roughly\u001b[39;00m\n\u001b[0;32m    198\u001b[0m \u001b[39m# equivalent to the PySequence_Fast that ''.join() would do.\u001b[39;00m\n\u001b[1;32m--> 199\u001b[0m chunks \u001b[39m=\u001b[39m \u001b[39mself\u001b[39;49m\u001b[39m.\u001b[39;49miterencode(o, _one_shot\u001b[39m=\u001b[39;49m\u001b[39mTrue\u001b[39;49;00m)\n\u001b[0;32m    200\u001b[0m \u001b[39mif\u001b[39;00m \u001b[39mnot\u001b[39;00m \u001b[39misinstance\u001b[39m(chunks, (\u001b[39mlist\u001b[39m, \u001b[39mtuple\u001b[39m)):\n\u001b[0;32m    201\u001b[0m     chunks \u001b[39m=\u001b[39m \u001b[39mlist\u001b[39m(chunks)\n",
      "File \u001b[1;32mC:\\Programy\\Python 3.10\\lib\\json\\encoder.py:257\u001b[0m, in \u001b[0;36mJSONEncoder.iterencode\u001b[1;34m(self, o, _one_shot)\u001b[0m\n\u001b[0;32m    252\u001b[0m \u001b[39melse\u001b[39;00m:\n\u001b[0;32m    253\u001b[0m     _iterencode \u001b[39m=\u001b[39m _make_iterencode(\n\u001b[0;32m    254\u001b[0m         markers, \u001b[39mself\u001b[39m\u001b[39m.\u001b[39mdefault, _encoder, \u001b[39mself\u001b[39m\u001b[39m.\u001b[39mindent, floatstr,\n\u001b[0;32m    255\u001b[0m         \u001b[39mself\u001b[39m\u001b[39m.\u001b[39mkey_separator, \u001b[39mself\u001b[39m\u001b[39m.\u001b[39mitem_separator, \u001b[39mself\u001b[39m\u001b[39m.\u001b[39msort_keys,\n\u001b[0;32m    256\u001b[0m         \u001b[39mself\u001b[39m\u001b[39m.\u001b[39mskipkeys, _one_shot)\n\u001b[1;32m--> 257\u001b[0m \u001b[39mreturn\u001b[39;00m _iterencode(o, \u001b[39m0\u001b[39;49m)\n",
      "File \u001b[1;32mC:\\Programy\\Python 3.10\\lib\\json\\encoder.py:179\u001b[0m, in \u001b[0;36mJSONEncoder.default\u001b[1;34m(self, o)\u001b[0m\n\u001b[0;32m    160\u001b[0m \u001b[39mdef\u001b[39;00m \u001b[39mdefault\u001b[39m(\u001b[39mself\u001b[39m, o):\n\u001b[0;32m    161\u001b[0m \u001b[39m    \u001b[39m\u001b[39m\"\"\"Implement this method in a subclass such that it returns\u001b[39;00m\n\u001b[0;32m    162\u001b[0m \u001b[39m    a serializable object for ``o``, or calls the base implementation\u001b[39;00m\n\u001b[0;32m    163\u001b[0m \u001b[39m    (to raise a ``TypeError``).\u001b[39;00m\n\u001b[1;32m   (...)\u001b[0m\n\u001b[0;32m    177\u001b[0m \n\u001b[0;32m    178\u001b[0m \u001b[39m    \"\"\"\u001b[39;00m\n\u001b[1;32m--> 179\u001b[0m     \u001b[39mraise\u001b[39;00m \u001b[39mTypeError\u001b[39;00m(\u001b[39mf\u001b[39m\u001b[39m'\u001b[39m\u001b[39mObject of type \u001b[39m\u001b[39m{\u001b[39;00mo\u001b[39m.\u001b[39m\u001b[39m__class__\u001b[39m\u001b[39m.\u001b[39m\u001b[39m__name__\u001b[39m\u001b[39m}\u001b[39;00m\u001b[39m \u001b[39m\u001b[39m'\u001b[39m\n\u001b[0;32m    180\u001b[0m                     \u001b[39mf\u001b[39m\u001b[39m'\u001b[39m\u001b[39mis not JSON serializable\u001b[39m\u001b[39m'\u001b[39m)\n",
      "\u001b[1;31mTypeError\u001b[0m: Object of type Icon is not JSON serializable"
     ]
    },
    {
     "data": {
      "text/plain": [
       "<folium.folium.Map at 0x196063e8a90>"
      ]
     },
     "execution_count": 220,
     "metadata": {},
     "output_type": "execute_result"
    }
   ],
   "source": [
    "\n",
    "mapit = folium.Map( location=[52.667989, 19.464582], zoom_start=6 )\n",
    "\n",
    "x, y = df[df[\"name\"].str[-3:] == \"owo\"][\"dd_lon\"].values[:1000].tolist(), df[df[\"name\"].str[-3:] == \"owo\"][\"dd_lat\"].values[:1000].tolist()\n",
    "\n",
    "for i in range(1000):\n",
    "    folium.Marker( location=[ y[i], x[i] ], icon=folium.Icon(color='red',icon_color='#FFFF00')).add_to( mapit )\n",
    "\n",
    "x, y = df[df[\"name\"].str[-2:] == \"ów\"][\"dd_lon\"].values[:1000].tolist(), df[df[\"name\"].str[-2:] == \"ów\"][\"dd_lat\"].values[:1000].tolist()\n",
    "    # plt.plot(x, y, 'ok', markersize=5)\n",
    "\n",
    "for i in range(1000):\n",
    "    folium.Icon( location=[ y[i], x[i] ], radius=8, icon=folium.Icon(icon=\"circle\", color='black',icon_color='#FFFF00')).add_to( mapit )\n",
    "\n",
    "mapit"
   ]
  },
  {
   "cell_type": "markdown",
   "metadata": {},
   "source": [
    "# 3. Plotly + Mapbox"
   ]
  }
 ],
 "metadata": {
  "kernelspec": {
   "display_name": "venv",
   "language": "python",
   "name": "python3"
  },
  "language_info": {
   "codemirror_mode": {
    "name": "ipython",
    "version": 3
   },
   "file_extension": ".py",
   "mimetype": "text/x-python",
   "name": "python",
   "nbconvert_exporter": "python",
   "pygments_lexer": "ipython3",
   "version": "3.10.7"
  },
  "orig_nbformat": 4
 },
 "nbformat": 4,
 "nbformat_minor": 2
}
